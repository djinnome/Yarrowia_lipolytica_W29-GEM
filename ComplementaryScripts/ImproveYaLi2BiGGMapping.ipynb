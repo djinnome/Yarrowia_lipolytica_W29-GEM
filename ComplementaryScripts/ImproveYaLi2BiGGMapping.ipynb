{
 "cells": [
  {
   "cell_type": "code",
   "execution_count": 1,
   "metadata": {},
   "outputs": [],
   "source": [
    "from cobra.io import read_sbml_model\n",
    "from six import string_types\n",
    "import re"
   ]
  },
  {
   "cell_type": "code",
   "execution_count": 2,
   "metadata": {},
   "outputs": [],
   "source": [
    "yali = read_sbml_model(\"../ModelFiles/xml/iYali.xml\")"
   ]
  },
  {
   "cell_type": "code",
   "execution_count": 3,
   "metadata": {},
   "outputs": [
    {
     "data": {
      "text/plain": [
       "385"
      ]
     },
     "execution_count": 3,
     "metadata": {},
     "output_type": "execute_result"
    }
   ],
   "source": [
    "pattern = re.compile('s_[0-9]+')\n",
    "unmapped_mets = [met for met in yali.metabolites if re.findall(pattern, met.id)]\n",
    "len(unmapped_mets)"
   ]
  },
  {
   "cell_type": "code",
   "execution_count": 4,
   "metadata": {},
   "outputs": [
    {
     "data": {
      "text/plain": [
       "1543"
      ]
     },
     "execution_count": 4,
     "metadata": {},
     "output_type": "execute_result"
    }
   ],
   "source": [
    "pattern = re.compile('y[0-9]+')\n",
    "unmapped_rxns = [rxn for rxn in yali.reactions if re.findall(pattern, rxn.id)]\n",
    "len(unmapped_rxns)"
   ]
  },
  {
   "cell_type": "code",
   "execution_count": 5,
   "metadata": {},
   "outputs": [],
   "source": [
    "iMM904 = read_sbml_model(\"../../../Downloads/iMM904.xml\")"
   ]
  },
  {
   "cell_type": "markdown",
   "metadata": {},
   "source": [
    "If the name of a metabolite in iYali matches a name in iMM904 then transfer the BiGG and MetaNetX IDs of the latter to the former."
   ]
  },
  {
   "cell_type": "code",
   "execution_count": 6,
   "metadata": {},
   "outputs": [
    {
     "name": "stdout",
     "output_type": "stream",
     "text": [
      "Based on its name 2-methylcitrate, s_0174 can be mapped to 2-Methylcitrate, 2mcit_m\n",
      "Based on its name 5,10-methylenetetrahydrofolate, s_0306 can be mapped to 5,10-Methylenetetrahydrofolate, mlthf_c\n",
      "Based on its name 5,10-methylenetetrahydrofolate, s_0307 can be mapped to 5,10-Methylenetetrahydrofolate, mlthf_m\n",
      "Based on its name D-fructose, s_0553 can be mapped to D-Fructose, fru_c\n",
      "Based on its name D-fructose, s_0554 can be mapped to D-Fructose, fru_e\n",
      "Based on its name D-fructose 1,6-bisphosphate, s_0555 can be mapped to D-Fructose 1,6-bisphosphate, fdp_c\n",
      "Based on its name D-fructose 1-phosphate, s_0556 can be mapped to D-Fructose 1-phosphate, f1p_c\n",
      "Based on its name D-fructose 6-phosphate, s_0557 can be mapped to D-Fructose 6-phosphate, f6p_c\n",
      "Based on its name D-mannose 1-phosphate, s_0573 can be mapped to D-Mannose 1-phosphate, man1p_c\n",
      "Based on its name D-mannose 6-phosphate, s_0574 can be mapped to D-Mannose 6-phosphate, man6p_c\n",
      "Based on its name L-homocysteine, s_1012 can be mapped to L-Homocysteine, hcys__L_c\n",
      "Based on its name pantetheine 4'-phosphate, s_1307 can be mapped to Pantetheine 4'-phosphate, pan4p_c\n",
      "Based on its name potassium, s_1373 can be mapped to Potassium, k_c\n",
      "Based on its name potassium, s_1374 can be mapped to Potassium, k_e\n",
      "Based on its name sodium, s_1437 can be mapped to Sodium, na1_c\n",
      "Based on its name sodium, s_1438 can be mapped to Sodium, na1_e\n",
      "Based on its name trehalose, s_1520 can be mapped to Trehalose, tre_c\n",
      "Based on its name trehalose, s_1521 can be mapped to Trehalose, tre_e\n",
      "Based on its name trehalose, s_1522 can be mapped to Trehalose, tre_v\n",
      "Based on its name pantetheine 4'-phosphate, s_1308 can be mapped to Pantetheine 4'-phosphate, pan4p_m\n"
     ]
    }
   ],
   "source": [
    "duplicate_mapping = []\n",
    "mapped_from_to = 'Based on its name {}, {} can be mapped to {}, {}'\n",
    "for met_a in unmapped_mets:\n",
    "    for met_b in iMM904.metabolites:\n",
    "        if met_a.name.lower() == met_b.name.lower() and met_a.compartment == met_b.compartment:\n",
    "            print(mapped_from_to.format(met_a.name, met_a.id, met_b.name, met_b.id))\n",
    "            met_a.annotation.setdefault('bigg.metabolite', met_b.annotation['bigg.metabolite'])\n",
    "            if 'metanetx.chemical' in met_b.annotation:\n",
    "                met_a.annotation.setdefault('metanetx.chemical', met_b.annotation['metanetx.chemical'])\n",
    "            met_a.annotation[\"standard.metabolite\"] = met_a.id\n",
    "            try: \n",
    "                met_a.id = met_a.annotation[\"bigg.metabolite\"] + \"_\" + met_a.compartment\n",
    "                yali.repair()\n",
    "            except ValueError:\n",
    "                duplicate_mapping.append(met_a)"
   ]
  },
  {
   "cell_type": "code",
   "execution_count": 7,
   "metadata": {},
   "outputs": [
    {
     "data": {
      "text/plain": [
       "365"
      ]
     },
     "execution_count": 7,
     "metadata": {},
     "output_type": "execute_result"
    }
   ],
   "source": [
    "pattern = re.compile('s_[0-9]+')\n",
    "unmapped_mets = [met for met in yali.metabolites if re.findall(pattern, met.id)]\n",
    "len(unmapped_mets)"
   ]
  },
  {
   "cell_type": "markdown",
   "metadata": {},
   "source": [
    "Since this was only semi-successful I'm going to try this again with fuzzy string search using the packages `Fuzzywuzzy` and `python-Levenshtein`."
   ]
  },
  {
   "cell_type": "code",
   "execution_count": 8,
   "metadata": {},
   "outputs": [],
   "source": [
    "from fuzzywuzzy import process"
   ]
  },
  {
   "cell_type": "code",
   "execution_count": 9,
   "metadata": {},
   "outputs": [],
   "source": [
    "def transfer_IDs(met_a, met_b):\n",
    "    mapped_from_to = 'Based on its name {}, {} can be mapped to {}, {} with the new ID: {}'\n",
    "    met_a.annotation.setdefault('bigg.metabolite', met_b.annotation['bigg.metabolite'])\n",
    "    if 'metanetx.chemical' in met_b.annotation:\n",
    "        met_a.annotation.setdefault('metanetx.chemical', met_b.annotation['metanetx.chemical'])\n",
    "    met_a.annotation[\"standard.metabolite\"] = met_a.id\n",
    "    try: \n",
    "        old_id = met_a.id\n",
    "        met_a.id = met_a.annotation[\"bigg.metabolite\"] + \"_\" + met_a.compartment\n",
    "        yali.repair()\n",
    "        print(mapped_from_to.format(met_a.name, old_id, met_b.name, met_b.id, met_a.id))\n",
    "        print('.,-~^~-,'*10)\n",
    "    except ValueError:\n",
    "        print('Could not map metabolites because the new ID most likely already exists in the model.')"
   ]
  },
  {
   "cell_type": "code",
   "execution_count": 10,
   "metadata": {},
   "outputs": [],
   "source": [
    "suggested_mappings = []\n",
    "# Generate a dict of met.id:met.name for iMM904:\n",
    "choice = {met: met.name for met in iMM904.metabolites}\n",
    "\n",
    "for met_a in unmapped_mets:\n",
    "    relevant_matches = []\n",
    "    gen = process.extractWithoutOrder(met_a.name, choice)\n",
    "    for tup in list(gen):        \n",
    "        if tup[1] > 50 and tup[2].formula == met_a.formula:\n",
    "            relevant_matches.append(tup)\n",
    "    if not relevant_matches:\n",
    "        continue\n",
    "    suggested_mappings.append((met_a.id, met_a.name, met_a.compartment, relevant_matches))"
   ]
  },
  {
   "cell_type": "code",
   "execution_count": 11,
   "metadata": {},
   "outputs": [
    {
     "data": {
      "text/plain": [
       "[('s_0001',\n",
       "  '(1-3)-beta-D-glucan',\n",
       "  'ce',\n",
       "  [('1 3 beta D Glucan C6H10O5', 95, <Metabolite 13BDglcn_c at 0x116f480f0>),\n",
       "   ('1 3 beta D Glucan C6H10O5', 95, <Metabolite 13BDglcn_e at 0x116f3df60>),\n",
       "   ('1 6 beta D Glucan C6H10O5', 89, <Metabolite 16BDglcn_c at 0x116f3d978>)]),\n",
       " ('s_0003',\n",
       "  '(1-3)-beta-D-glucan',\n",
       "  'e',\n",
       "  [('1 3 beta D Glucan C6H10O5', 95, <Metabolite 13BDglcn_c at 0x116f480f0>),\n",
       "   ('1 3 beta D Glucan C6H10O5', 95, <Metabolite 13BDglcn_e at 0x116f3df60>),\n",
       "   ('1 6 beta D Glucan C6H10O5', 89, <Metabolite 16BDglcn_c at 0x116f3d978>)]),\n",
       " ('s_0004',\n",
       "  '(1-6)-beta-D-glucan',\n",
       "  'ce',\n",
       "  [('1 3 beta D Glucan C6H10O5', 89, <Metabolite 13BDglcn_c at 0x116f480f0>),\n",
       "   ('1 3 beta D Glucan C6H10O5', 89, <Metabolite 13BDglcn_e at 0x116f3df60>),\n",
       "   ('1 6 beta D Glucan C6H10O5', 95, <Metabolite 16BDglcn_c at 0x116f3d978>)]),\n",
       " ('s_0012',\n",
       "  '(2S,3R)-3-hydroxybutane-1,2,3-tricarboxylic acid',\n",
       "  'm',\n",
       "  [('2-Methylcitrate', 86, <Metabolite 2mcit_m at 0x116ebc550>),\n",
       "   ('2 Hydroxybutane 1 2 4 tricarboxylate C7H7O7',\n",
       "    76,\n",
       "    <Metabolite hcit_m at 0x11689e9e8>),\n",
       "   ('2 Hydroxybutane 1 2 4 tricarboxylate C7H7O7',\n",
       "    76,\n",
       "    <Metabolite hcit_n at 0x11689e7f0>)]),\n",
       " ('s_0015',\n",
       "  '(N(omega)-L-arginino)succinic acid',\n",
       "  'c',\n",
       "  [('N(omega)-(L-Arginino)succinate',\n",
       "    86,\n",
       "    <Metabolite argsuc_c at 0x116bdad30>)]),\n",
       " ('s_0086',\n",
       "  '1-C-(indol-3-yl)glycerol 3-phosphate',\n",
       "  'c',\n",
       "  [(\"C'-(3-Indolyl)-glycerol 3-phosphate\",\n",
       "    90,\n",
       "    <Metabolite 3ig3p_c at 0x116e4f908>)]),\n",
       " ('s_0116',\n",
       "  '1-pyrroline-3-hydroxy-5-carboxylic acid',\n",
       "  'c',\n",
       "  [('L 1 Pyrroline 3 hydroxy 5 carboxylate C5H6NO3',\n",
       "    81,\n",
       "    <Metabolite 1p3h5c_c at 0x116f31748>),\n",
       "   ('L 1 Pyrroline 3 hydroxy 5 carboxylate C5H6NO3',\n",
       "    81,\n",
       "    <Metabolite 1p3h5c_m at 0x116f316a0>)]),\n",
       " ('s_0117',\n",
       "  '1-pyrroline-3-hydroxy-5-carboxylic acid',\n",
       "  'm',\n",
       "  [('L 1 Pyrroline 3 hydroxy 5 carboxylate C5H6NO3',\n",
       "    81,\n",
       "    <Metabolite 1p3h5c_c at 0x116f31748>),\n",
       "   ('L 1 Pyrroline 3 hydroxy 5 carboxylate C5H6NO3',\n",
       "    81,\n",
       "    <Metabolite 1p3h5c_m at 0x116f316a0>)]),\n",
       " ('s_0122',\n",
       "  '14-demethyllanosterol',\n",
       "  'c',\n",
       "  [('4 4 dimethylzymosterol C29H48O',\n",
       "    63,\n",
       "    <Metabolite 44mzym_c at 0x116e0f8d0>)]),\n",
       " ('s_0123',\n",
       "  '1D-myo-inositol 1,3,4,5-tetrakisphosphate',\n",
       "  'n',\n",
       "  [('1D myo Inositol 1 3 4 5 tetrakisphosphate C6H8O18P4',\n",
       "    95,\n",
       "    <Metabolite mi1345p_n at 0x1167d5128>),\n",
       "   ('1D myo Inositol 1 4 5 6 tetrakisphosphate C6H8O18P4',\n",
       "    93,\n",
       "    <Metabolite mi1456p_n at 0x1167cf128>)]),\n",
       " ('s_0124',\n",
       "  '1D-myo-inositol 1,4,5,6-tetrakisphosphate',\n",
       "  'n',\n",
       "  [('1D myo Inositol 1 3 4 5 tetrakisphosphate C6H8O18P4',\n",
       "    93,\n",
       "    <Metabolite mi1345p_n at 0x1167d5128>),\n",
       "   ('1D myo Inositol 1 4 5 6 tetrakisphosphate C6H8O18P4',\n",
       "    95,\n",
       "    <Metabolite mi1456p_n at 0x1167cf128>)]),\n",
       " ('s_0125',\n",
       "  '1D-myo-inositol 1,4,5-trisphosphate',\n",
       "  'n',\n",
       "  [('1D myo Inositol 1 4 5 trisphosphate C6H9O15P3',\n",
       "    95,\n",
       "    <Metabolite mi145p_c at 0x1167cf0f0>),\n",
       "   ('1D myo Inositol 1 4 5 trisphosphate C6H9O15P3',\n",
       "    95,\n",
       "    <Metabolite mi145p_n at 0x1167cf198>)]),\n",
       " ('s_0146',\n",
       "  '2-acetyllactic acid',\n",
       "  'm',\n",
       "  [('(S)-2-Acetolactate', 61, <Metabolite alac__S_m at 0x116c3cef0>)]),\n",
       " ('s_0154',\n",
       "  '2-hexaprenyl-5-hydroxy-6-methoxy-3-methyl-1,4-benzoquinone',\n",
       "  'm',\n",
       "  [('2 hexaprenyl 3 methyl 5 hydroxy 6 methoxy 1 4 benzoquinone C38H56O4',\n",
       "    95,\n",
       "    <Metabolite 2hpmhmbq_m at 0x116ee6c88>)]),\n",
       " ('s_0155',\n",
       "  '2-hexaprenyl-6-methoxy-1,4-benzoquinone',\n",
       "  'm',\n",
       "  [('2 Hexaprenyl 6 methoxy 1 4 benzoquinone C37H54O3',\n",
       "    95,\n",
       "    <Metabolite 2hp6mbq_m at 0x116ee6518>)]),\n",
       " ('s_0156',\n",
       "  '2-hexaprenyl-6-methoxy-3-methyl-1,4-benzoquinone',\n",
       "  'm',\n",
       "  [('2 hexaprenyl 3 methyl 6 methoxy 1 4 benzoquinone C38H56O3',\n",
       "    95,\n",
       "    <Metabolite 2hpmmbq_m at 0x116ee6908>)]),\n",
       " ('s_0162',\n",
       "  '2-isopropylmalate',\n",
       "  'c',\n",
       "  [('3-Carboxy-2-hydroxy-4-methylpentanoate',\n",
       "    86,\n",
       "    <Metabolite 3c2hmp_c at 0x116e86780>)]),\n",
       " ('s_0193',\n",
       "  \"3',5'-cyclic CMP\",\n",
       "  'c',\n",
       "  [('3  5  Cyclic CMP C9H11N3O7P', 90, <Metabolite 35ccmp_c at 0x116e914a8>)]),\n",
       " ('s_0209',\n",
       "  '3-dehydro-4-methylzymosterol',\n",
       "  'c',\n",
       "  [('4 Methylzymosterol intermediate 2 C28H44O',\n",
       "    74,\n",
       "    <Metabolite 4mzym_int2_c at 0x116da27b8>)]),\n",
       " ('s_0234',\n",
       "  '3-methylbutanal',\n",
       "  'c',\n",
       "  [('2 methylbutyraldehyde C5H10O', 72, <Metabolite 2mbald_c at 0x116ed0c18>),\n",
       "   ('2 methylbutyraldehyde C5H10O', 72, <Metabolite 2mbald_e at 0x116ed0c88>),\n",
       "   ('2 methylbutyraldehyde C5H10O', 72, <Metabolite 2mbald_m at 0x116ed04e0>),\n",
       "   ('3 Methylbutanal C5H10O', 95, <Metabolite 3mbald_c at 0x116e4f3c8>),\n",
       "   ('3 Methylbutanal C5H10O', 95, <Metabolite 3mbald_e at 0x116e45d68>),\n",
       "   ('3 Methylbutanal C5H10O', 95, <Metabolite 3mbald_m at 0x116e45cf8>)]),\n",
       " ('s_0236',\n",
       "  '3-methylbutanal',\n",
       "  'm',\n",
       "  [('2 methylbutyraldehyde C5H10O', 72, <Metabolite 2mbald_c at 0x116ed0c18>),\n",
       "   ('2 methylbutyraldehyde C5H10O', 72, <Metabolite 2mbald_e at 0x116ed0c88>),\n",
       "   ('2 methylbutyraldehyde C5H10O', 72, <Metabolite 2mbald_m at 0x116ed04e0>),\n",
       "   ('3 Methylbutanal C5H10O', 95, <Metabolite 3mbald_c at 0x116e4f3c8>),\n",
       "   ('3 Methylbutanal C5H10O', 95, <Metabolite 3mbald_e at 0x116e45d68>),\n",
       "   ('3 Methylbutanal C5H10O', 95, <Metabolite 3mbald_m at 0x116e45cf8>)]),\n",
       " ('s_0262',\n",
       "  '4,4-dimethyl-5alpha-cholesta-8,14,24-trien-3beta-ol',\n",
       "  'c',\n",
       "  [('4 4 dimethylcholesta 8 14 24 trienol C29H46O',\n",
       "    76,\n",
       "    <Metabolite 44mctr_c at 0x116e17668>)]),\n",
       " ('s_0296',\n",
       "  '4alpha-methylzymosterol',\n",
       "  'c',\n",
       "  [('4 methylzymosterol C28H46O', 78, <Metabolite 4mzym_c at 0x116dab8d0>)]),\n",
       " ('s_0297',\n",
       "  '4beta-methylzymosterol-4alpha-carboxylic acid',\n",
       "  'c',\n",
       "  [('4 Methylzymosterol intermediate 1 C29H46O3',\n",
       "    53,\n",
       "    <Metabolite 4mzym_int1_c at 0x116dab470>)]),\n",
       " ('s_0302',\n",
       "  \"5'-phosphoribosyl-N-formylglycineamidine\",\n",
       "  'c',\n",
       "  [('2-(Formamido)-N1-(5-phospho-D-ribosyl)acetamidine',\n",
       "    63,\n",
       "    <Metabolite fpram_c at 0x116956ac8>)]),\n",
       " ('s_0332',\n",
       "  '6-[6-(2-aminoethylphosphoryl)-alpha-mannosyl-(1-6)-2-(2-aminoethylphosphoryl)-alpha-mannosyl-(1-6)-alpha-2-(2-aminoethylphosphoryl)mannosyl-(1-4)-alpha-glucosaminyl]-O-acyl-1-phosphatidyl-1D-myo-inositol [endoplasmic reticulum]',\n",
       "  'er',\n",
       "  [('Heme O C49H56FeN4O5', 57, <Metabolite hemeO_m at 0x1168802b0>)]),\n",
       " ('s_0334',\n",
       "  '6-O-[alpha-D-mannosyl-(1-4)-alpha-D-glucosaminyl]-O-acyl-1-phosphatidyl-1D-myo-inositol [endoplasmic reticulum]',\n",
       "  'er',\n",
       "  [('Heme O C49H56FeN4O5', 86, <Metabolite hemeO_m at 0x1168802b0>)]),\n",
       " ('s_0337',\n",
       "  '6-O-{2-O-[(2-aminoethyl)phosphoryl]-alpha-D-mannosyl-(1-4)-alpha-D-glucosaminyl}-O-acyl-1-phosphatidyl-1D-myo-inositol [endoplasmic reticulum]',\n",
       "  'er',\n",
       "  [('Heme O C49H56FeN4O5', 86, <Metabolite hemeO_m at 0x1168802b0>)]),\n",
       " ('s_0338',\n",
       "  '6-O-{alpha-D-mannosyl-(1-2)-alpha-D-mannosyl-(1-6)-2-O-[(2-aminoethyl)phosphoryl]-alpha-D-mannosyl-(1-4)-alpha-D-glucosaminyl}-O-acyl-1-phosphatidyl-1D-myo-inositol [endoplasmic reticulum]',\n",
       "  'er',\n",
       "  [('Heme O C49H56FeN4O5', 57, <Metabolite hemeO_m at 0x1168802b0>)]),\n",
       " ('s_0339',\n",
       "  '6-O-{alpha-D-mannosyl-(1-6)-2-O-[(2-aminoethyl)phosphoryl]-alpha-D-mannosyl-(1-4)-alpha-D-glucosaminyl}-O-acyl-1-phosphatidyl-1D-myo-inositol [endoplasmic reticulum]',\n",
       "  'er',\n",
       "  [('Heme O C49H56FeN4O5', 57, <Metabolite hemeO_m at 0x1168802b0>)]),\n",
       " ('s_0346',\n",
       "  \"7,8-dihydroneopterin 3'-triphosphate\",\n",
       "  'c',\n",
       "  [('2-Amino-4-hydroxy-6-(erythro-1,2,3-trihydroxypropyl)dihydropteridine triphosphate',\n",
       "    86,\n",
       "    <Metabolite ahdt_c at 0x116c68668>)]),\n",
       " ('s_0389',\n",
       "  \"adenosine 2'-phosphate\",\n",
       "  'c',\n",
       "  [('Adenosine 2  phosphate C10H14N5O7P',\n",
       "    90,\n",
       "    <Metabolite amp2p_c at 0x116c162e8>)]),\n",
       " ('s_0432',\n",
       "  'Asp-tRNA(Asp)',\n",
       "  'c',\n",
       "  [('L-Aspartyl-tRNA(Asp)', 86, <Metabolite asptrna_c at 0x116bb0390>),\n",
       "   ('L-Aspartyl-tRNA(Asp)', 86, <Metabolite asptrna_m at 0x116bb0128>)]),\n",
       " ('s_0433',\n",
       "  'Asp-tRNA(Asp)',\n",
       "  'm',\n",
       "  [('L-Aspartyl-tRNA(Asp)', 86, <Metabolite asptrna_c at 0x116bb0390>),\n",
       "   ('L-Aspartyl-tRNA(Asp)', 86, <Metabolite asptrna_m at 0x116bb0128>)]),\n",
       " ('s_0453',\n",
       "  \"biotinyl-5'-AMP\",\n",
       "  'c',\n",
       "  [('Biotinyl 5  AMP C20H27N7O9PS', 90, <Metabolite btamp_c at 0x116b885c0>)]),\n",
       " ('s_0475',\n",
       "  'ceramide-1 (C24)',\n",
       "  'er',\n",
       "  [('Ceramide 1  Sphinganinen C240  C42H85NO3',\n",
       "    86,\n",
       "    <Metabolite cer1_24_c at 0x116b617f0>),\n",
       "   ('Ceramide 1  Sphinganinen C240  C42H85NO3',\n",
       "    86,\n",
       "    <Metabolite cer1_24_r at 0x116b61390>)]),\n",
       " ('s_0476',\n",
       "  'ceramide-1 (C24)',\n",
       "  'g',\n",
       "  [('Ceramide 1  Sphinganinen C240  C42H85NO3',\n",
       "    86,\n",
       "    <Metabolite cer1_24_c at 0x116b617f0>),\n",
       "   ('Ceramide 1  Sphinganinen C240  C42H85NO3',\n",
       "    86,\n",
       "    <Metabolite cer1_24_r at 0x116b61390>)]),\n",
       " ('s_0477',\n",
       "  'ceramide-1 (C24)',\n",
       "  'm',\n",
       "  [('Ceramide 1  Sphinganinen C240  C42H85NO3',\n",
       "    86,\n",
       "    <Metabolite cer1_24_c at 0x116b617f0>),\n",
       "   ('Ceramide 1  Sphinganinen C240  C42H85NO3',\n",
       "    86,\n",
       "    <Metabolite cer1_24_r at 0x116b61390>)]),\n",
       " ('s_0478',\n",
       "  'ceramide-1 (C26)',\n",
       "  'er',\n",
       "  [('Ceramide 1  Sphinganinen C260  C44H89NO3',\n",
       "    86,\n",
       "    <Metabolite cer1_26_c at 0x116b61320>),\n",
       "   ('Ceramide 1  Sphinganinen C260  C44H89NO3',\n",
       "    86,\n",
       "    <Metabolite cer1_26_r at 0x116b58198>)]),\n",
       " ('s_0479',\n",
       "  'ceramide-1 (C26)',\n",
       "  'g',\n",
       "  [('Ceramide 1  Sphinganinen C260  C44H89NO3',\n",
       "    86,\n",
       "    <Metabolite cer1_26_c at 0x116b61320>),\n",
       "   ('Ceramide 1  Sphinganinen C260  C44H89NO3',\n",
       "    86,\n",
       "    <Metabolite cer1_26_r at 0x116b58198>)]),\n",
       " ('s_0480',\n",
       "  'ceramide-1 (C26)',\n",
       "  'm',\n",
       "  [('Ceramide 1  Sphinganinen C260  C44H89NO3',\n",
       "    86,\n",
       "    <Metabolite cer1_26_c at 0x116b61320>),\n",
       "   ('Ceramide 1  Sphinganinen C260  C44H89NO3',\n",
       "    86,\n",
       "    <Metabolite cer1_26_r at 0x116b58198>)]),\n",
       " ('s_0481',\n",
       "  'ceramide-2 (C24)',\n",
       "  'er',\n",
       "  [('Ceramide 2  Phytosphingosinen C240  C42H85NO4',\n",
       "    86,\n",
       "    <Metabolite cer2_24_c at 0x116b58ef0>),\n",
       "   ('Ceramide 2  Phytosphingosinen C240  C42H85NO4',\n",
       "    86,\n",
       "    <Metabolite cer2_24_r at 0x116b58400>)]),\n",
       " ('s_0482',\n",
       "  'ceramide-2 (C24)',\n",
       "  'g',\n",
       "  [('Ceramide 2  Phytosphingosinen C240  C42H85NO4',\n",
       "    86,\n",
       "    <Metabolite cer2_24_c at 0x116b58ef0>),\n",
       "   ('Ceramide 2  Phytosphingosinen C240  C42H85NO4',\n",
       "    86,\n",
       "    <Metabolite cer2_24_r at 0x116b58400>)]),\n",
       " ('s_0483',\n",
       "  'ceramide-2 (C24)',\n",
       "  'm',\n",
       "  [('Ceramide 2  Phytosphingosinen C240  C42H85NO4',\n",
       "    86,\n",
       "    <Metabolite cer2_24_c at 0x116b58ef0>),\n",
       "   ('Ceramide 2  Phytosphingosinen C240  C42H85NO4',\n",
       "    86,\n",
       "    <Metabolite cer2_24_r at 0x116b58400>)]),\n",
       " ('s_0484',\n",
       "  'ceramide-2 (C26)',\n",
       "  'er',\n",
       "  [('Ceramide 2  Phytosphingosinen C260  C44H89NO4',\n",
       "    86,\n",
       "    <Metabolite cer2_26_c at 0x116b58898>),\n",
       "   ('Ceramide 2  Phytosphingosinen C260  C44H89NO4',\n",
       "    86,\n",
       "    <Metabolite cer2_26_r at 0x116b58860>)]),\n",
       " ('s_0485',\n",
       "  'ceramide-2 (C26)',\n",
       "  'g',\n",
       "  [('Ceramide 2  Phytosphingosinen C260  C44H89NO4',\n",
       "    86,\n",
       "    <Metabolite cer2_26_c at 0x116b58898>),\n",
       "   ('Ceramide 2  Phytosphingosinen C260  C44H89NO4',\n",
       "    86,\n",
       "    <Metabolite cer2_26_r at 0x116b58860>)]),\n",
       " ('s_0486',\n",
       "  'ceramide-2 (C26)',\n",
       "  'm',\n",
       "  [('Ceramide 2  Phytosphingosinen C260  C44H89NO4',\n",
       "    86,\n",
       "    <Metabolite cer2_26_c at 0x116b58898>),\n",
       "   ('Ceramide 2  Phytosphingosinen C260  C44H89NO4',\n",
       "    86,\n",
       "    <Metabolite cer2_26_r at 0x116b58860>)]),\n",
       " ('s_0487',\n",
       "  \"ceramide-2' (C24)\",\n",
       "  'er',\n",
       "  [('Ceramide 2  Phytosphingosinen C240  C42H85NO4',\n",
       "    86,\n",
       "    <Metabolite cer2_24_c at 0x116b58ef0>),\n",
       "   ('Ceramide 2  Phytosphingosinen C240  C42H85NO4',\n",
       "    86,\n",
       "    <Metabolite cer2_24_r at 0x116b58400>)]),\n",
       " ('s_0488',\n",
       "  \"ceramide-2' (C24)\",\n",
       "  'g',\n",
       "  [('Ceramide 2  Phytosphingosinen C240  C42H85NO4',\n",
       "    86,\n",
       "    <Metabolite cer2_24_c at 0x116b58ef0>),\n",
       "   ('Ceramide 2  Phytosphingosinen C240  C42H85NO4',\n",
       "    86,\n",
       "    <Metabolite cer2_24_r at 0x116b58400>)]),\n",
       " ('s_0489',\n",
       "  \"ceramide-2' (C24)\",\n",
       "  'm',\n",
       "  [('Ceramide 2  Phytosphingosinen C240  C42H85NO4',\n",
       "    86,\n",
       "    <Metabolite cer2_24_c at 0x116b58ef0>),\n",
       "   ('Ceramide 2  Phytosphingosinen C240  C42H85NO4',\n",
       "    86,\n",
       "    <Metabolite cer2_24_r at 0x116b58400>)]),\n",
       " ('s_0490',\n",
       "  \"ceramide-2' (C26)\",\n",
       "  'er',\n",
       "  [('Ceramide 2  Phytosphingosinen C260  C44H89NO4',\n",
       "    86,\n",
       "    <Metabolite cer2_26_c at 0x116b58898>),\n",
       "   ('Ceramide 2  Phytosphingosinen C260  C44H89NO4',\n",
       "    86,\n",
       "    <Metabolite cer2_26_r at 0x116b58860>)]),\n",
       " ('s_0491',\n",
       "  \"ceramide-2' (C26)\",\n",
       "  'g',\n",
       "  [('Ceramide 2  Phytosphingosinen C260  C44H89NO4',\n",
       "    86,\n",
       "    <Metabolite cer2_26_c at 0x116b58898>),\n",
       "   ('Ceramide 2  Phytosphingosinen C260  C44H89NO4',\n",
       "    86,\n",
       "    <Metabolite cer2_26_r at 0x116b58860>)]),\n",
       " ('s_0492',\n",
       "  \"ceramide-2' (C26)\",\n",
       "  'm',\n",
       "  [('Ceramide 2  Phytosphingosinen C260  C44H89NO4',\n",
       "    86,\n",
       "    <Metabolite cer2_26_c at 0x116b58898>),\n",
       "   ('Ceramide 2  Phytosphingosinen C260  C44H89NO4',\n",
       "    86,\n",
       "    <Metabolite cer2_26_r at 0x116b58860>)]),\n",
       " ('s_0493',\n",
       "  'ceramide-3 (C24)',\n",
       "  'er',\n",
       "  [('Ceramide 3  Phytosphingosinen C240OH  C42H85NO5',\n",
       "    86,\n",
       "    <Metabolite cer3_24_c at 0x116b58550>)]),\n",
       " ('s_0494',\n",
       "  'ceramide-3 (C24)',\n",
       "  'g',\n",
       "  [('Ceramide 3  Phytosphingosinen C240OH  C42H85NO5',\n",
       "    86,\n",
       "    <Metabolite cer3_24_c at 0x116b58550>)]),\n",
       " ('s_0495',\n",
       "  'ceramide-3 (C24)',\n",
       "  'm',\n",
       "  [('Ceramide 3  Phytosphingosinen C240OH  C42H85NO5',\n",
       "    86,\n",
       "    <Metabolite cer3_24_c at 0x116b58550>)]),\n",
       " ('s_0496',\n",
       "  'ceramide-3 (C26)',\n",
       "  'er',\n",
       "  [('Ceramide 3  Phytosphingosinen C260OH  C44H89NO5',\n",
       "    86,\n",
       "    <Metabolite cer3_26_c at 0x116b58518>)]),\n",
       " ('s_0497',\n",
       "  'ceramide-3 (C26)',\n",
       "  'g',\n",
       "  [('Ceramide 3  Phytosphingosinen C260OH  C44H89NO5',\n",
       "    86,\n",
       "    <Metabolite cer3_26_c at 0x116b58518>)]),\n",
       " ('s_0498',\n",
       "  'ceramide-3 (C26)',\n",
       "  'm',\n",
       "  [('Ceramide 3  Phytosphingosinen C260OH  C44H89NO5',\n",
       "    86,\n",
       "    <Metabolite cer3_26_c at 0x116b58518>)]),\n",
       " ('s_0548',\n",
       "  'D-arabinose',\n",
       "  'c',\n",
       "  [('D Arabinose C5H10O5', 90, <Metabolite arab__D_c at 0x116bf2a58>),\n",
       "   ('D Arabinose C5H10O5', 90, <Metabolite arab__D_e at 0x116bf25c0>),\n",
       "   ('L-Arabinose', 91, <Metabolite arab__L_c at 0x116bf2160>),\n",
       "   ('L-Arabinose', 91, <Metabolite arab__L_e at 0x116be4ef0>),\n",
       "   ('D-Ribose', 74, <Metabolite rib__D_c at 0x117887908>),\n",
       "   ('D-Ribose', 74, <Metabolite rib__D_e at 0x117887cc0>),\n",
       "   ('D-Xylose', 53, <Metabolite xyl__D_c at 0x1178d0a20>),\n",
       "   ('D-Xylose', 53, <Metabolite xyl__D_e at 0x1178d0c50>)]),\n",
       " ('s_0600',\n",
       "  'decanoate',\n",
       "  'p',\n",
       "  [('Decanoate (n-C10:0)', 90, <Metabolite dca_c at 0x116a8c128>),\n",
       "   ('Decanoate (n-C10:0)', 90, <Metabolite dca_e at 0x116a8c668>),\n",
       "   ('Decanoate (n-C10:0)', 90, <Metabolite dca_x at 0x116a8c6d8>)]),\n",
       " ('s_0664',\n",
       "  'ergosta-5,7,24(28)-trien-3beta-ol',\n",
       "  'c',\n",
       "  [('Ergosta 5 7 24 28  trienol C28H44O',\n",
       "    78,\n",
       "    <Metabolite ergtrol_c at 0x11699e898>)]),\n",
       " ('s_0670',\n",
       "  'ergosterol 3-beta-D-glucoside',\n",
       "  'c',\n",
       "  [('Ergosterol 3 beta D glucoside C34H54O6',\n",
       "    95,\n",
       "    <Metabolite ergst3glc_c at 0x1169b6390>)]),\n",
       " ('s_0834',\n",
       "  'homocitrate',\n",
       "  'm',\n",
       "  [('2-Methylcitrate', 62, <Metabolite 2mcit_m at 0x116ebc550>),\n",
       "   ('Homoisocitrate C7H7O7', 74, <Metabolite hicit_m at 0x1168798d0>),\n",
       "   ('Methylisocitrate', 67, <Metabolite micit_m at 0x1167cfc88>)]),\n",
       " ('s_0835',\n",
       "  'homocitrate',\n",
       "  'n',\n",
       "  [('2-Methylcitrate', 62, <Metabolite 2mcit_m at 0x116ebc550>),\n",
       "   ('Homoisocitrate C7H7O7', 74, <Metabolite hicit_m at 0x1168798d0>),\n",
       "   ('Methylisocitrate', 67, <Metabolite micit_m at 0x1167cfc88>)]),\n",
       " ('s_0836',\n",
       "  'homoisocitrate',\n",
       "  'm',\n",
       "  [('2-Methylcitrate', 55, <Metabolite 2mcit_m at 0x116ebc550>),\n",
       "   ('Homoisocitrate C7H7O7', 90, <Metabolite hicit_m at 0x1168798d0>),\n",
       "   ('Methylisocitrate', 73, <Metabolite micit_m at 0x1167cfc88>)]),\n",
       " ('s_0951',\n",
       "  'keto-phenylpyruvate',\n",
       "  'c',\n",
       "  [('Phenylpyruvate', 95, <Metabolite phpyr_c at 0x117869080>)]),\n",
       " ('s_1043',\n",
       "  'L-sorbose',\n",
       "  'c',\n",
       "  [('D-Fructose', 53, <Metabolite fru_c at 0x11694fc88>),\n",
       "   ('D-Fructose', 53, <Metabolite fru_e at 0x11694ff98>),\n",
       "   ('L Sorbose C6H12O6', 90, <Metabolite srb__L_c at 0x117898588>),\n",
       "   ('L Sorbose C6H12O6', 90, <Metabolite srb__L_e at 0x117898908>)]),\n",
       " ('s_1070',\n",
       "  'laurate',\n",
       "  'p',\n",
       "  [('Dodecanoate (n-C12:0)', 51, <Metabolite ddca_c at 0x116a6b9b0>),\n",
       "   ('Dodecanoate (n-C12:0)', 51, <Metabolite ddca_e at 0x116a6b908>),\n",
       "   ('Dodecanoate (n-C12:0)', 51, <Metabolite ddca_x at 0x116a6bc18>)]),\n",
       " ('s_1148',\n",
       "  'Met-tRNA(Met)',\n",
       "  'c',\n",
       "  [('L-Methionyl-tRNA (Met)', 86, <Metabolite mettrna_c at 0x1167d5160>),\n",
       "   ('L-Methionyl-tRNA (Met)', 86, <Metabolite mettrna_m at 0x1167d56d8>)]),\n",
       " ('s_1149',\n",
       "  'Met-tRNA(Met)',\n",
       "  'm',\n",
       "  [('L-Methionyl-tRNA (Met)', 86, <Metabolite mettrna_c at 0x1167d5160>),\n",
       "   ('L-Methionyl-tRNA (Met)', 86, <Metabolite mettrna_m at 0x1167d56d8>)]),\n",
       " ('s_1156',\n",
       "  'myo-inositol 1,3,4,5,6-pentakisphosphate',\n",
       "  'c',\n",
       "  [('1D myo Inositol 1 3 4 5 6 pentakisphosphate C6H7O21P5',\n",
       "    95,\n",
       "    <Metabolite mi13456p_c at 0x1167d5a90>),\n",
       "   ('1D myo Inositol 1 3 4 5 6 pentakisphosphate C6H7O21P5',\n",
       "    95,\n",
       "    <Metabolite mi13456p_n at 0x1167d5278>)]),\n",
       " ('s_1157',\n",
       "  'myo-inositol 1,3,4,5,6-pentakisphosphate',\n",
       "  'n',\n",
       "  [('1D myo Inositol 1 3 4 5 6 pentakisphosphate C6H7O21P5',\n",
       "    95,\n",
       "    <Metabolite mi13456p_c at 0x1167d5a90>),\n",
       "   ('1D myo Inositol 1 3 4 5 6 pentakisphosphate C6H7O21P5',\n",
       "    95,\n",
       "    <Metabolite mi13456p_n at 0x1167d5278>)]),\n",
       " ('s_1371',\n",
       "  'polysulphur',\n",
       "  'c',\n",
       "  [('Sulfur', 60, <Metabolite s_c at 0x11788bb70>)]),\n",
       " ('s_1388',\n",
       "  \"pseudouridine 5'-phosphate\",\n",
       "  'c',\n",
       "  [('Pseudouridine 5  phosphate C9H11N2O9P',\n",
       "    95,\n",
       "    <Metabolite psd5p_c at 0x11787b5c0>)]),\n",
       " ('s_1428',\n",
       "  'Ser-tRNA(Ser)',\n",
       "  'c',\n",
       "  [('L-Seryl-tRNA(Ser)', 95, <Metabolite sertrna_c at 0x117892160>)]),\n",
       " ('s_1489',\n",
       "  'thiamine',\n",
       "  'c',\n",
       "  [('Thiamin', 93, <Metabolite thm_c at 0x1178a4978>),\n",
       "   ('Thiamin', 93, <Metabolite thm_e at 0x1178a4a58>)]),\n",
       " ('s_1541',\n",
       "  'UDP-D-galactose',\n",
       "  'c',\n",
       "  [('UDPglucose', 72, <Metabolite udpg_c at 0x1178c63c8>),\n",
       "   ('UDPgalactose', 89, <Metabolite udpgal_c at 0x1178c6390>),\n",
       "   ('UDPgalactose', 89, <Metabolite udpgal_g at 0x1178c65c0>)]),\n",
       " ('s_1542',\n",
       "  'UDP-D-galactose',\n",
       "  'g',\n",
       "  [('UDPglucose', 72, <Metabolite udpg_c at 0x1178c63c8>),\n",
       "   ('UDPgalactose', 89, <Metabolite udpgal_c at 0x1178c6390>),\n",
       "   ('UDPgalactose', 89, <Metabolite udpgal_g at 0x1178c65c0>)]),\n",
       " ('s_1565',\n",
       "  'xanthosine-5-phosphate',\n",
       "  'c',\n",
       "  [(\"Xanthosine 5'-phosphate\", 98, <Metabolite xmp_c at 0x1178d0128>)]),\n",
       " ('s_2819',\n",
       "  'palmitoleoyl-CoA',\n",
       "  'erm',\n",
       "  [('Hexadecenoyl-CoA (n-C16:1CoA)', 86, <Metabolite hdcoa_c at 0x11688a0b8>),\n",
       "   ('Hexadecenoyl-CoA (n-C16:1CoA)', 86, <Metabolite hdcoa_x at 0x11688ab38>),\n",
       "   ('Trans-Hexadec-2-enoyl-CoA', 86, <Metabolite hdd2coa_x at 0x11688a7f0>)]),\n",
       " ('s_2832',\n",
       "  'laurate',\n",
       "  'erm',\n",
       "  [('Dodecanoate (n-C12:0)', 51, <Metabolite ddca_c at 0x116a6b9b0>),\n",
       "   ('Dodecanoate (n-C12:0)', 51, <Metabolite ddca_e at 0x116a6b908>),\n",
       "   ('Dodecanoate (n-C12:0)', 51, <Metabolite ddca_x at 0x116a6bc18>)]),\n",
       " ('s_2841',\n",
       "  'laurate',\n",
       "  'lp',\n",
       "  [('Dodecanoate (n-C12:0)', 51, <Metabolite ddca_c at 0x116a6b9b0>),\n",
       "   ('Dodecanoate (n-C12:0)', 51, <Metabolite ddca_e at 0x116a6b908>),\n",
       "   ('Dodecanoate (n-C12:0)', 51, <Metabolite ddca_x at 0x116a6bc18>)]),\n",
       " ('s_2849',\n",
       "  'palmitoleoyl-CoA',\n",
       "  'lp',\n",
       "  [('Hexadecenoyl-CoA (n-C16:1CoA)', 86, <Metabolite hdcoa_c at 0x11688a0b8>),\n",
       "   ('Hexadecenoyl-CoA (n-C16:1CoA)', 86, <Metabolite hdcoa_x at 0x11688ab38>),\n",
       "   ('Trans-Hexadec-2-enoyl-CoA', 86, <Metabolite hdd2coa_x at 0x11688a7f0>)]),\n",
       " ('s_2854',\n",
       "  'palmitoleoyl-CoA',\n",
       "  'p',\n",
       "  [('Hexadecenoyl-CoA (n-C16:1CoA)', 86, <Metabolite hdcoa_c at 0x11688a0b8>),\n",
       "   ('Hexadecenoyl-CoA (n-C16:1CoA)', 86, <Metabolite hdcoa_x at 0x11688ab38>),\n",
       "   ('Trans-Hexadec-2-enoyl-CoA', 86, <Metabolite hdd2coa_x at 0x11688a7f0>)]),\n",
       " ('s_2877',\n",
       "  'palmitoleoyl-CoA',\n",
       "  'c',\n",
       "  [('Hexadecenoyl-CoA (n-C16:1CoA)', 86, <Metabolite hdcoa_c at 0x11688a0b8>),\n",
       "   ('Hexadecenoyl-CoA (n-C16:1CoA)', 86, <Metabolite hdcoa_x at 0x11688ab38>),\n",
       "   ('Trans-Hexadec-2-enoyl-CoA', 86, <Metabolite hdd2coa_x at 0x11688a7f0>)]),\n",
       " ('s_2894',\n",
       "  'trans-2,cis-7-tetradecadienoyl-CoA',\n",
       "  'p',\n",
       "  [('Tetradecanoyl-CoA (n-C14:0CoA)', 62, <Metabolite tdcoa_c at 0x117897cc0>),\n",
       "   ('Tetradecanoyl-CoA (n-C14:0CoA)',\n",
       "    62,\n",
       "    <Metabolite tdcoa_x at 0x117897eb8>)]),\n",
       " ('s_2901',\n",
       "  'trans-2,cis-5-tetradecadienoyl-CoA',\n",
       "  'p',\n",
       "  [('Tetradecanoyl-CoA (n-C14:0CoA)', 62, <Metabolite tdcoa_c at 0x117897cc0>),\n",
       "   ('Tetradecanoyl-CoA (n-C14:0CoA)',\n",
       "    62,\n",
       "    <Metabolite tdcoa_x at 0x117897eb8>)]),\n",
       " ('s_2932',\n",
       "  'trans-2,trans-4-dodecadienoyl-CoA',\n",
       "  'p',\n",
       "  [('Dodecanoyl-CoA (n-C12:0CoA)', 66, <Metabolite ddcacoa_c at 0x116a6b320>),\n",
       "   ('Dodecanoyl-CoA (n-C12:0CoA)',\n",
       "    66,\n",
       "    <Metabolite ddcacoa_x at 0x116a6b9e8>)]),\n",
       " ('s_3498',\n",
       "  '1D-myo-inositol 1,4,5-trisphosphate',\n",
       "  'c',\n",
       "  [('1D myo Inositol 1 4 5 trisphosphate C6H9O15P3',\n",
       "    95,\n",
       "    <Metabolite mi145p_c at 0x1167cf0f0>),\n",
       "   ('1D myo Inositol 1 4 5 trisphosphate C6H9O15P3',\n",
       "    95,\n",
       "    <Metabolite mi145p_n at 0x1167cf198>)]),\n",
       " ('s_0164',\n",
       "  '2-isopropylmalate',\n",
       "  'm',\n",
       "  [('3-Carboxy-2-hydroxy-4-methylpentanoate',\n",
       "    86,\n",
       "    <Metabolite 3c2hmp_c at 0x116e86780>)]),\n",
       " ('s_0163',\n",
       "  '2-isopropylmalate',\n",
       "  'e',\n",
       "  [('3-Carboxy-2-hydroxy-4-methylpentanoate',\n",
       "    86,\n",
       "    <Metabolite 3c2hmp_c at 0x116e86780>)]),\n",
       " ('s_0235',\n",
       "  '3-methylbutanal',\n",
       "  'e',\n",
       "  [('2 methylbutyraldehyde C5H10O', 72, <Metabolite 2mbald_c at 0x116ed0c18>),\n",
       "   ('2 methylbutyraldehyde C5H10O', 72, <Metabolite 2mbald_e at 0x116ed0c88>),\n",
       "   ('2 methylbutyraldehyde C5H10O', 72, <Metabolite 2mbald_m at 0x116ed04e0>),\n",
       "   ('3 Methylbutanal C5H10O', 95, <Metabolite 3mbald_c at 0x116e4f3c8>),\n",
       "   ('3 Methylbutanal C5H10O', 95, <Metabolite 3mbald_e at 0x116e45d68>),\n",
       "   ('3 Methylbutanal C5H10O', 95, <Metabolite 3mbald_m at 0x116e45cf8>)]),\n",
       " ('s_0549',\n",
       "  'D-arabinose',\n",
       "  'e',\n",
       "  [('D Arabinose C5H10O5', 90, <Metabolite arab__D_c at 0x116bf2a58>),\n",
       "   ('D Arabinose C5H10O5', 90, <Metabolite arab__D_e at 0x116bf25c0>),\n",
       "   ('L-Arabinose', 91, <Metabolite arab__L_c at 0x116bf2160>),\n",
       "   ('L-Arabinose', 91, <Metabolite arab__L_e at 0x116be4ef0>),\n",
       "   ('D-Ribose', 74, <Metabolite rib__D_c at 0x117887908>),\n",
       "   ('D-Ribose', 74, <Metabolite rib__D_e at 0x117887cc0>),\n",
       "   ('D-Xylose', 53, <Metabolite xyl__D_c at 0x1178d0a20>),\n",
       "   ('D-Xylose', 53, <Metabolite xyl__D_e at 0x1178d0c50>)]),\n",
       " ('s_0597',\n",
       "  'decanoate',\n",
       "  'e',\n",
       "  [('Decanoate (n-C10:0)', 90, <Metabolite dca_c at 0x116a8c128>),\n",
       "   ('Decanoate (n-C10:0)', 90, <Metabolite dca_e at 0x116a8c668>),\n",
       "   ('Decanoate (n-C10:0)', 90, <Metabolite dca_x at 0x116a8c6d8>)]),\n",
       " ('s_1044',\n",
       "  'L-sorbose',\n",
       "  'e',\n",
       "  [('D-Fructose', 53, <Metabolite fru_c at 0x11694fc88>),\n",
       "   ('D-Fructose', 53, <Metabolite fru_e at 0x11694ff98>),\n",
       "   ('L Sorbose C6H12O6', 90, <Metabolite srb__L_c at 0x117898588>),\n",
       "   ('L Sorbose C6H12O6', 90, <Metabolite srb__L_e at 0x117898908>)]),\n",
       " ('s_1067',\n",
       "  'laurate',\n",
       "  'e',\n",
       "  [('Dodecanoate (n-C12:0)', 51, <Metabolite ddca_c at 0x116a6b9b0>),\n",
       "   ('Dodecanoate (n-C12:0)', 51, <Metabolite ddca_e at 0x116a6b908>),\n",
       "   ('Dodecanoate (n-C12:0)', 51, <Metabolite ddca_x at 0x116a6bc18>)]),\n",
       " ('s_1490',\n",
       "  'thiamine',\n",
       "  'e',\n",
       "  [('Thiamin', 93, <Metabolite thm_c at 0x1178a4978>),\n",
       "   ('Thiamin', 93, <Metabolite thm_e at 0x1178a4a58>)]),\n",
       " ('s_2766',\n",
       "  '14-demethyllanosterol',\n",
       "  'e',\n",
       "  [('4 4 dimethylzymosterol C29H48O',\n",
       "    63,\n",
       "    <Metabolite 44mzym_c at 0x116e0f8d0>)]),\n",
       " ('s_0002',\n",
       "  '(1-3)-beta-D-glucan',\n",
       "  'c',\n",
       "  [('1 3 beta D Glucan C6H10O5', 95, <Metabolite 13BDglcn_c at 0x116f480f0>),\n",
       "   ('1 3 beta D Glucan C6H10O5', 95, <Metabolite 13BDglcn_e at 0x116f3df60>),\n",
       "   ('1 6 beta D Glucan C6H10O5', 89, <Metabolite 16BDglcn_c at 0x116f3d978>)]),\n",
       " ('s_0595',\n",
       "  'decanoate',\n",
       "  'c',\n",
       "  [('Decanoate (n-C10:0)', 90, <Metabolite dca_c at 0x116a8c128>),\n",
       "   ('Decanoate (n-C10:0)', 90, <Metabolite dca_e at 0x116a8c668>),\n",
       "   ('Decanoate (n-C10:0)', 90, <Metabolite dca_x at 0x116a8c6d8>)]),\n",
       " ('s_1065',\n",
       "  'laurate',\n",
       "  'c',\n",
       "  [('Dodecanoate (n-C12:0)', 51, <Metabolite ddca_c at 0x116a6b9b0>),\n",
       "   ('Dodecanoate (n-C12:0)', 51, <Metabolite ddca_e at 0x116a6b908>),\n",
       "   ('Dodecanoate (n-C12:0)', 51, <Metabolite ddca_x at 0x116a6bc18>)]),\n",
       " ('s_3320',\n",
       "  'palmitoleoyl-CoA',\n",
       "  'mm',\n",
       "  [('Hexadecenoyl-CoA (n-C16:1CoA)', 86, <Metabolite hdcoa_c at 0x11688a0b8>),\n",
       "   ('Hexadecenoyl-CoA (n-C16:1CoA)', 86, <Metabolite hdcoa_x at 0x11688ab38>),\n",
       "   ('Trans-Hexadec-2-enoyl-CoA', 86, <Metabolite hdd2coa_x at 0x11688a7f0>)])]"
      ]
     },
     "execution_count": 11,
     "metadata": {},
     "output_type": "execute_result"
    }
   ],
   "source": [
    "suggested_mappings"
   ]
  },
  {
   "cell_type": "code",
   "execution_count": 12,
   "metadata": {},
   "outputs": [
    {
     "name": "stdout",
     "output_type": "stream",
     "text": [
      "Based on its name (1-3)-beta-D-glucan, s_0001 can be mapped to 1 3 beta D Glucan C6H10O5, 13BDglcn_c with the new ID: 13BDglcn_ce\n",
      ".,-~^~-,.,-~^~-,.,-~^~-,.,-~^~-,.,-~^~-,.,-~^~-,.,-~^~-,.,-~^~-,.,-~^~-,.,-~^~-,\n"
     ]
    }
   ],
   "source": [
    "a = yali.metabolites.get_by_id(\"s_0001\")\n",
    "b = iMM904.metabolites.get_by_id(\"13BDglcn_c\")\n",
    "transfer_IDs(a, b)"
   ]
  },
  {
   "cell_type": "code",
   "execution_count": 13,
   "metadata": {},
   "outputs": [
    {
     "name": "stdout",
     "output_type": "stream",
     "text": [
      "Based on its name (1-3)-beta-D-glucan, s_0003 can be mapped to 1 3 beta D Glucan C6H10O5, 13BDglcn_e with the new ID: 13BDglcn_e\n",
      ".,-~^~-,.,-~^~-,.,-~^~-,.,-~^~-,.,-~^~-,.,-~^~-,.,-~^~-,.,-~^~-,.,-~^~-,.,-~^~-,\n"
     ]
    }
   ],
   "source": [
    "a = yali.metabolites.get_by_id(\"s_0003\")\n",
    "b = iMM904.metabolites.get_by_id(\"13BDglcn_e\")\n",
    "transfer_IDs(a, b)"
   ]
  },
  {
   "cell_type": "code",
   "execution_count": 14,
   "metadata": {},
   "outputs": [
    {
     "name": "stdout",
     "output_type": "stream",
     "text": [
      "Based on its name (1-6)-beta-D-glucan, s_0004 can be mapped to 1 6 beta D Glucan C6H10O5, 16BDglcn_c with the new ID: 16BDglcn_ce\n",
      ".,-~^~-,.,-~^~-,.,-~^~-,.,-~^~-,.,-~^~-,.,-~^~-,.,-~^~-,.,-~^~-,.,-~^~-,.,-~^~-,\n"
     ]
    }
   ],
   "source": [
    "a = yali.metabolites.get_by_id(\"s_0004\")\n",
    "b = iMM904.metabolites.get_by_id(\"16BDglcn_c\")\n",
    "transfer_IDs(a, b)"
   ]
  },
  {
   "cell_type": "code",
   "execution_count": 15,
   "metadata": {},
   "outputs": [
    {
     "name": "stdout",
     "output_type": "stream",
     "text": [
      "Based on its name (N(omega)-L-arginino)succinic acid, s_0015 can be mapped to N(omega)-(L-Arginino)succinate, argsuc_c with the new ID: argsuc_c\n",
      ".,-~^~-,.,-~^~-,.,-~^~-,.,-~^~-,.,-~^~-,.,-~^~-,.,-~^~-,.,-~^~-,.,-~^~-,.,-~^~-,\n"
     ]
    }
   ],
   "source": [
    "a = yali.metabolites.get_by_id(\"s_0015\")\n",
    "b = iMM904.metabolites.get_by_id(\"argsuc_c\")\n",
    "transfer_IDs(a, b)"
   ]
  },
  {
   "cell_type": "code",
   "execution_count": 16,
   "metadata": {},
   "outputs": [
    {
     "name": "stdout",
     "output_type": "stream",
     "text": [
      "Based on its name 1-C-(indol-3-yl)glycerol 3-phosphate, s_0086 can be mapped to C'-(3-Indolyl)-glycerol 3-phosphate, 3ig3p_c with the new ID: 3ig3p_c\n",
      ".,-~^~-,.,-~^~-,.,-~^~-,.,-~^~-,.,-~^~-,.,-~^~-,.,-~^~-,.,-~^~-,.,-~^~-,.,-~^~-,\n"
     ]
    }
   ],
   "source": [
    "a = yali.metabolites.get_by_id(\"s_0086\")\n",
    "b = iMM904.metabolites.get_by_id(\"3ig3p_c\")\n",
    "transfer_IDs(a, b)"
   ]
  },
  {
   "cell_type": "code",
   "execution_count": 17,
   "metadata": {},
   "outputs": [
    {
     "name": "stdout",
     "output_type": "stream",
     "text": [
      "Based on its name 1-pyrroline-3-hydroxy-5-carboxylic acid, s_0116 can be mapped to L 1 Pyrroline 3 hydroxy 5 carboxylate C5H6NO3, 1p3h5c_c with the new ID: 1p3h5c_c\n",
      ".,-~^~-,.,-~^~-,.,-~^~-,.,-~^~-,.,-~^~-,.,-~^~-,.,-~^~-,.,-~^~-,.,-~^~-,.,-~^~-,\n"
     ]
    }
   ],
   "source": [
    "a = yali.metabolites.get_by_id(\"s_0116\")\n",
    "b = iMM904.metabolites.get_by_id(\"1p3h5c_c\")\n",
    "transfer_IDs(a, b)"
   ]
  },
  {
   "cell_type": "code",
   "execution_count": 18,
   "metadata": {},
   "outputs": [
    {
     "name": "stdout",
     "output_type": "stream",
     "text": [
      "Based on its name 1-pyrroline-3-hydroxy-5-carboxylic acid, s_0117 can be mapped to L 1 Pyrroline 3 hydroxy 5 carboxylate C5H6NO3, 1p3h5c_m with the new ID: 1p3h5c_m\n",
      ".,-~^~-,.,-~^~-,.,-~^~-,.,-~^~-,.,-~^~-,.,-~^~-,.,-~^~-,.,-~^~-,.,-~^~-,.,-~^~-,\n"
     ]
    }
   ],
   "source": [
    "a = yali.metabolites.get_by_id(\"s_0117\")\n",
    "b = iMM904.metabolites.get_by_id(\"1p3h5c_m\")\n",
    "transfer_IDs(a, b)"
   ]
  },
  {
   "cell_type": "code",
   "execution_count": 19,
   "metadata": {},
   "outputs": [
    {
     "name": "stdout",
     "output_type": "stream",
     "text": [
      "Based on its name 1D-myo-inositol 1,3,4,5-tetrakisphosphate, s_0123 can be mapped to 1D myo Inositol 1 3 4 5 tetrakisphosphate C6H8O18P4, mi1345p_n with the new ID: mi1345p_n\n",
      ".,-~^~-,.,-~^~-,.,-~^~-,.,-~^~-,.,-~^~-,.,-~^~-,.,-~^~-,.,-~^~-,.,-~^~-,.,-~^~-,\n"
     ]
    }
   ],
   "source": [
    "a = yali.metabolites.get_by_id(\"s_0123\")\n",
    "b = iMM904.metabolites.get_by_id(\"mi1345p_n\")\n",
    "transfer_IDs(a, b)"
   ]
  },
  {
   "cell_type": "code",
   "execution_count": 20,
   "metadata": {},
   "outputs": [
    {
     "name": "stdout",
     "output_type": "stream",
     "text": [
      "Based on its name 1D-myo-inositol 1,4,5,6-tetrakisphosphate, s_0124 can be mapped to 1D myo Inositol 1 4 5 6 tetrakisphosphate C6H8O18P4, mi1456p_n with the new ID: mi1456p_n\n",
      ".,-~^~-,.,-~^~-,.,-~^~-,.,-~^~-,.,-~^~-,.,-~^~-,.,-~^~-,.,-~^~-,.,-~^~-,.,-~^~-,\n"
     ]
    }
   ],
   "source": [
    "a = yali.metabolites.get_by_id(\"s_0124\")\n",
    "b = iMM904.metabolites.get_by_id(\"mi1456p_n\")\n",
    "transfer_IDs(a, b)"
   ]
  },
  {
   "cell_type": "code",
   "execution_count": 21,
   "metadata": {},
   "outputs": [
    {
     "name": "stdout",
     "output_type": "stream",
     "text": [
      "Based on its name 1D-myo-inositol 1,4,5-trisphosphate, s_0125 can be mapped to 1D myo Inositol 1 4 5 trisphosphate C6H9O15P3, mi145p_n with the new ID: mi145p_n\n",
      ".,-~^~-,.,-~^~-,.,-~^~-,.,-~^~-,.,-~^~-,.,-~^~-,.,-~^~-,.,-~^~-,.,-~^~-,.,-~^~-,\n"
     ]
    }
   ],
   "source": [
    "a = yali.metabolites.get_by_id(\"s_0125\")\n",
    "b = iMM904.metabolites.get_by_id(\"mi145p_n\")\n",
    "transfer_IDs(a, b)"
   ]
  },
  {
   "cell_type": "code",
   "execution_count": 22,
   "metadata": {},
   "outputs": [
    {
     "name": "stdout",
     "output_type": "stream",
     "text": [
      "Based on its name 2-acetyllactic acid, s_0146 can be mapped to (S)-2-Acetolactate, alac__S_m with the new ID: alac__S_m\n",
      ".,-~^~-,.,-~^~-,.,-~^~-,.,-~^~-,.,-~^~-,.,-~^~-,.,-~^~-,.,-~^~-,.,-~^~-,.,-~^~-,\n"
     ]
    }
   ],
   "source": [
    "a = yali.metabolites.get_by_id(\"s_0146\")\n",
    "b = iMM904.metabolites.get_by_id(\"alac__S_m\")\n",
    "transfer_IDs(a, b)"
   ]
  },
  {
   "cell_type": "code",
   "execution_count": 23,
   "metadata": {},
   "outputs": [
    {
     "name": "stdout",
     "output_type": "stream",
     "text": [
      "Based on its name 2-hexaprenyl-5-hydroxy-6-methoxy-3-methyl-1,4-benzoquinone, s_0154 can be mapped to 2 hexaprenyl 3 methyl 5 hydroxy 6 methoxy 1 4 benzoquinone C38H56O4, 2hpmhmbq_m with the new ID: 2hpmhmbq_m\n",
      ".,-~^~-,.,-~^~-,.,-~^~-,.,-~^~-,.,-~^~-,.,-~^~-,.,-~^~-,.,-~^~-,.,-~^~-,.,-~^~-,\n"
     ]
    }
   ],
   "source": [
    "a = yali.metabolites.get_by_id(\"s_0154\")\n",
    "b = iMM904.metabolites.get_by_id(\"2hpmhmbq_m\")\n",
    "transfer_IDs(a, b)"
   ]
  },
  {
   "cell_type": "code",
   "execution_count": 24,
   "metadata": {},
   "outputs": [
    {
     "name": "stdout",
     "output_type": "stream",
     "text": [
      "Based on its name 2-hexaprenyl-6-methoxy-1,4-benzoquinone, s_0155 can be mapped to 2 Hexaprenyl 6 methoxy 1 4 benzoquinone C37H54O3, 2hp6mbq_m with the new ID: 2hp6mbq_m\n",
      ".,-~^~-,.,-~^~-,.,-~^~-,.,-~^~-,.,-~^~-,.,-~^~-,.,-~^~-,.,-~^~-,.,-~^~-,.,-~^~-,\n"
     ]
    }
   ],
   "source": [
    "a = yali.metabolites.get_by_id(\"s_0155\")\n",
    "b = iMM904.metabolites.get_by_id(\"2hp6mbq_m\")\n",
    "transfer_IDs(a, b)"
   ]
  },
  {
   "cell_type": "code",
   "execution_count": 25,
   "metadata": {},
   "outputs": [
    {
     "name": "stdout",
     "output_type": "stream",
     "text": [
      "Based on its name 2-hexaprenyl-6-methoxy-3-methyl-1,4-benzoquinone, s_0156 can be mapped to 2 hexaprenyl 3 methyl 6 methoxy 1 4 benzoquinone C38H56O3, 2hpmmbq_m with the new ID: 2hpmmbq_m\n",
      ".,-~^~-,.,-~^~-,.,-~^~-,.,-~^~-,.,-~^~-,.,-~^~-,.,-~^~-,.,-~^~-,.,-~^~-,.,-~^~-,\n"
     ]
    }
   ],
   "source": [
    "a = yali.metabolites.get_by_id(\"s_0156\")\n",
    "b = iMM904.metabolites.get_by_id(\"2hpmmbq_m\")\n",
    "transfer_IDs(a, b)"
   ]
  },
  {
   "cell_type": "code",
   "execution_count": 26,
   "metadata": {},
   "outputs": [
    {
     "name": "stdout",
     "output_type": "stream",
     "text": [
      "Based on its name 3',5'-cyclic CMP, s_0193 can be mapped to 3  5  Cyclic CMP C9H11N3O7P, 35ccmp_c with the new ID: 35ccmp_c\n",
      ".,-~^~-,.,-~^~-,.,-~^~-,.,-~^~-,.,-~^~-,.,-~^~-,.,-~^~-,.,-~^~-,.,-~^~-,.,-~^~-,\n"
     ]
    }
   ],
   "source": [
    "a = yali.metabolites.get_by_id(\"s_0193\")\n",
    "b = iMM904.metabolites.get_by_id(\"35ccmp_c\")\n",
    "transfer_IDs(a, b)"
   ]
  },
  {
   "cell_type": "code",
   "execution_count": 27,
   "metadata": {},
   "outputs": [
    {
     "name": "stdout",
     "output_type": "stream",
     "text": [
      "Based on its name 3-methylbutanal, s_0234 can be mapped to 3 Methylbutanal C5H10O, 3mbald_c with the new ID: 3mbald_c\n",
      ".,-~^~-,.,-~^~-,.,-~^~-,.,-~^~-,.,-~^~-,.,-~^~-,.,-~^~-,.,-~^~-,.,-~^~-,.,-~^~-,\n"
     ]
    }
   ],
   "source": [
    "a = yali.metabolites.get_by_id(\"s_0234\")\n",
    "b = iMM904.metabolites.get_by_id(\"3mbald_c\")\n",
    "transfer_IDs(a, b)"
   ]
  },
  {
   "cell_type": "code",
   "execution_count": 28,
   "metadata": {},
   "outputs": [
    {
     "name": "stdout",
     "output_type": "stream",
     "text": [
      "Based on its name 3-methylbutanal, s_0236 can be mapped to 3 Methylbutanal C5H10O, 3mbald_m with the new ID: 3mbald_m\n",
      ".,-~^~-,.,-~^~-,.,-~^~-,.,-~^~-,.,-~^~-,.,-~^~-,.,-~^~-,.,-~^~-,.,-~^~-,.,-~^~-,\n"
     ]
    }
   ],
   "source": [
    "a = yali.metabolites.get_by_id(\"s_0236\")\n",
    "b = iMM904.metabolites.get_by_id(\"3mbald_m\")\n",
    "transfer_IDs(a, b)"
   ]
  },
  {
   "cell_type": "code",
   "execution_count": 29,
   "metadata": {},
   "outputs": [
    {
     "name": "stdout",
     "output_type": "stream",
     "text": [
      "Based on its name 4,4-dimethyl-5alpha-cholesta-8,14,24-trien-3beta-ol, s_0262 can be mapped to 4 4 dimethylcholesta 8 14 24 trienol C29H46O, 44mctr_c with the new ID: 44mctr_c\n",
      ".,-~^~-,.,-~^~-,.,-~^~-,.,-~^~-,.,-~^~-,.,-~^~-,.,-~^~-,.,-~^~-,.,-~^~-,.,-~^~-,\n"
     ]
    }
   ],
   "source": [
    "a = yali.metabolites.get_by_id(\"s_0262\")\n",
    "b = iMM904.metabolites.get_by_id(\"44mctr_c\")\n",
    "transfer_IDs(a, b)"
   ]
  },
  {
   "cell_type": "code",
   "execution_count": 30,
   "metadata": {},
   "outputs": [
    {
     "name": "stdout",
     "output_type": "stream",
     "text": [
      "Based on its name 4alpha-methylzymosterol, s_0296 can be mapped to 4 methylzymosterol C28H46O, 4mzym_c with the new ID: 4mzym_c\n",
      ".,-~^~-,.,-~^~-,.,-~^~-,.,-~^~-,.,-~^~-,.,-~^~-,.,-~^~-,.,-~^~-,.,-~^~-,.,-~^~-,\n"
     ]
    }
   ],
   "source": [
    "a = yali.metabolites.get_by_id(\"s_0296\")\n",
    "b = iMM904.metabolites.get_by_id(\"4mzym_c\")\n",
    "transfer_IDs(a, b)"
   ]
  },
  {
   "cell_type": "code",
   "execution_count": 31,
   "metadata": {},
   "outputs": [
    {
     "name": "stdout",
     "output_type": "stream",
     "text": [
      "Based on its name 7,8-dihydroneopterin 3'-triphosphate, s_0346 can be mapped to 2-Amino-4-hydroxy-6-(erythro-1,2,3-trihydroxypropyl)dihydropteridine triphosphate, ahdt_c with the new ID: ahdt_c\n",
      ".,-~^~-,.,-~^~-,.,-~^~-,.,-~^~-,.,-~^~-,.,-~^~-,.,-~^~-,.,-~^~-,.,-~^~-,.,-~^~-,\n"
     ]
    }
   ],
   "source": [
    "a = yali.metabolites.get_by_id(\"s_0346\")\n",
    "b = iMM904.metabolites.get_by_id(\"ahdt_c\")\n",
    "transfer_IDs(a, b)"
   ]
  },
  {
   "cell_type": "code",
   "execution_count": 32,
   "metadata": {},
   "outputs": [
    {
     "name": "stdout",
     "output_type": "stream",
     "text": [
      "Based on its name adenosine 2'-phosphate, s_0389 can be mapped to Adenosine 2  phosphate C10H14N5O7P, amp2p_c with the new ID: amp2p_c\n",
      ".,-~^~-,.,-~^~-,.,-~^~-,.,-~^~-,.,-~^~-,.,-~^~-,.,-~^~-,.,-~^~-,.,-~^~-,.,-~^~-,\n"
     ]
    }
   ],
   "source": [
    "a = yali.metabolites.get_by_id(\"s_0389\")\n",
    "b = iMM904.metabolites.get_by_id(\"amp2p_c\")\n",
    "transfer_IDs(a, b)"
   ]
  },
  {
   "cell_type": "code",
   "execution_count": 33,
   "metadata": {},
   "outputs": [
    {
     "name": "stdout",
     "output_type": "stream",
     "text": [
      "Based on its name Asp-tRNA(Asp), s_0432 can be mapped to L-Aspartyl-tRNA(Asp), asptrna_c with the new ID: asptrna_c\n",
      ".,-~^~-,.,-~^~-,.,-~^~-,.,-~^~-,.,-~^~-,.,-~^~-,.,-~^~-,.,-~^~-,.,-~^~-,.,-~^~-,\n"
     ]
    }
   ],
   "source": [
    "a = yali.metabolites.get_by_id(\"s_0432\")\n",
    "b = iMM904.metabolites.get_by_id(\"asptrna_c\")\n",
    "transfer_IDs(a, b)"
   ]
  },
  {
   "cell_type": "code",
   "execution_count": 34,
   "metadata": {},
   "outputs": [
    {
     "name": "stdout",
     "output_type": "stream",
     "text": [
      "Based on its name Asp-tRNA(Asp), s_0433 can be mapped to L-Aspartyl-tRNA(Asp), asptrna_m with the new ID: asptrna_m\n",
      ".,-~^~-,.,-~^~-,.,-~^~-,.,-~^~-,.,-~^~-,.,-~^~-,.,-~^~-,.,-~^~-,.,-~^~-,.,-~^~-,\n"
     ]
    }
   ],
   "source": [
    "a = yali.metabolites.get_by_id(\"s_0433\")\n",
    "b = iMM904.metabolites.get_by_id(\"asptrna_m\")\n",
    "transfer_IDs(a, b)"
   ]
  },
  {
   "cell_type": "code",
   "execution_count": 35,
   "metadata": {},
   "outputs": [
    {
     "name": "stdout",
     "output_type": "stream",
     "text": [
      "Based on its name biotinyl-5'-AMP, s_0453 can be mapped to Biotinyl 5  AMP C20H27N7O9PS, btamp_c with the new ID: btamp_c\n",
      ".,-~^~-,.,-~^~-,.,-~^~-,.,-~^~-,.,-~^~-,.,-~^~-,.,-~^~-,.,-~^~-,.,-~^~-,.,-~^~-,\n"
     ]
    }
   ],
   "source": [
    "a = yali.metabolites.get_by_id(\"s_0453\")\n",
    "b = iMM904.metabolites.get_by_id(\"btamp_c\")\n",
    "transfer_IDs(a, b)"
   ]
  },
  {
   "cell_type": "code",
   "execution_count": 36,
   "metadata": {},
   "outputs": [
    {
     "name": "stdout",
     "output_type": "stream",
     "text": [
      "Based on its name D-arabinose, s_0548 can be mapped to D Arabinose C5H10O5, arab__D_c with the new ID: arab__D_c\n",
      ".,-~^~-,.,-~^~-,.,-~^~-,.,-~^~-,.,-~^~-,.,-~^~-,.,-~^~-,.,-~^~-,.,-~^~-,.,-~^~-,\n"
     ]
    }
   ],
   "source": [
    "a = yali.metabolites.get_by_id(\"s_0548\")\n",
    "b = iMM904.metabolites.get_by_id(\"arab__D_c\")\n",
    "transfer_IDs(a, b)"
   ]
  },
  {
   "cell_type": "code",
   "execution_count": 37,
   "metadata": {},
   "outputs": [
    {
     "name": "stdout",
     "output_type": "stream",
     "text": [
      "Based on its name decanoate, s_0600 can be mapped to Decanoate (n-C10:0), dca_c with the new ID: dca_p\n",
      ".,-~^~-,.,-~^~-,.,-~^~-,.,-~^~-,.,-~^~-,.,-~^~-,.,-~^~-,.,-~^~-,.,-~^~-,.,-~^~-,\n"
     ]
    }
   ],
   "source": [
    "a = yali.metabolites.get_by_id(\"s_0600\")\n",
    "b = iMM904.metabolites.get_by_id(\"dca_c\")\n",
    "transfer_IDs(a, b)"
   ]
  },
  {
   "cell_type": "code",
   "execution_count": 38,
   "metadata": {},
   "outputs": [
    {
     "name": "stdout",
     "output_type": "stream",
     "text": [
      "Based on its name ergosta-5,7,24(28)-trien-3beta-ol, s_0664 can be mapped to Ergosta 5 7 24 28  trienol C28H44O, ergtrol_c with the new ID: ergtrol_c\n",
      ".,-~^~-,.,-~^~-,.,-~^~-,.,-~^~-,.,-~^~-,.,-~^~-,.,-~^~-,.,-~^~-,.,-~^~-,.,-~^~-,\n"
     ]
    }
   ],
   "source": [
    "a = yali.metabolites.get_by_id(\"s_0664\")\n",
    "b = iMM904.metabolites.get_by_id(\"ergtrol_c\")\n",
    "transfer_IDs(a, b)"
   ]
  },
  {
   "cell_type": "code",
   "execution_count": 39,
   "metadata": {},
   "outputs": [
    {
     "name": "stdout",
     "output_type": "stream",
     "text": [
      "Based on its name ergosterol 3-beta-D-glucoside, s_0670 can be mapped to Ergosterol 3 beta D glucoside C34H54O6, ergst3glc_c with the new ID: ergst3glc_c\n",
      ".,-~^~-,.,-~^~-,.,-~^~-,.,-~^~-,.,-~^~-,.,-~^~-,.,-~^~-,.,-~^~-,.,-~^~-,.,-~^~-,\n"
     ]
    }
   ],
   "source": [
    "a = yali.metabolites.get_by_id(\"s_0670\")\n",
    "b = iMM904.metabolites.get_by_id(\"ergst3glc_c\")\n",
    "transfer_IDs(a, b)"
   ]
  },
  {
   "cell_type": "code",
   "execution_count": 40,
   "metadata": {},
   "outputs": [
    {
     "name": "stdout",
     "output_type": "stream",
     "text": [
      "Based on its name homoisocitrate, s_0836 can be mapped to Homoisocitrate C7H7O7, hicit_m with the new ID: hicit_m\n",
      ".,-~^~-,.,-~^~-,.,-~^~-,.,-~^~-,.,-~^~-,.,-~^~-,.,-~^~-,.,-~^~-,.,-~^~-,.,-~^~-,\n"
     ]
    }
   ],
   "source": [
    "a = yali.metabolites.get_by_id(\"s_0836\")\n",
    "b = iMM904.metabolites.get_by_id(\"hicit_m\")\n",
    "transfer_IDs(a, b)"
   ]
  },
  {
   "cell_type": "code",
   "execution_count": 41,
   "metadata": {},
   "outputs": [
    {
     "name": "stdout",
     "output_type": "stream",
     "text": [
      "Based on its name keto-phenylpyruvate, s_0951 can be mapped to Phenylpyruvate, phpyr_c with the new ID: phpyr_c\n",
      ".,-~^~-,.,-~^~-,.,-~^~-,.,-~^~-,.,-~^~-,.,-~^~-,.,-~^~-,.,-~^~-,.,-~^~-,.,-~^~-,\n"
     ]
    }
   ],
   "source": [
    "a = yali.metabolites.get_by_id(\"s_0951\")\n",
    "b = iMM904.metabolites.get_by_id(\"phpyr_c\")\n",
    "transfer_IDs(a, b)"
   ]
  },
  {
   "cell_type": "code",
   "execution_count": 42,
   "metadata": {},
   "outputs": [
    {
     "name": "stdout",
     "output_type": "stream",
     "text": [
      "Based on its name L-sorbose, s_1043 can be mapped to L Sorbose C6H12O6, srb__L_c with the new ID: srb__L_c\n",
      ".,-~^~-,.,-~^~-,.,-~^~-,.,-~^~-,.,-~^~-,.,-~^~-,.,-~^~-,.,-~^~-,.,-~^~-,.,-~^~-,\n"
     ]
    }
   ],
   "source": [
    "a = yali.metabolites.get_by_id(\"s_1043\")\n",
    "b = iMM904.metabolites.get_by_id(\"srb__L_c\")\n",
    "transfer_IDs(a, b)"
   ]
  },
  {
   "cell_type": "code",
   "execution_count": 43,
   "metadata": {},
   "outputs": [
    {
     "name": "stdout",
     "output_type": "stream",
     "text": [
      "Based on its name laurate, s_1070 can be mapped to Dodecanoate (n-C12:0), ddca_c with the new ID: ddca_p\n",
      ".,-~^~-,.,-~^~-,.,-~^~-,.,-~^~-,.,-~^~-,.,-~^~-,.,-~^~-,.,-~^~-,.,-~^~-,.,-~^~-,\n"
     ]
    }
   ],
   "source": [
    "a = yali.metabolites.get_by_id(\"s_1070\")\n",
    "b = iMM904.metabolites.get_by_id(\"ddca_c\")\n",
    "transfer_IDs(a, b)"
   ]
  },
  {
   "cell_type": "code",
   "execution_count": 44,
   "metadata": {},
   "outputs": [
    {
     "name": "stdout",
     "output_type": "stream",
     "text": [
      "Based on its name Met-tRNA(Met), s_1148 can be mapped to L-Methionyl-tRNA (Met), mettrna_c with the new ID: mettrna_c\n",
      ".,-~^~-,.,-~^~-,.,-~^~-,.,-~^~-,.,-~^~-,.,-~^~-,.,-~^~-,.,-~^~-,.,-~^~-,.,-~^~-,\n"
     ]
    }
   ],
   "source": [
    "a = yali.metabolites.get_by_id(\"s_1148\")\n",
    "b = iMM904.metabolites.get_by_id(\"mettrna_c\")\n",
    "transfer_IDs(a, b)"
   ]
  },
  {
   "cell_type": "code",
   "execution_count": 45,
   "metadata": {},
   "outputs": [
    {
     "name": "stdout",
     "output_type": "stream",
     "text": [
      "Based on its name Met-tRNA(Met), s_1149 can be mapped to L-Methionyl-tRNA (Met), mettrna_m with the new ID: mettrna_m\n",
      ".,-~^~-,.,-~^~-,.,-~^~-,.,-~^~-,.,-~^~-,.,-~^~-,.,-~^~-,.,-~^~-,.,-~^~-,.,-~^~-,\n"
     ]
    }
   ],
   "source": [
    "a = yali.metabolites.get_by_id(\"s_1149\")\n",
    "b = iMM904.metabolites.get_by_id(\"mettrna_m\")\n",
    "transfer_IDs(a, b)"
   ]
  },
  {
   "cell_type": "code",
   "execution_count": 46,
   "metadata": {},
   "outputs": [
    {
     "name": "stdout",
     "output_type": "stream",
     "text": [
      "Based on its name myo-inositol 1,3,4,5,6-pentakisphosphate, s_1156 can be mapped to 1D myo Inositol 1 3 4 5 6 pentakisphosphate C6H7O21P5, mi13456p_c with the new ID: mi13456p_c\n",
      ".,-~^~-,.,-~^~-,.,-~^~-,.,-~^~-,.,-~^~-,.,-~^~-,.,-~^~-,.,-~^~-,.,-~^~-,.,-~^~-,\n"
     ]
    }
   ],
   "source": [
    "a = yali.metabolites.get_by_id(\"s_1156\")\n",
    "b = iMM904.metabolites.get_by_id(\"mi13456p_c\")\n",
    "transfer_IDs(a, b)"
   ]
  },
  {
   "cell_type": "code",
   "execution_count": 47,
   "metadata": {},
   "outputs": [
    {
     "name": "stdout",
     "output_type": "stream",
     "text": [
      "Based on its name myo-inositol 1,3,4,5,6-pentakisphosphate, s_1157 can be mapped to 1D myo Inositol 1 3 4 5 6 pentakisphosphate C6H7O21P5, mi13456p_n with the new ID: mi13456p_n\n",
      ".,-~^~-,.,-~^~-,.,-~^~-,.,-~^~-,.,-~^~-,.,-~^~-,.,-~^~-,.,-~^~-,.,-~^~-,.,-~^~-,\n"
     ]
    }
   ],
   "source": [
    "a = yali.metabolites.get_by_id(\"s_1157\")\n",
    "b = iMM904.metabolites.get_by_id(\"mi13456p_n\")\n",
    "transfer_IDs(a, b)"
   ]
  },
  {
   "cell_type": "code",
   "execution_count": 48,
   "metadata": {},
   "outputs": [
    {
     "name": "stdout",
     "output_type": "stream",
     "text": [
      "Based on its name Ser-tRNA(Ser), s_1428 can be mapped to L-Seryl-tRNA(Ser), sertrna_c with the new ID: sertrna_c\n",
      ".,-~^~-,.,-~^~-,.,-~^~-,.,-~^~-,.,-~^~-,.,-~^~-,.,-~^~-,.,-~^~-,.,-~^~-,.,-~^~-,\n"
     ]
    }
   ],
   "source": [
    "a = yali.metabolites.get_by_id(\"s_1428\")\n",
    "b = iMM904.metabolites.get_by_id(\"sertrna_c\")\n",
    "transfer_IDs(a, b)"
   ]
  },
  {
   "cell_type": "code",
   "execution_count": 49,
   "metadata": {},
   "outputs": [
    {
     "name": "stdout",
     "output_type": "stream",
     "text": [
      "Based on its name thiamine, s_1489 can be mapped to Thiamin, thm_c with the new ID: thm_c\n",
      ".,-~^~-,.,-~^~-,.,-~^~-,.,-~^~-,.,-~^~-,.,-~^~-,.,-~^~-,.,-~^~-,.,-~^~-,.,-~^~-,\n"
     ]
    }
   ],
   "source": [
    "a = yali.metabolites.get_by_id(\"s_1489\")\n",
    "b = iMM904.metabolites.get_by_id(\"thm_c\")\n",
    "transfer_IDs(a, b)"
   ]
  },
  {
   "cell_type": "code",
   "execution_count": 50,
   "metadata": {},
   "outputs": [
    {
     "name": "stdout",
     "output_type": "stream",
     "text": [
      "Based on its name UDP-D-galactose, s_1541 can be mapped to UDPgalactose, udpgal_c with the new ID: udpgal_c\n",
      ".,-~^~-,.,-~^~-,.,-~^~-,.,-~^~-,.,-~^~-,.,-~^~-,.,-~^~-,.,-~^~-,.,-~^~-,.,-~^~-,\n"
     ]
    }
   ],
   "source": [
    "a = yali.metabolites.get_by_id(\"s_1541\")\n",
    "b = iMM904.metabolites.get_by_id(\"udpgal_c\")\n",
    "transfer_IDs(a, b)"
   ]
  },
  {
   "cell_type": "code",
   "execution_count": 51,
   "metadata": {},
   "outputs": [
    {
     "name": "stdout",
     "output_type": "stream",
     "text": [
      "Based on its name UDP-D-galactose, s_1542 can be mapped to UDPgalactose, udpgal_g with the new ID: udpgal_g\n",
      ".,-~^~-,.,-~^~-,.,-~^~-,.,-~^~-,.,-~^~-,.,-~^~-,.,-~^~-,.,-~^~-,.,-~^~-,.,-~^~-,\n"
     ]
    }
   ],
   "source": [
    "a = yali.metabolites.get_by_id(\"s_1542\")\n",
    "b = iMM904.metabolites.get_by_id(\"udpgal_g\")\n",
    "transfer_IDs(a, b)"
   ]
  },
  {
   "cell_type": "code",
   "execution_count": 52,
   "metadata": {},
   "outputs": [
    {
     "name": "stdout",
     "output_type": "stream",
     "text": [
      "Based on its name xanthosine-5-phosphate, s_1565 can be mapped to Xanthosine 5'-phosphate, xmp_c with the new ID: xmp_c\n",
      ".,-~^~-,.,-~^~-,.,-~^~-,.,-~^~-,.,-~^~-,.,-~^~-,.,-~^~-,.,-~^~-,.,-~^~-,.,-~^~-,\n"
     ]
    }
   ],
   "source": [
    "a = yali.metabolites.get_by_id(\"s_1565\")\n",
    "b = iMM904.metabolites.get_by_id(\"xmp_c\")\n",
    "transfer_IDs(a, b)"
   ]
  },
  {
   "cell_type": "code",
   "execution_count": 53,
   "metadata": {},
   "outputs": [
    {
     "name": "stdout",
     "output_type": "stream",
     "text": [
      "Based on its name palmitoleoyl-CoA, s_2819 can be mapped to Hexadecenoyl-CoA (n-C16:1CoA), hdcoa_c with the new ID: hdcoa_erm\n",
      ".,-~^~-,.,-~^~-,.,-~^~-,.,-~^~-,.,-~^~-,.,-~^~-,.,-~^~-,.,-~^~-,.,-~^~-,.,-~^~-,\n"
     ]
    }
   ],
   "source": [
    "a = yali.metabolites.get_by_id(\"s_2819\")\n",
    "b = iMM904.metabolites.get_by_id(\"hdcoa_c\")\n",
    "transfer_IDs(a, b)"
   ]
  },
  {
   "cell_type": "code",
   "execution_count": 54,
   "metadata": {},
   "outputs": [
    {
     "name": "stdout",
     "output_type": "stream",
     "text": [
      "Based on its name laurate, s_2832 can be mapped to Dodecanoate (n-C12:0), ddca_c with the new ID: ddca_erm\n",
      ".,-~^~-,.,-~^~-,.,-~^~-,.,-~^~-,.,-~^~-,.,-~^~-,.,-~^~-,.,-~^~-,.,-~^~-,.,-~^~-,\n"
     ]
    }
   ],
   "source": [
    "a = yali.metabolites.get_by_id(\"s_2832\")\n",
    "b = iMM904.metabolites.get_by_id(\"ddca_c\")\n",
    "transfer_IDs(a, b)"
   ]
  },
  {
   "cell_type": "code",
   "execution_count": 55,
   "metadata": {},
   "outputs": [
    {
     "name": "stdout",
     "output_type": "stream",
     "text": [
      "Based on its name laurate, s_2841 can be mapped to Dodecanoate (n-C12:0), ddca_c with the new ID: ddca_lp\n",
      ".,-~^~-,.,-~^~-,.,-~^~-,.,-~^~-,.,-~^~-,.,-~^~-,.,-~^~-,.,-~^~-,.,-~^~-,.,-~^~-,\n"
     ]
    }
   ],
   "source": [
    "a = yali.metabolites.get_by_id(\"s_2841\")\n",
    "b = iMM904.metabolites.get_by_id(\"ddca_c\")\n",
    "transfer_IDs(a, b)"
   ]
  },
  {
   "cell_type": "code",
   "execution_count": 56,
   "metadata": {},
   "outputs": [
    {
     "name": "stdout",
     "output_type": "stream",
     "text": [
      "Based on its name palmitoleoyl-CoA, s_2849 can be mapped to Hexadecenoyl-CoA (n-C16:1CoA), hdcoa_c with the new ID: hdcoa_lp\n",
      ".,-~^~-,.,-~^~-,.,-~^~-,.,-~^~-,.,-~^~-,.,-~^~-,.,-~^~-,.,-~^~-,.,-~^~-,.,-~^~-,\n"
     ]
    }
   ],
   "source": [
    "a = yali.metabolites.get_by_id(\"s_2849\")\n",
    "b = iMM904.metabolites.get_by_id(\"hdcoa_c\")\n",
    "transfer_IDs(a, b)"
   ]
  },
  {
   "cell_type": "code",
   "execution_count": 57,
   "metadata": {},
   "outputs": [
    {
     "name": "stdout",
     "output_type": "stream",
     "text": [
      "Based on its name palmitoleoyl-CoA, s_2854 can be mapped to Hexadecenoyl-CoA (n-C16:1CoA), hdcoa_c with the new ID: hdcoa_p\n",
      ".,-~^~-,.,-~^~-,.,-~^~-,.,-~^~-,.,-~^~-,.,-~^~-,.,-~^~-,.,-~^~-,.,-~^~-,.,-~^~-,\n"
     ]
    }
   ],
   "source": [
    "a = yali.metabolites.get_by_id(\"s_2854\")\n",
    "b = iMM904.metabolites.get_by_id(\"hdcoa_c\")\n",
    "transfer_IDs(a, b)"
   ]
  },
  {
   "cell_type": "code",
   "execution_count": 58,
   "metadata": {},
   "outputs": [
    {
     "name": "stdout",
     "output_type": "stream",
     "text": [
      "Based on its name palmitoleoyl-CoA, s_2877 can be mapped to Hexadecenoyl-CoA (n-C16:1CoA), hdcoa_c with the new ID: hdcoa_c\n",
      ".,-~^~-,.,-~^~-,.,-~^~-,.,-~^~-,.,-~^~-,.,-~^~-,.,-~^~-,.,-~^~-,.,-~^~-,.,-~^~-,\n"
     ]
    }
   ],
   "source": [
    "a = yali.metabolites.get_by_id(\"s_2877\")\n",
    "b = iMM904.metabolites.get_by_id(\"hdcoa_c\")\n",
    "transfer_IDs(a, b)"
   ]
  },
  {
   "cell_type": "code",
   "execution_count": 59,
   "metadata": {},
   "outputs": [
    {
     "name": "stdout",
     "output_type": "stream",
     "text": [
      "Based on its name 1D-myo-inositol 1,4,5-trisphosphate, s_3498 can be mapped to 1D myo Inositol 1 4 5 trisphosphate C6H9O15P3, mi145p_c with the new ID: mi145p_c\n",
      ".,-~^~-,.,-~^~-,.,-~^~-,.,-~^~-,.,-~^~-,.,-~^~-,.,-~^~-,.,-~^~-,.,-~^~-,.,-~^~-,\n"
     ]
    }
   ],
   "source": [
    "a = yali.metabolites.get_by_id(\"s_3498\")\n",
    "b = iMM904.metabolites.get_by_id(\"mi145p_c\")\n",
    "transfer_IDs(a, b)"
   ]
  },
  {
   "cell_type": "code",
   "execution_count": 60,
   "metadata": {},
   "outputs": [
    {
     "name": "stdout",
     "output_type": "stream",
     "text": [
      "Based on its name 3-methylbutanal, s_0235 can be mapped to 3 Methylbutanal C5H10O, 3mbald_e with the new ID: 3mbald_e\n",
      ".,-~^~-,.,-~^~-,.,-~^~-,.,-~^~-,.,-~^~-,.,-~^~-,.,-~^~-,.,-~^~-,.,-~^~-,.,-~^~-,\n"
     ]
    }
   ],
   "source": [
    "a = yali.metabolites.get_by_id(\"s_0235\")\n",
    "b = iMM904.metabolites.get_by_id(\"3mbald_e\")\n",
    "transfer_IDs(a, b)"
   ]
  },
  {
   "cell_type": "code",
   "execution_count": 61,
   "metadata": {},
   "outputs": [
    {
     "name": "stdout",
     "output_type": "stream",
     "text": [
      "Based on its name D-arabinose, s_0549 can be mapped to D Arabinose C5H10O5, arab__D_e with the new ID: arab__D_e\n",
      ".,-~^~-,.,-~^~-,.,-~^~-,.,-~^~-,.,-~^~-,.,-~^~-,.,-~^~-,.,-~^~-,.,-~^~-,.,-~^~-,\n"
     ]
    }
   ],
   "source": [
    "a = yali.metabolites.get_by_id(\"s_0549\")\n",
    "b = iMM904.metabolites.get_by_id(\"arab__D_e\")\n",
    "transfer_IDs(a, b)"
   ]
  },
  {
   "cell_type": "code",
   "execution_count": 62,
   "metadata": {},
   "outputs": [
    {
     "name": "stdout",
     "output_type": "stream",
     "text": [
      "Based on its name decanoate, s_0597 can be mapped to Decanoate (n-C10:0), dca_e with the new ID: dca_e\n",
      ".,-~^~-,.,-~^~-,.,-~^~-,.,-~^~-,.,-~^~-,.,-~^~-,.,-~^~-,.,-~^~-,.,-~^~-,.,-~^~-,\n"
     ]
    }
   ],
   "source": [
    "a = yali.metabolites.get_by_id(\"s_0597\")\n",
    "b = iMM904.metabolites.get_by_id(\"dca_e\")\n",
    "transfer_IDs(a, b)"
   ]
  },
  {
   "cell_type": "code",
   "execution_count": 63,
   "metadata": {},
   "outputs": [
    {
     "name": "stdout",
     "output_type": "stream",
     "text": [
      "Based on its name L-sorbose, s_1044 can be mapped to L Sorbose C6H12O6, srb__L_e with the new ID: srb__L_e\n",
      ".,-~^~-,.,-~^~-,.,-~^~-,.,-~^~-,.,-~^~-,.,-~^~-,.,-~^~-,.,-~^~-,.,-~^~-,.,-~^~-,\n"
     ]
    }
   ],
   "source": [
    "a = yali.metabolites.get_by_id(\"s_1044\")\n",
    "b = iMM904.metabolites.get_by_id(\"srb__L_e\")\n",
    "transfer_IDs(a, b)"
   ]
  },
  {
   "cell_type": "code",
   "execution_count": 64,
   "metadata": {},
   "outputs": [
    {
     "name": "stdout",
     "output_type": "stream",
     "text": [
      "Based on its name laurate, s_1067 can be mapped to Dodecanoate (n-C12:0), ddca_e with the new ID: ddca_e\n",
      ".,-~^~-,.,-~^~-,.,-~^~-,.,-~^~-,.,-~^~-,.,-~^~-,.,-~^~-,.,-~^~-,.,-~^~-,.,-~^~-,\n"
     ]
    }
   ],
   "source": [
    "a = yali.metabolites.get_by_id(\"s_1067\")\n",
    "b = iMM904.metabolites.get_by_id(\"ddca_e\")\n",
    "transfer_IDs(a, b)"
   ]
  },
  {
   "cell_type": "code",
   "execution_count": 65,
   "metadata": {},
   "outputs": [
    {
     "name": "stdout",
     "output_type": "stream",
     "text": [
      "Based on its name thiamine, s_1490 can be mapped to Thiamin, thm_e with the new ID: thm_e\n",
      ".,-~^~-,.,-~^~-,.,-~^~-,.,-~^~-,.,-~^~-,.,-~^~-,.,-~^~-,.,-~^~-,.,-~^~-,.,-~^~-,\n"
     ]
    }
   ],
   "source": [
    "a = yali.metabolites.get_by_id(\"s_1490\")\n",
    "b = iMM904.metabolites.get_by_id(\"thm_e\")\n",
    "transfer_IDs(a, b)"
   ]
  },
  {
   "cell_type": "code",
   "execution_count": 66,
   "metadata": {},
   "outputs": [
    {
     "name": "stdout",
     "output_type": "stream",
     "text": [
      "Based on its name (1-3)-beta-D-glucan, s_0002 can be mapped to 1 3 beta D Glucan C6H10O5, 13BDglcn_c with the new ID: 13BDglcn_c\n",
      ".,-~^~-,.,-~^~-,.,-~^~-,.,-~^~-,.,-~^~-,.,-~^~-,.,-~^~-,.,-~^~-,.,-~^~-,.,-~^~-,\n"
     ]
    }
   ],
   "source": [
    "a = yali.metabolites.get_by_id(\"s_0002\")\n",
    "b = iMM904.metabolites.get_by_id(\"13BDglcn_c\")\n",
    "transfer_IDs(a, b)"
   ]
  },
  {
   "cell_type": "code",
   "execution_count": 67,
   "metadata": {},
   "outputs": [
    {
     "name": "stdout",
     "output_type": "stream",
     "text": [
      "Based on its name decanoate, s_0595 can be mapped to Decanoate (n-C10:0), dca_c with the new ID: dca_c\n",
      ".,-~^~-,.,-~^~-,.,-~^~-,.,-~^~-,.,-~^~-,.,-~^~-,.,-~^~-,.,-~^~-,.,-~^~-,.,-~^~-,\n"
     ]
    }
   ],
   "source": [
    "a = yali.metabolites.get_by_id(\"s_0595\")\n",
    "b = iMM904.metabolites.get_by_id(\"dca_c\")\n",
    "transfer_IDs(a, b)"
   ]
  },
  {
   "cell_type": "code",
   "execution_count": 68,
   "metadata": {},
   "outputs": [
    {
     "name": "stdout",
     "output_type": "stream",
     "text": [
      "Based on its name laurate, s_1065 can be mapped to Dodecanoate (n-C12:0), ddca_c with the new ID: ddca_c\n",
      ".,-~^~-,.,-~^~-,.,-~^~-,.,-~^~-,.,-~^~-,.,-~^~-,.,-~^~-,.,-~^~-,.,-~^~-,.,-~^~-,\n"
     ]
    }
   ],
   "source": [
    "a = yali.metabolites.get_by_id(\"s_1065\")\n",
    "b = iMM904.metabolites.get_by_id(\"ddca_c\")\n",
    "transfer_IDs(a, b)"
   ]
  },
  {
   "cell_type": "code",
   "execution_count": 69,
   "metadata": {},
   "outputs": [
    {
     "name": "stdout",
     "output_type": "stream",
     "text": [
      "Based on its name palmitoleoyl-CoA, s_3320 can be mapped to Hexadecenoyl-CoA (n-C16:1CoA), hdcoa_c with the new ID: hdcoa_mm\n",
      ".,-~^~-,.,-~^~-,.,-~^~-,.,-~^~-,.,-~^~-,.,-~^~-,.,-~^~-,.,-~^~-,.,-~^~-,.,-~^~-,\n"
     ]
    }
   ],
   "source": [
    "a = yali.metabolites.get_by_id(\"s_3320\")\n",
    "b = iMM904.metabolites.get_by_id(\"hdcoa_c\")\n",
    "transfer_IDs(a, b)"
   ]
  },
  {
   "cell_type": "code",
   "execution_count": 70,
   "metadata": {},
   "outputs": [
    {
     "data": {
      "text/plain": [
       "307"
      ]
     },
     "execution_count": 70,
     "metadata": {},
     "output_type": "execute_result"
    }
   ],
   "source": [
    "pattern = re.compile('s_[0-9]+')\n",
    "unmapped_mets = [met for met in yali.metabolites if re.findall(pattern, met.id)]\n",
    "len(unmapped_mets)"
   ]
  },
  {
   "cell_type": "code",
   "execution_count": 71,
   "metadata": {},
   "outputs": [],
   "source": [
    "from fuzzywuzzy import fuzz"
   ]
  },
  {
   "cell_type": "code",
   "execution_count": 72,
   "metadata": {},
   "outputs": [],
   "source": [
    "suggested_mappings_2 = []\n",
    "# Generate a dict of met.id:met.name for iMM904:\n",
    "choice = {met: met.name for met in iMM904.metabolites}\n",
    "\n",
    "for met_a in unmapped_mets:\n",
    "    relevant_matches = []\n",
    "    for key in choice:\n",
    "        score = fuzz.token_set_ratio(met_a.name, choice[key])\n",
    "        if score > 90:\n",
    "            tup = (score, choice[key], key.id)\n",
    "            relevant_matches.append(tup)\n",
    "    if not relevant_matches:\n",
    "        continue\n",
    "    suggested_mappings_2.append((met_a.id, met_a.name, met_a.compartment, relevant_matches))"
   ]
  },
  {
   "cell_type": "code",
   "execution_count": 73,
   "metadata": {},
   "outputs": [
    {
     "name": "stdout",
     "output_type": "stream",
     "text": [
      "Based on its name 3',5'-cyclic dAMP, s_0194 can be mapped to 3  5  Cyclic dAMP C10H11N5O5P, 35cdamp_c with the new ID: 35cdamp_c\n",
      ".,-~^~-,.,-~^~-,.,-~^~-,.,-~^~-,.,-~^~-,.,-~^~-,.,-~^~-,.,-~^~-,.,-~^~-,.,-~^~-,\n"
     ]
    }
   ],
   "source": [
    "a = yali.metabolites.get_by_id(\"s_0194\")\n",
    "b = iMM904.metabolites.get_by_id(\"35cdamp_c\")\n",
    "transfer_IDs(a, b)"
   ]
  },
  {
   "cell_type": "code",
   "execution_count": 74,
   "metadata": {},
   "outputs": [
    {
     "name": "stdout",
     "output_type": "stream",
     "text": [
      "Based on its name 3',5'-cyclic IMP, s_0196 can be mapped to 3  5  Cyclic IMP C10H10N4O7P, 35cimp_c with the new ID: 35cimp_c\n",
      ".,-~^~-,.,-~^~-,.,-~^~-,.,-~^~-,.,-~^~-,.,-~^~-,.,-~^~-,.,-~^~-,.,-~^~-,.,-~^~-,\n"
     ]
    }
   ],
   "source": [
    "a = yali.metabolites.get_by_id(\"s_0196\")\n",
    "b = iMM904.metabolites.get_by_id(\"35cimp_c\")\n",
    "transfer_IDs(a, b)"
   ]
  },
  {
   "cell_type": "code",
   "execution_count": 75,
   "metadata": {},
   "outputs": [
    {
     "name": "stdout",
     "output_type": "stream",
     "text": [
      "Based on its name alpha-D-glucosamine 6-phosphate, s_0412 can be mapped to D-Glucosamine 6-phosphate, gam6p_c with the new ID: gam6p_c\n",
      ".,-~^~-,.,-~^~-,.,-~^~-,.,-~^~-,.,-~^~-,.,-~^~-,.,-~^~-,.,-~^~-,.,-~^~-,.,-~^~-,\n"
     ]
    }
   ],
   "source": [
    "a = yali.metabolites.get_by_id(\"s_0412\")\n",
    "b = iMM904.metabolites.get_by_id(\"gam6p_c\")\n",
    "transfer_IDs(a, b)"
   ]
  },
  {
   "cell_type": "code",
   "execution_count": 76,
   "metadata": {},
   "outputs": [
    {
     "name": "stdout",
     "output_type": "stream",
     "text": [
      "Based on its name beta-D-mannosyldiacetylchitobiosyldiphosphodolichol, s_0443 can be mapped to Beta D Mannosyldiacetylchitobiosyldiphosphodolichol C37H64N2O22P2, macchitppdol_g with the new ID: macchitppdol_c\n",
      ".,-~^~-,.,-~^~-,.,-~^~-,.,-~^~-,.,-~^~-,.,-~^~-,.,-~^~-,.,-~^~-,.,-~^~-,.,-~^~-,\n"
     ]
    }
   ],
   "source": [
    "a = yali.metabolites.get_by_id(\"s_0443\")\n",
    "b = iMM904.metabolites.get_by_id(\"macchitppdol_g\")\n",
    "transfer_IDs(a, b)"
   ]
  },
  {
   "cell_type": "code",
   "execution_count": 77,
   "metadata": {},
   "outputs": [
    {
     "name": "stdout",
     "output_type": "stream",
     "text": [
      "Based on its name beta-D-mannosyldiacetylchitobiosyldiphosphodolichol, s_0444 can be mapped to Beta D Mannosyldiacetylchitobiosyldiphosphodolichol C37H64N2O22P2, macchitppdol_g with the new ID: macchitppdol_g\n",
      ".,-~^~-,.,-~^~-,.,-~^~-,.,-~^~-,.,-~^~-,.,-~^~-,.,-~^~-,.,-~^~-,.,-~^~-,.,-~^~-,\n"
     ]
    }
   ],
   "source": [
    "a = yali.metabolites.get_by_id(\"s_0444\")\n",
    "b = iMM904.metabolites.get_by_id(\"macchitppdol_g\")\n",
    "transfer_IDs(a, b)"
   ]
  },
  {
   "cell_type": "code",
   "execution_count": 78,
   "metadata": {},
   "outputs": [
    {
     "name": "stdout",
     "output_type": "stream",
     "text": [
      "Based on its name hexacosanoyl-CoA, s_0816 can be mapped to Hexacosanoyl CoA  n C260CoA  C47H82N7O17P3S, hexccoa_c with the new ID: hexccoa_c\n",
      ".,-~^~-,.,-~^~-,.,-~^~-,.,-~^~-,.,-~^~-,.,-~^~-,.,-~^~-,.,-~^~-,.,-~^~-,.,-~^~-,\n"
     ]
    }
   ],
   "source": [
    "a = yali.metabolites.get_by_id(\"s_0816\")\n",
    "b = iMM904.metabolites.get_by_id(\"hexccoa_c\")\n",
    "transfer_IDs(a, b)"
   ]
  },
  {
   "cell_type": "code",
   "execution_count": 79,
   "metadata": {},
   "outputs": [
    {
     "name": "stdout",
     "output_type": "stream",
     "text": [
      "Based on its name hexacosanoyl-CoA, s_0817 can be mapped to Hexacosanoyl CoA  n C260CoA  C47H82N7O17P3S, hexccoa_c with the new ID: hexccoa_er\n",
      ".,-~^~-,.,-~^~-,.,-~^~-,.,-~^~-,.,-~^~-,.,-~^~-,.,-~^~-,.,-~^~-,.,-~^~-,.,-~^~-,\n"
     ]
    }
   ],
   "source": [
    "a = yali.metabolites.get_by_id(\"s_0817\")\n",
    "b = iMM904.metabolites.get_by_id(\"hexccoa_c\")\n",
    "transfer_IDs(a, b)"
   ]
  },
  {
   "cell_type": "code",
   "execution_count": 80,
   "metadata": {},
   "outputs": [
    {
     "name": "stdout",
     "output_type": "stream",
     "text": [
      "Based on its name hexacosanoyl-CoA, s_0819 can be mapped to Hexacosanoyl CoA  n C260CoA  C47H82N7O17P3S, hexccoa_c with the new ID: hexccoa_p\n",
      ".,-~^~-,.,-~^~-,.,-~^~-,.,-~^~-,.,-~^~-,.,-~^~-,.,-~^~-,.,-~^~-,.,-~^~-,.,-~^~-,\n"
     ]
    }
   ],
   "source": [
    "a = yali.metabolites.get_by_id(\"s_0819\")\n",
    "b = iMM904.metabolites.get_by_id(\"hexccoa_c\")\n",
    "transfer_IDs(a, b)"
   ]
  },
  {
   "cell_type": "code",
   "execution_count": 81,
   "metadata": {},
   "outputs": [
    {
     "name": "stdout",
     "output_type": "stream",
     "text": [
      "Based on its name N-acetyl-alpha-D-glucosamine 1-phosphate, s_1189 can be mapped to N-Acetyl-D-glucosamine 1-phosphate, acgam1p_c with the new ID: acgam1p_c\n",
      ".,-~^~-,.,-~^~-,.,-~^~-,.,-~^~-,.,-~^~-,.,-~^~-,.,-~^~-,.,-~^~-,.,-~^~-,.,-~^~-,\n"
     ]
    }
   ],
   "source": [
    "a = yali.metabolites.get_by_id(\"s_1189\")\n",
    "b = iMM904.metabolites.get_by_id(\"acgam1p_c\")\n",
    "transfer_IDs(a, b)"
   ]
  },
  {
   "cell_type": "code",
   "execution_count": 82,
   "metadata": {},
   "outputs": [
    {
     "name": "stdout",
     "output_type": "stream",
     "text": [
      "Based on its name octanoyl-ACP, s_1254 can be mapped to Octanoyl-ACP (n-C8:0ACP), ocACP_m with the new ID: ocACP_m\n",
      ".,-~^~-,.,-~^~-,.,-~^~-,.,-~^~-,.,-~^~-,.,-~^~-,.,-~^~-,.,-~^~-,.,-~^~-,.,-~^~-,\n"
     ]
    }
   ],
   "source": [
    "a = yali.metabolites.get_by_id(\"s_1254\")\n",
    "b = iMM904.metabolites.get_by_id(\"ocACP_m\")\n",
    "transfer_IDs(a, b)"
   ]
  },
  {
   "cell_type": "code",
   "execution_count": 83,
   "metadata": {},
   "outputs": [
    {
     "name": "stdout",
     "output_type": "stream",
     "text": [
      "Based on its name tetracosanoyl-CoA, s_1479 can be mapped to Tetracosanoyl CoA   n C240CoA  C45H78N7O17P3S, ttccoa_c with the new ID: ttccoa_c\n",
      ".,-~^~-,.,-~^~-,.,-~^~-,.,-~^~-,.,-~^~-,.,-~^~-,.,-~^~-,.,-~^~-,.,-~^~-,.,-~^~-,\n"
     ]
    }
   ],
   "source": [
    "a = yali.metabolites.get_by_id(\"s_1479\")\n",
    "b = iMM904.metabolites.get_by_id(\"ttccoa_c\")\n",
    "transfer_IDs(a, b)"
   ]
  },
  {
   "cell_type": "code",
   "execution_count": 84,
   "metadata": {},
   "outputs": [
    {
     "name": "stdout",
     "output_type": "stream",
     "text": [
      "Based on its name tetracosanoyl-CoA, s_1480 can be mapped to Tetracosanoyl CoA   n C240CoA  C45H78N7O17P3S, ttccoa_c with the new ID: ttccoa_er\n",
      ".,-~^~-,.,-~^~-,.,-~^~-,.,-~^~-,.,-~^~-,.,-~^~-,.,-~^~-,.,-~^~-,.,-~^~-,.,-~^~-,\n"
     ]
    }
   ],
   "source": [
    "a = yali.metabolites.get_by_id(\"s_1480\")\n",
    "b = iMM904.metabolites.get_by_id(\"ttccoa_c\")\n",
    "transfer_IDs(a, b)"
   ]
  },
  {
   "cell_type": "code",
   "execution_count": 85,
   "metadata": {},
   "outputs": [
    {
     "name": "stdout",
     "output_type": "stream",
     "text": [
      "Based on its name tetracosanoyl-CoA, s_1482 can be mapped to Tetracosanoyl CoA   n C240CoA  C45H78N7O17P3S, ttccoa_c with the new ID: ttccoa_p\n",
      ".,-~^~-,.,-~^~-,.,-~^~-,.,-~^~-,.,-~^~-,.,-~^~-,.,-~^~-,.,-~^~-,.,-~^~-,.,-~^~-,\n"
     ]
    }
   ],
   "source": [
    "a = yali.metabolites.get_by_id(\"s_1482\")\n",
    "b = iMM904.metabolites.get_by_id(\"ttccoa_c\")\n",
    "transfer_IDs(a, b)"
   ]
  },
  {
   "cell_type": "code",
   "execution_count": 86,
   "metadata": {},
   "outputs": [
    {
     "name": "stdout",
     "output_type": "stream",
     "text": [
      "Based on its name tetracosanoyl-CoA, s_2797 can be mapped to Tetracosanoyl CoA   n C240CoA  C45H78N7O17P3S, ttccoa_c with the new ID: ttccoa_erm\n",
      ".,-~^~-,.,-~^~-,.,-~^~-,.,-~^~-,.,-~^~-,.,-~^~-,.,-~^~-,.,-~^~-,.,-~^~-,.,-~^~-,\n"
     ]
    }
   ],
   "source": [
    "a = yali.metabolites.get_by_id(\"s_2797\")\n",
    "b = iMM904.metabolites.get_by_id(\"ttccoa_c\")\n",
    "transfer_IDs(a, b)"
   ]
  },
  {
   "cell_type": "code",
   "execution_count": 87,
   "metadata": {},
   "outputs": [
    {
     "name": "stdout",
     "output_type": "stream",
     "text": [
      "Based on its name trans-hexadec-2-enoyl-CoA, s_2810 can be mapped to Trans-Hexadec-2-enoyl-CoA, hdd2coa_x with the new ID: hdd2coa_erm\n",
      ".,-~^~-,.,-~^~-,.,-~^~-,.,-~^~-,.,-~^~-,.,-~^~-,.,-~^~-,.,-~^~-,.,-~^~-,.,-~^~-,\n"
     ]
    }
   ],
   "source": [
    "a = yali.metabolites.get_by_id(\"s_2810\")\n",
    "b = iMM904.metabolites.get_by_id(\"hdd2coa_x\")\n",
    "transfer_IDs(a, b)"
   ]
  },
  {
   "cell_type": "code",
   "execution_count": 88,
   "metadata": {},
   "outputs": [
    {
     "name": "stdout",
     "output_type": "stream",
     "text": [
      "Based on its name hexacosanoyl-CoA, s_2816 can be mapped to Hexacosanoyl CoA  n C260CoA  C47H82N7O17P3S, hexccoa_c with the new ID: hexccoa_erm\n",
      ".,-~^~-,.,-~^~-,.,-~^~-,.,-~^~-,.,-~^~-,.,-~^~-,.,-~^~-,.,-~^~-,.,-~^~-,.,-~^~-,\n"
     ]
    }
   ],
   "source": [
    "a = yali.metabolites.get_by_id(\"s_2816\")\n",
    "b = iMM904.metabolites.get_by_id(\"hexccoa_c\")\n",
    "transfer_IDs(a, b)"
   ]
  },
  {
   "cell_type": "code",
   "execution_count": 89,
   "metadata": {},
   "outputs": [
    {
     "name": "stdout",
     "output_type": "stream",
     "text": [
      "Based on its name tetracosanoyl-CoA, s_2865 can be mapped to Tetracosanoyl CoA   n C240CoA  C45H78N7O17P3S, ttccoa_c with the new ID: ttccoa_ce\n",
      ".,-~^~-,.,-~^~-,.,-~^~-,.,-~^~-,.,-~^~-,.,-~^~-,.,-~^~-,.,-~^~-,.,-~^~-,.,-~^~-,\n"
     ]
    }
   ],
   "source": [
    "a = yali.metabolites.get_by_id(\"s_2865\")\n",
    "b = iMM904.metabolites.get_by_id(\"ttccoa_c\")\n",
    "transfer_IDs(a, b)"
   ]
  },
  {
   "cell_type": "code",
   "execution_count": 90,
   "metadata": {},
   "outputs": [
    {
     "name": "stdout",
     "output_type": "stream",
     "text": [
      "Based on its name hexacosanoyl-CoA, s_2867 can be mapped to Hexacosanoyl CoA  n C260CoA  C47H82N7O17P3S, hexccoa_c with the new ID: hexccoa_ce\n",
      ".,-~^~-,.,-~^~-,.,-~^~-,.,-~^~-,.,-~^~-,.,-~^~-,.,-~^~-,.,-~^~-,.,-~^~-,.,-~^~-,\n"
     ]
    }
   ],
   "source": [
    "a = yali.metabolites.get_by_id(\"s_2867\")\n",
    "b = iMM904.metabolites.get_by_id(\"hexccoa_c\")\n",
    "transfer_IDs(a, b)"
   ]
  },
  {
   "cell_type": "code",
   "execution_count": 91,
   "metadata": {},
   "outputs": [
    {
     "name": "stdout",
     "output_type": "stream",
     "text": [
      "Based on its name tetracosanoyl-CoA, s_2874 can be mapped to Tetracosanoyl CoA   n C240CoA  C45H78N7O17P3S, ttccoa_c with the new ID: ttccoa_lp\n",
      ".,-~^~-,.,-~^~-,.,-~^~-,.,-~^~-,.,-~^~-,.,-~^~-,.,-~^~-,.,-~^~-,.,-~^~-,.,-~^~-,\n"
     ]
    }
   ],
   "source": [
    "a = yali.metabolites.get_by_id(\"s_2874\")\n",
    "b = iMM904.metabolites.get_by_id(\"ttccoa_c\")\n",
    "transfer_IDs(a, b)"
   ]
  },
  {
   "cell_type": "code",
   "execution_count": 92,
   "metadata": {},
   "outputs": [
    {
     "name": "stdout",
     "output_type": "stream",
     "text": [
      "Based on its name hexacosanoyl-CoA, s_2876 can be mapped to Hexacosanoyl CoA  n C260CoA  C47H82N7O17P3S, hexccoa_c with the new ID: hexccoa_lp\n",
      ".,-~^~-,.,-~^~-,.,-~^~-,.,-~^~-,.,-~^~-,.,-~^~-,.,-~^~-,.,-~^~-,.,-~^~-,.,-~^~-,\n"
     ]
    }
   ],
   "source": [
    "a = yali.metabolites.get_by_id(\"s_2876\")\n",
    "b = iMM904.metabolites.get_by_id(\"hexccoa_c\")\n",
    "transfer_IDs(a, b)"
   ]
  },
  {
   "cell_type": "code",
   "execution_count": 93,
   "metadata": {},
   "outputs": [
    {
     "name": "stdout",
     "output_type": "stream",
     "text": [
      "Based on its name alpha-D-glucosamine 6-phosphate, s_0413 can be mapped to D-Glucosamine 6-phosphate, gam6p_c with the new ID: gam6p_e\n",
      ".,-~^~-,.,-~^~-,.,-~^~-,.,-~^~-,.,-~^~-,.,-~^~-,.,-~^~-,.,-~^~-,.,-~^~-,.,-~^~-,\n"
     ]
    }
   ],
   "source": [
    "a = yali.metabolites.get_by_id(\"s_0413\")\n",
    "b = iMM904.metabolites.get_by_id(\"gam6p_c\")\n",
    "transfer_IDs(a, b)"
   ]
  },
  {
   "cell_type": "code",
   "execution_count": 94,
   "metadata": {},
   "outputs": [
    {
     "data": {
      "text/plain": [
       "286"
      ]
     },
     "execution_count": 94,
     "metadata": {},
     "output_type": "execute_result"
    }
   ],
   "source": [
    "pattern = re.compile('s_[0-9]+')\n",
    "unmapped_mets = [met for met in yali.metabolites if re.findall(pattern, met.id)]\n",
    "len(unmapped_mets)"
   ]
  },
  {
   "cell_type": "code",
   "execution_count": 95,
   "metadata": {},
   "outputs": [
    {
     "data": {
      "text/plain": [
       "1543"
      ]
     },
     "execution_count": 95,
     "metadata": {},
     "output_type": "execute_result"
    }
   ],
   "source": [
    "pattern = re.compile('y[0-9]+')\n",
    "unmapped_rxns = [rxn for rxn in yali.reactions if re.findall(pattern, rxn.id)]\n",
    "len(unmapped_rxns)"
   ]
  },
  {
   "cell_type": "code",
   "execution_count": 96,
   "metadata": {},
   "outputs": [],
   "source": [
    "suggested_rxn_mappings = []\n",
    "\n",
    "for rxn in yali.reactions:\n",
    "    relevant_matches = []\n",
    "    a_reactants = set([met.id for met in rxn.reactants])\n",
    "    a_products = set([met.id for met in rxn.products])\n",
    "    for rxn_cand in iMM904.reactions:\n",
    "        b_reactants = set([met.id for met in rxn_cand.reactants])\n",
    "        b_products = set([met.id for met in rxn_cand.products])\n",
    "        if a_reactants != b_reactants:\n",
    "            continue\n",
    "        if a_products != b_products:\n",
    "            continue\n",
    "        tup = (rxn_cand.id, rxn_cand.name)\n",
    "        relevant_matches.append(tup)\n",
    "    if not relevant_matches:\n",
    "        continue\n",
    "    suggested_rxn_mappings.append((rxn.id, rxn.name, relevant_matches))"
   ]
  },
  {
   "cell_type": "code",
   "execution_count": 97,
   "metadata": {},
   "outputs": [
    {
     "data": {
      "text/plain": [
       "[('PRICIh',\n",
       "  '1-(5-phosphoribosyl)-5-[(5-phosphoribosylamino)methylideneamino)imidazole-4-carboxamide isomerase',\n",
       "  [('PRMICI',\n",
       "    '1-(5-phosphoribosyl)-5-[(5-phosphoribosylamino)methylideneamino)imidazole-4-carboxamide isomerase')]),\n",
       " ('y000012',\n",
       "  '1-pyrroline-5-carboxylate dehydrogenase',\n",
       "  [('P5CDm', '1 pyrroline 5 carboxylate dehydrogenase  mitochondrial')]),\n",
       " ('y000013',\n",
       "  '2,3-diketo-5-methylthio-1-phosphopentane degradation reaction',\n",
       "  [('DKMPPD2',\n",
       "    '2 3 diketo 5 methylthio 1 phosphopentane degradation reaction')]),\n",
       " ('y000016',\n",
       "  '2-aceto-2-hydroxybutanoate synthase',\n",
       "  [('ACHBSm', '2 aceto 2 hydroxybutanoate synthase  mitochondrial')]),\n",
       " ('AATA',\n",
       "  '2-aminoadipate transaminase',\n",
       "  [('AATA', '2 aminoadipate transaminase')]),\n",
       " ('DPR',\n",
       "  '2-dehydropantoate 2-reductase',\n",
       "  [('DPR', '2-dehydropantoate 2-reductase')]),\n",
       " ('y000020',\n",
       "  '2-deoxy-D-arabino-heptulosonate 7-phosphate synthetase',\n",
       "  [('DDPAm',\n",
       "    '2 deoxy D arabino heptulosonate 7 phosphate synthetase  mitochondrial')]),\n",
       " ('y000021',\n",
       "  '2-hexaprenyl-6-methoxy-1,4-benzoquinone methyltransferase',\n",
       "  [('2HPMBQMTm',\n",
       "    '2 hexaprenyl 6 methoxy 1 4 benzoquinone methyltransferase  mitochondrial')]),\n",
       " ('y000022',\n",
       "  '2-hexaprenyl-6-methoxyphenol monooxygenase',\n",
       "  [('2HP6MPMOm',\n",
       "    '2 Hexaprenyl 6 methoxyphenol monooxygenase  mitochondrial')]),\n",
       " ('y000028',\n",
       "  '2-methylcitrate synthase',\n",
       "  [('MCITSm', '2 methylcitrate synthase')]),\n",
       " ('OMCDC',\n",
       "  '2-oxo-4-methyl-3-carboxypentanoate decarboxylation',\n",
       "  [('OMCDC', '2-Oxo-4-methyl-3-carboxypentanoate decarboxylation')]),\n",
       " ('y000030',\n",
       "  '2-oxo-4-methyl-3-carboxypentanoate decarboxylation',\n",
       "  [('OMCDCm', '2 oxo 4 methyl 3 carboxypentanoate decarboxylation')]),\n",
       " ('BPNT',\n",
       "  \"3',5'-bisphosphate nucleotidase\",\n",
       "  [('BPNT', \"3',5'-bisphosphate nucleotidase\")]),\n",
       " ('APNn',\n",
       "  \"3',5'-cyclic-nucleotide phosphodiesterase\",\n",
       "  [('PDE1', \"3',5'-cyclic-nucleotide phosphodiesterase\")]),\n",
       " ('y000034',\n",
       "  \"3',5'-cyclic-nucleotide phosphodiesterase\",\n",
       "  [('PDE2', '3  5  cyclic nucleotide phosphodiesterase')]),\n",
       " ('y000035',\n",
       "  \"3',5'-cyclic-nucleotide phosphodiesterase\",\n",
       "  [('PDE3', '3  5  cyclic nucleotide phosphodiesterase')]),\n",
       " ('GCPN',\n",
       "  \"3',5'-cyclic-nucleotide phosphodiesterase\",\n",
       "  [('PDE4', \"3',5'-cyclic-nucleotide phosphodiesterase\")]),\n",
       " ('y000037',\n",
       "  \"3',5'-cyclic-nucleotide phosphodiesterase\",\n",
       "  [('PDE5', '3  5  cyclic nucleotide phosphodiesterase')]),\n",
       " ('DB4PS',\n",
       "  '3,4-dihydroxy-2-butanone-4-phosphate synthase',\n",
       "  [('DB4PS', '3,4-Dihydroxy-2-butanone-4-phosphate synthase')]),\n",
       " ('DHQTi',\n",
       "  '3-dehydroquinate dehydratase',\n",
       "  [('DHQTi', '3-dehydroquinate dehydratase, irreversible')]),\n",
       " ('DHQS',\n",
       "  '3-dehydroquinate synthase',\n",
       "  [('DHQS', '3-dehydroquinate synthase')]),\n",
       " ('DDPA',\n",
       "  '3-deoxy-D-arabino-heptulosonate 7-phosphate synthetase',\n",
       "  [('DDPA', '3-deoxy-D-arabino-heptulosonate 7-phosphate synthetase')]),\n",
       " ('HKYNH',\n",
       "  '3-hydroxy-L-kynurenine hydrolase',\n",
       "  [('HKYNH', '3 Hydroxy L kynurenine hydrolase')]),\n",
       " ('3HAO',\n",
       "  '3-hydroxyanthranilate 3,4-dioxygenase',\n",
       "  [('3HAO', '3 hydroxyanthranilate 3 4 dioxygenase')]),\n",
       " ('IMDHT_3c2hmp',\n",
       "  '3-isopropylmalate dehydratase',\n",
       "  [('IPPMIa', '3-isopropylmalate dehydratase')]),\n",
       " ('IPMD',\n",
       "  '3-isopropylmalate dehydrogenase',\n",
       "  [('IPMD', '3-isopropylmalate dehydrogenase')]),\n",
       " ('3MOBDC',\n",
       "  '3-methyl-2-oxobutanoate decarboxylase',\n",
       "  [('3MOBDC', '3 Methyl 2 oxobutanoate decarboxylase')]),\n",
       " ('3MOPDC',\n",
       "  '3-methyl-2-oxopentanoate decarboxylase',\n",
       "  [('3MOPDC', '3 Methyl 2 oxopentanoate decarboxylase')]),\n",
       " ('PSCIT',\n",
       "  '3-phosphoshikimate 1-carboxyvinyltransferase',\n",
       "  [('PSCVT', '3-phosphoshikimate 1-carboxyvinyltransferase')]),\n",
       " ('ADCS',\n",
       "  '4-amino-4-deoxychorismate synthase',\n",
       "  [('ADCS', '4-amino-4-deoxychorismate synthase')]),\n",
       " ('ADCL', '4-aminobenzoate synthase', [('ADCL', '4-aminobenzoate synthase')]),\n",
       " ('ABTA',\n",
       "  '4-aminobutyrate transaminase',\n",
       "  [('ABTA', '4-aminobutyrate transaminase')]),\n",
       " ('4HTHRS',\n",
       "  '4-hydroxy-L-threonine synthase',\n",
       "  [('4HTHRS', '4-Hydroxy-L-threonine synthase')]),\n",
       " ('y000072',\n",
       "  '4-methyl-2-oxopentanoate decarboxylase',\n",
       "  [('4MOPDC', '4 Methyl 2 oxopentanoate decarboxylase')]),\n",
       " ('MTAP',\n",
       "  \"5'-methylthioadenosine phosphorylase\",\n",
       "  [('MTAP', '5  methylthioadenosine phosphorylase')]),\n",
       " ('NTD4', \"5'-nucleotidase (CMP)\", [('NTD4', \"5'-nucleotidase (CMP)\")]),\n",
       " ('NTD11', \"5'-nucleotidase (IMP)\", [('NTD11', \"5'-nucleotidase (IMP)\")]),\n",
       " ('NTD2', \"5'-nucleotidase (UMP)\", [('NTD2', \"5'-nucleotidase (UMP)\")]),\n",
       " ('MTHFO_nadp',\n",
       "  '5,10-methylenetetrahydrofolate reductase (NADPH)',\n",
       "  [('MTHFR3', '5 10 methylenetetrahydrofolatereductase  NADPH ')]),\n",
       " ('y000081',\n",
       "  '5-aminolevulinate synthase',\n",
       "  [('ALASm', '5 aminolevulinate synthase')]),\n",
       " ('FTCL',\n",
       "  '5-formethyltetrahydrofolate cyclo-ligase',\n",
       "  [('FTHFCL', '5 formethyltetrahydrofolate cyclo ligase')]),\n",
       " ('y000085',\n",
       "  '5-methyltetrahydropteroyltriglutamate-homocysteine S-methyltransferase',\n",
       "  [('MHPGLUT',\n",
       "    '5 methyltetrahydropteroyltriglutamate homocysteine S methyltransferase')]),\n",
       " ('y000090',\n",
       "  '6-phosphofructo-2-kinase',\n",
       "  [('PFK26', '6 phosphofructo 2 kinase')]),\n",
       " ('PGL', '6-phosphogluconolactonase', [('PGL', '6-phosphogluconolactonase')]),\n",
       " ('ACALDCD',\n",
       "  'acetaldehyde condensation',\n",
       "  [('ACALDCD', 'Acetaldehyde condensation')]),\n",
       " ('y000096',\n",
       "  'acetohydroxy acid isomeroreductase',\n",
       "  [('KARA1im', 'Acetohydroxy acid isomeroreductase  mitochondrial')]),\n",
       " ('y000097',\n",
       "  'acetolactate synthase',\n",
       "  [('ACLSm', 'Acetolactate synthase  mitochondrial')]),\n",
       " ('y000099',\n",
       "  'acetyl-CoA ACP transacylase',\n",
       "  [('ACOATAm', 'Acetyl CoA ACP transacylase')]),\n",
       " ('ACACT1',\n",
       "  'acetyl-CoA C-acetyltransferase',\n",
       "  [('ACACT1r', 'Acetyl-CoA C-acetyltransferase')]),\n",
       " ('y000104',\n",
       "  'acetyl-CoA C-acetyltransferase',\n",
       "  [('ACACT1m', 'Acetyl CoA C acetyltransferase  mitochondrial')]),\n",
       " ('y000108',\n",
       "  'acetyl-Coa carboxylase',\n",
       "  [('ACCOACrm', 'Acetyl Coa carboxylase  mitochondrial')]),\n",
       " ('ACCOAC',\n",
       "  'acetyl-CoA carboxylase, reaction',\n",
       "  [('ACCOAC', 'Acetyl-CoA carboxylase')]),\n",
       " ('y000111',\n",
       "  'acetyl-CoA hydrolase',\n",
       "  [('ACOAHim', 'Acetyl CoA hydrolase  mitochondrial  irreversible ')]),\n",
       " ('ACS', 'acetyl-CoA synthetase', [('ACS', 'Acetyl-CoA synthetase')]),\n",
       " ('y000113', 'acetyl-CoA synthetase', [('ACSm', 'Acetyl CoA synthetase')]),\n",
       " ('y000115',\n",
       "  'acetylglutamate kinase',\n",
       "  [('ACGKm', 'Acetylglutamate kinase  mitochondrial')]),\n",
       " ('y000116',\n",
       "  'acid phosphatase (secreted)',\n",
       "  [('ACP1e', 'Acid phosphatase  extracellular  secreted ')]),\n",
       " ('y000118',\n",
       "  'acteylornithine transaminase',\n",
       "  [('ACOTAim', 'Acteylornithine transaminase  irreversible  mitochondrial')]),\n",
       " ('ADPT',\n",
       "  'adenine phosphoribosyltransferase',\n",
       "  [('ADPT', 'Adenine phosphoribosyltransferase')]),\n",
       " ('ADNK1', 'adenosine kinase', [('ADNK1', 'Adenosine kinase')]),\n",
       " ('y000144', 'adenosylhomocysteinase', [('AHCi', 'Adenosylhomocysteinase')]),\n",
       " ('ADMDC',\n",
       "  'adenosylmethionine decarboxylase',\n",
       "  [('ADMDC', 'Adenosylmethionine decarboxylase')]),\n",
       " ('ADECn', 'adenylate cyclase', [('ADNCYC', 'Adenylate cyclase')]),\n",
       " ('ADK1', 'adenylate kinase', [('ADK1', 'Adenylate kinase')]),\n",
       " ('y000149',\n",
       "  'adenylate kinase',\n",
       "  [('ADK1m', 'Adenylate kinase  mitochondrial')]),\n",
       " ('y000150', 'adenylate kinase (GTP)', [('ADK3m', 'Adentylate kinase  GTP ')]),\n",
       " ('ADSL2r',\n",
       "  'adenylosuccinate lyase (AICAR)',\n",
       "  [('ADSL2r', 'Adenylosuccinate lyase')]),\n",
       " ('ADSL1r', 'adenylosuccinate lyase', [('ADSL1r', 'Adenylsuccinate lyase')]),\n",
       " ('AASPh', 'adenylyl-sulfate kinase', [('ADSK', 'Adenylyl-sulfate kinase')]),\n",
       " ('y000155',\n",
       "  'ADP-ribose 2,3-cyclic phosphodiesterase',\n",
       "  [('23CAPPD', 'ADP ribose 2 3 cyclic phosphodiesterase')]),\n",
       " ('AGTi',\n",
       "  'alanine glyoxylate aminotransferase',\n",
       "  [('AGTi', 'Alanine glyoxylate aminotransferase  irreversible ')]),\n",
       " ('y000157', 'alanyl-tRNA synthetase', [('ALATRS', 'Alanyl-tRNA synthetase')]),\n",
       " ('ALCD2ir',\n",
       "  'alcohol dehydrogenase (ethanol to acetaldehyde)',\n",
       "  [('ALCD2x_copy1', None), ('ALCD2x_copy2', None)]),\n",
       " ('ALCD19y',\n",
       "  'alcohol dehydrogenase (glycerol, NADP)',\n",
       "  [('ALCD19y', 'Alcohol dehydrogenase  glycerol  NADP ')]),\n",
       " ('y000165',\n",
       "  'mitochondrial alcohol dehydrogenase',\n",
       "  [('ALCD2irm',\n",
       "    'Alcohol dehydrogenase  reverse rxn  acetaldehyde   ethanol   mitochondrial')]),\n",
       " ('ALCD22xi',\n",
       "  'aldehyde dehydrogenase (2-methylbutanol, NAD)',\n",
       "  [('ALCD22xi', 'Aldehyde dehydrogenase  2 methylbutanol  NAD ')]),\n",
       " ('y000167',\n",
       "  'aldehyde dehydrogenase (2-methylbutanol, NAD)',\n",
       "  [('ALCD22xim',\n",
       "    'Aldehyde dehydrogenase  2 methylbutanol  NAD   mitochondrial')]),\n",
       " ('ALCD22yi',\n",
       "  'aldehyde dehydrogenase (2-methylbutanol, NADP)',\n",
       "  [('ALCD22yi', 'Aldehyde dehydrogenase  2 methylbutanol  NADP ')]),\n",
       " ('ALCD25xi',\n",
       "  'aldehyde dehydrogenase (2-phenylethanol, NAD)',\n",
       "  [('ALCD25xi', 'Aldehyde dehydrogenase  2 phenylethanol  NAD ')]),\n",
       " ('y000170',\n",
       "  'aldehyde dehydrogenase (2-phenylethanol, NAD)',\n",
       "  [('ALCD25xim',\n",
       "    'Aldehyde dehydrogenase  2 phenylethanol  NAD   mitochondrial')]),\n",
       " ('ALDD22x',\n",
       "  'aldehyde dehydrogenase (3-aminopropanal, NAD)',\n",
       "  [('ALDD22x', 'Aldehyde dehydrogenase  3 aminopropanal  NAD ')]),\n",
       " ('ALDD2y',\n",
       "  'aldehyde dehydrogenase (acetaldehyde, NADP)',\n",
       "  [('ALDD2y', 'Aldehyde dehydrogenase (acetaldehyde, NADP)')]),\n",
       " ('y000174',\n",
       "  'aldehyde dehydrogenase (acetylaldehyde, NAD)',\n",
       "  [('ALDD2xm',\n",
       "    'Aldehyde dehydrogenase  acetylaldehyde  NAD   mitochondrial')]),\n",
       " ('y000175',\n",
       "  'aldehyde dehydrogenase (acetylaldehyde, NADP)',\n",
       "  [('ALDD2ym',\n",
       "    'Aldehyde dehydrogenase  acetylaldehyde  NADP   mitochondrial')]),\n",
       " ('y000176',\n",
       "  'aldehyde dehydrogenase (indole-3-acetaldehyde, NAD)',\n",
       "  [('ALDD20xm',\n",
       "    'Aldehyde dehydrogenase  indole 3 acetaldehyde  NAD   mitochondrial')]),\n",
       " ('ALDD20y',\n",
       "  'aldehyde dehydrogenase (indole-3-acetaldehyde, NADP)',\n",
       "  [('ALDD20y', 'Aldehyde dehydrogenase  indole 3 acetaldehyde  NADP ')]),\n",
       " ('y000178',\n",
       "  'aldehyde dehydrogenase (indole-3-acetaldehyde, NADP)',\n",
       "  [('ALDD20ym',\n",
       "    'Aldehyde dehydrogenase  indole 3 acetaldehyde  NADP   mitochondrial')]),\n",
       " ('y000179',\n",
       "  'aldehyde dehydrogenase (isoamyl alcohol, NAD)',\n",
       "  [('ALCD24xi', 'Aldehyde dehydrogenase  isoamyl alcohol  NAD ')]),\n",
       " ('y000180',\n",
       "  'aldehyde dehydrogenase (isoamyl alcohol, NAD)',\n",
       "  [('ALCD24xim',\n",
       "    'Aldehyde dehydrogenase  isoamyl alcohol  NAD   mitochondrial')]),\n",
       " ('ALCD23xi',\n",
       "  'aldehyde dehydrogenase (isobutyl alcohol, NAD)',\n",
       "  [('ALCD23xi', 'Aldehyde dehydrogenase  isobutyl alcohol  NAD ')]),\n",
       " ('y000183',\n",
       "  'aldehyde dehydrogenase (isobutyl alcohol, NAD)',\n",
       "  [('ALCD23xim',\n",
       "    'Aldehyde dehydrogenase  isobutyl alcohol  NAD   mitochondrial')]),\n",
       " ('ALDD19xr',\n",
       "  'aldehyde dehydrogenase (phenylacetaldehyde, NAD)',\n",
       "  [('ALDD19xr', 'Aldehyde dehydrogenase (phenylacetaldehyde, NAD)')]),\n",
       " ('ALCD26xi',\n",
       "  'aldehyde dehydrogenase (tryptophol, NAD)',\n",
       "  [('ALCD26xi', 'Aldehyde dehydrogenase  tryptophol  NAD ')]),\n",
       " ('y000187',\n",
       "  'aldehyde dehydrogenase (tryptophol, NAD)',\n",
       "  [('ALCD26xim', 'Aldehyde dehydrogenase  tryptophol  NAD   mitochondrial')]),\n",
       " ('ALLTAHr',\n",
       "  'allantoate amidinohydrolase',\n",
       "  [('ALLTAHr', 'Allantoate amidinohydrolase  reversible')]),\n",
       " ('ALLTN', 'allantoinase, reaction', [('ALLTN', 'Allantoinase')]),\n",
       " ('y000193',\n",
       "  'alpha,alpha-trehalase',\n",
       "  [('TREHv', 'Alpha alpha trehalase  vacuolar ')]),\n",
       " ('y000194', 'alpha,alpha-trehalase', [('TREH', 'Alpha,alpha-trehalase')]),\n",
       " ('TRE6PS',\n",
       "  'alpha,alpha-trehalose-phosphate synthase (UDP-forming)',\n",
       "  [('TRE6PS', 'Alpha,alpha-trehalose-phosphate synthase (UDP-forming)')]),\n",
       " ('y000201',\n",
       "  'Aminobutyraldehyde dehydrogenase',\n",
       "  [('ABUTDm', 'Aminobutyraldehyde dehydrogenase  mitochondrial')]),\n",
       " ('ANPRT',\n",
       "  'anthranilate phosphoribosyltransferase',\n",
       "  [('ANPRT', 'Anthranilate phosphoribosyltransferase')]),\n",
       " ('ANS', 'anthranilate synthase', [('ANS', 'Anthranilate synthase')]),\n",
       " ('AP4AH', 'Ap4A hydrolase', [('AP4AH', 'Ap4A hydrolase')]),\n",
       " ('ARABR', 'arabinose reductase', [('ARABR', 'Arabinose reductase')]),\n",
       " ('ARGN', 'arginase', [('ARGN', 'Arginase')]),\n",
       " ('y000207',\n",
       "  'argininosuccinate lyase',\n",
       "  [('ARGSL', 'Argininosuccinate lyase')]),\n",
       " ('ARGTRS',\n",
       "  'arginyl-tRNA synthetase',\n",
       "  [('ARGTRS', 'Arginyl-tRNA synthetase')]),\n",
       " ('y000210',\n",
       "  'arginyl-tRNA synthetase',\n",
       "  [('ARGTRSm', 'Arginyl tRNA synthetase  mitochondrial')]),\n",
       " ('ASNTRS',\n",
       "  'Asparaginyl-tRNA synthetase',\n",
       "  [('ASNTRS', 'Asparaginyl-tRNA synthetase')]),\n",
       " ('y000213',\n",
       "  'asparaginyl-tRNA synthetase, miotchondrial',\n",
       "  [('ASNTRSm', 'Asparaginyl tRNA synthetase  miotchondrial')]),\n",
       " ('ADATT',\n",
       "  'ATP adenylyltransferase',\n",
       "  [('ATPATF1', 'ATP adenylyltransferase')]),\n",
       " ('ATPPRT',\n",
       "  'ATP phosphoribosyltransferase',\n",
       "  [('ATPPRT', 'ATP phosphoribosyltransferase')]),\n",
       " ('y000226', 'ATP synthase', [('ATPS3m', 'ATP synthase  mitochondrial')]),\n",
       " ('y000227', 'ATPase, cytosolic', [('ATPS', 'ATPase  cytosolic')]),\n",
       " ('y000230',\n",
       "  'biotin-[acetyl-CoA-carboxylase] ligase',\n",
       "  [('BACCL', 'Biotin acetyl CoA carboxylase ligase')]),\n",
       " ('y000233',\n",
       "  'C-22 sterol desaturase (NADP)',\n",
       "  [('C22STDS', 'C 22 sterol desaturase  NADP ')]),\n",
       " ('C3STKR2',\n",
       "  'C-3 sterol keto reductase (zymosterol)',\n",
       "  [('C3STKR2', 'C 3 sterol keto reductase  zymosterol ')]),\n",
       " ('y000242', 'C-5 sterol desaturase', [('C5STDS', 'C 5 sterol desaturase')]),\n",
       " ('C8STI', 'C-8 sterol isomerase', [('C8STI', 'C 8 sterol isomerase')]),\n",
       " ('CBPS',\n",
       "  'carbamoyl-phosphate synthase (glutamine-hydrolysing)',\n",
       "  [('CBPS', 'Carbamoyl-phosphate synthase (glutamine-hydrolysing)')]),\n",
       " ('CSNATer',\n",
       "  'carnitine O-acetyltransferase',\n",
       "  [('CSNATr', 'Carnitine O acetyltransferase')]),\n",
       " ('y000254',\n",
       "  'carnitine O-acetyltransferase',\n",
       "  [('CSNATm', 'Carnitine O aceyltransferase  mitochondrial')]),\n",
       " ('CAT', 'catalase', [('CAT', 'Catalase')]),\n",
       " ('CHOLK', 'choline kinase', [('CHOLK', 'Choline kinase')]),\n",
       " ('CHLPCTD',\n",
       "  'choline phosphate cytididyltransferase',\n",
       "  [('CHLPCTD', 'Choline phosphate cytididyltransferase')]),\n",
       " ('CHORM', 'chorismate mutase', [('CHORM', 'Chorismate mutase')]),\n",
       " ('CHORS', 'chorismate synthase', [('CHORS', 'Chorismate synthase')]),\n",
       " ('y000300', 'citrate synthase', [('CSm', 'Citrate synthase')]),\n",
       " ('CPPPGO',\n",
       "  'coproporphyrinogen oxidase (O2 required)',\n",
       "  [('CPPPGO', 'Coproporphyrinogen oxidase (O2 required)')]),\n",
       " ('CTPS2',\n",
       "  'CTP synthase (glutamine)',\n",
       "  [('CTPS2', 'CTP synthase (glutamine)')]),\n",
       " ('y000309',\n",
       "  'cystathionine beta-synthase',\n",
       "  [('CYSTS', 'Cystathionine beta synthase')]),\n",
       " ('AHSL', 'cystathionine gamma-synthase', [('METB1', 'Metb1 (rev)')]),\n",
       " ('CYSS', 'cysteine synthase', [('CYSS', 'Cysteine synthase')]),\n",
       " ('CYSTRS',\n",
       "  'cysteinyl-tRNA synthetase',\n",
       "  [('CYSTRS', 'Cysteinyl-tRNA synthetase')]),\n",
       " ('CYTDK2', 'cytidine kinase (GTP)', [('CYTDK2', 'Cytidine kinase (GTP)')]),\n",
       " ('y000317',\n",
       "  'cytochrome P450 lanosterol 14-alpha-demethylase (NADP)',\n",
       "  [('LNS14DM', 'Cytochrome P450 lanosterol 14 alpha demethylase  NADP ')]),\n",
       " ('ARAB1D2',\n",
       "  'D-arabinose 1-dehydrogenase (NADP)',\n",
       "  [('ARAB1D2', 'D arabinose 1 dehydrogenase  NADP ')]),\n",
       " ('FBA2',\n",
       "  'D-fructose 1-phosphate D-glyceraldehyde-3-phosphate-lyase',\n",
       "  [('FBA2', 'D Fructose 1 phosphate D glyceraldehyde 3 phosphate lyase')]),\n",
       " ('y000323',\n",
       "  'D-sorbitol dehydrogenase (D-fructose producing)',\n",
       "  [('SBTD_D2', 'D sorbitol dehydrogenase  D fructose producing ')]),\n",
       " ('DGK1',\n",
       "  'deoxyguanylate kinase (dGMP:ATP)',\n",
       "  [('DGK1', 'Deoxyguanylate kinase (dGMP:ATP)')]),\n",
       " ('y000334',\n",
       "  'dephospho-CoA kinase',\n",
       "  [('DPCOAKm', 'Dephospho CoA kinase  mitochondrial')]),\n",
       " ('DBTS', 'dethiobiotin synthase', [('DBTS', 'Dethiobiotin synthase')]),\n",
       " ('DHFR', 'dihydrofolate reductase', [('DHFR', 'Dihydrofolate reductase')]),\n",
       " ('y000345',\n",
       "  'dihydrofolate reductase',\n",
       "  [('DHFRim', 'Dihydrofolate reductase  mitochondrial')]),\n",
       " ('y000346', 'dihydrofolate synthase', [('DHFS', 'Dihydrofolate synthase')]),\n",
       " ('DHORTS', 'dihydroorotase', [('DHORTS', 'Dihydroorotase')]),\n",
       " ('y000352',\n",
       "  'dihydroxy-acid dehydratase (2,3-dihydroxy-3-methylbutanoate)',\n",
       "  [('DHAD1m',\n",
       "    'Dihydroxy acid dehydratase  2 3 dihydroxy 3 methylbutanoate   mitochondrial')]),\n",
       " ('y000353',\n",
       "  'dihydroxy-acid dehydratase (2,3-dihydroxy-3-methylpentanoate)',\n",
       "  [('DHAD2m',\n",
       "    'Dihydroxy acid dehydratase  2 3 dihydroxy 3 methylpentanoate   mitochondrial')]),\n",
       " ('DHAK', 'dihydroxyacetone kinase', [('DHAK', 'Dihydroxyacetone kinase')]),\n",
       " ('DMATT',\n",
       "  'dimethylallyltranstransferase',\n",
       "  [('DMATT', 'Dimethylallyltranstransferase')]),\n",
       " ('DPGM', 'diphosphoglyceromutase', [('DPGM', 'Diphosphoglyceromutase')]),\n",
       " ('y000359', 'diphthine synthase', [('DIPS', 'Diphthine synthase')]),\n",
       " ('DTMPK', 'dTMP kinase', [('DTMPK', 'DTMP kinase')]),\n",
       " ('DUTPDP', 'dUTP diphosphatase', [('DUTPDP', 'DUTP diphosphatase')]),\n",
       " ('ENO', 'enolase', [('ENO', 'Enolase')]),\n",
       " ('ETHAK', 'ethanolamine kinase', [('ETHAK', 'Ethanolamine kinase')]),\n",
       " ('y000370',\n",
       "  'exo-1,3-beta-glucan glucohydrase',\n",
       "  [('13BGHe', 'Exo 1 3 beta glucan glucohydrase')]),\n",
       " ('FRTT', 'farnesyltranstransferase', [('FRTT', 'Farnesyltranstransferase')]),\n",
       " ('y000436', 'ferrochelatase', [('FCLTm', 'Ferrochelatase  mitochondrial')]),\n",
       " ('AFAT', 'FMN adenylyltransferase', [('FMNAT', 'FMN adenylyltransferase')]),\n",
       " ('FALDH',\n",
       "  'formaldehyde dehydrogenase',\n",
       "  [('FALDH', 'Formaldehyde dehydrogenase')]),\n",
       " ('FDH', 'formate dehydrogenase', [('FDH', 'Formate dehydrogenase')]),\n",
       " ('FTHFLi',\n",
       "  'formate-tetrahydrofolate ligase',\n",
       "  [('FTHFLi', 'Formate-tetrahydrofolate ligase')]),\n",
       " ('y000447',\n",
       "  'formate-tetrahydrofolate ligase',\n",
       "  [('FTHFLmi',\n",
       "    'Formate tetrahydrofolate ligase  mitochondrial irreversible')]),\n",
       " ('y000448',\n",
       "  'fructose-2,6-bisphosphate 2-phosphatase',\n",
       "  [('FBP26', 'Fructose 2 6 bisphosphate 2 phosphatase')]),\n",
       " ('y000449', 'fructose-bisphosphatase', [('FBP', 'Fructose-bisphosphatase')]),\n",
       " ('y000450',\n",
       "  'fructose-bisphosphate aldolase',\n",
       "  [('FBA', 'Fructose-bisphosphate aldolase')]),\n",
       " ('y000451', 'fumarase', [('FUMm', 'Fumarase  mitochondrial')]),\n",
       " ('FUM', 'fumarase, cytoplasmic', [('FUM', 'Fumarase')]),\n",
       " ('DHORDfum',\n",
       "  'dihydoorotic acid dehydrogenase',\n",
       "  [('DHORDfum', 'Fumarate dependent DHORD')]),\n",
       " ('GTMLT', 'g-glutamyltransferase', [('GTMLT', 'G glutamyltransferase')]),\n",
       " ('GALKh', 'galactokinase', [('GALKr', 'Galactokinase')]),\n",
       " ('y000459',\n",
       "  'galactose-1-phosphate uridylyltransferase',\n",
       "  [('GALT', 'Galactose 1 phosphate uridylyltransferase')]),\n",
       " ('GCL',\n",
       "  'gamma-glutamylcysteine synthetase',\n",
       "  [('GLUCYS', 'Gamma-glutamylcysteine synthetase')]),\n",
       " ('FPPSh', 'geranyltranstransferase', [('GRTT', 'Geranyltranstransferase')]),\n",
       " ('GLCGSD',\n",
       "  'glucan 1,4-alpha-glucosidase',\n",
       "  [('GLCGSD', 'Glucan 1 4 alpha glucosidase')]),\n",
       " ('y000464',\n",
       "  'glucan 1,4-alpha-glucosidase, vacuole',\n",
       "  [('GLCGSDv', 'Glucan 1 4 alpha glucosidase  vacuole')]),\n",
       " ('G6PDH2er',\n",
       "  'glucose 6-phosphate dehydrogenase',\n",
       "  [('G6PDH2r', 'Glucose 6-phosphate dehydrogenase')]),\n",
       " ('y000467',\n",
       "  'glucose-6-phosphate isomerase',\n",
       "  [('PGI', 'Glucose-6-phosphate isomerase')]),\n",
       " ('GLU5K', 'glutamate 5-kinase', [('GLU5K', 'Glutamate 5-kinase')]),\n",
       " ('ARGDh', 'glutamate decarboxylase', [('GLUDC', 'Glutamate Decarboxylase')]),\n",
       " ('GLUS',\n",
       "  'glutamate synthase (NADH2)',\n",
       "  [('GLUSx', 'Glutamate synthase  NADH2 ')]),\n",
       " ('G5DHx',\n",
       "  'glutamate-5-semialdehyde dehydrogenase',\n",
       "  [('G5SD', 'Glutamate-5-semialdehyde dehydrogenase')]),\n",
       " ('y000477',\n",
       "  'glutamine-fructose-6-phosphate transaminase',\n",
       "  [('GF6PTA', 'Glutamine-fructose-6-phosphate transaminase')]),\n",
       " ('GLNTRS',\n",
       "  'glutaminyl-tRNA synthetase',\n",
       "  [('GLNTRS', 'Glutaminyl-tRNA synthetase')]),\n",
       " ('GLUTRS',\n",
       "  'glutamyl-tRNA synthetase',\n",
       "  [('GLUTRS', 'Glutamyl-tRNA synthetase')]),\n",
       " ('y000480',\n",
       "  'glutamyl-tRNA synthetase',\n",
       "  [('GLUTRSm', 'Glutamyl tRNA synthetase  mitochondrial')]),\n",
       " ('GDR_nadp_h',\n",
       "  'glutathione oxidoreductase',\n",
       "  [('GTHOr', 'Glutathione oxidoreductase')]),\n",
       " ('y000482',\n",
       "  'glutathione oxidoreductase',\n",
       "  [('GTHOm', 'Glutathione oxidoreductase')]),\n",
       " ('GTHPe', 'glutathione peridoxase', [('GTHPi', 'Glutathione peridoxase')]),\n",
       " ('y000484',\n",
       "  'glutathione peroxidase, mitochondria',\n",
       "  [('GTHPm', 'Glutathione peroxidase  mitochondria')]),\n",
       " ('GTHS', 'glutathione synthetase', [('GTHS', 'Glutathione synthetase')]),\n",
       " ('GAPD',\n",
       "  'glyceraldehyde-3-phosphate dehydrogenase',\n",
       "  [('GAPD', 'Glyceraldehyde-3-phosphate dehydrogenase')]),\n",
       " ('GLYCDy',\n",
       "  'glycerol dehydrogenase (NADP-dependent)',\n",
       "  [('GLYCDy', 'Glycerol dehydrogenase  NADP dependent ')]),\n",
       " ('GLYK', 'glycerol kinase', [('GLYK', 'Glycerol kinase')]),\n",
       " ('y000490',\n",
       "  'glycerol-3-phosphate dehydrogenase (fad)',\n",
       "  [('G3PDm', 'Glycerol 3 phosphate dehydrogenase  FAD   mitochondrial')]),\n",
       " ('G3PD1',\n",
       "  'glycerol-3-phosphate dehydrogenase (NAD)',\n",
       "  [('G3PD1ir', 'Glycerol 3 phosphate dehydrogenase  NAD ')]),\n",
       " ('y000492',\n",
       "  'glycerol-3-phosphate dehydrogenase (NAD)',\n",
       "  [('G3PD1irm', 'Glycerol 3 phosphate dehydrogenase  NAD   mitochondrial')]),\n",
       " ('GPDDA1',\n",
       "  'glycerophosphodiester phosphodiesterase (glycerophosphocholine)',\n",
       "  [('GPDDA1',\n",
       "    'Glycerophosphodiester phosphodiesterase (Glycerophosphocholine)')]),\n",
       " ('FPGFTh',\n",
       "  'glycinamide ribotide transformylase',\n",
       "  [('GARFT', 'Phosphoribosylglycinamide formyltransferase')]),\n",
       " ('GHMT',\n",
       "  'glycine hydroxymethyltransferase',\n",
       "  [('GHMT2r', 'Glycine hydroxymethyltransferase, reversible')]),\n",
       " ('y000503',\n",
       "  'glycine hydroxymethyltransferase',\n",
       "  [('GHMT2rm',\n",
       "    'Glycine hydroxymethyltransferase  reversible  mitochondrial')]),\n",
       " ('y000504',\n",
       "  'glycine-cleavage complex (lipoamide)',\n",
       "  [('GCC2am', 'Glycine cleavage complex  lipoamide   mitochondrial')]),\n",
       " ('y000505',\n",
       "  'glycine-cleavage complex (lipoamide)',\n",
       "  [('GCC2cm_copy1', None), ('GCC2cm_copy2', None)]),\n",
       " ('y000506',\n",
       "  'glycine-cleavage complex (lipoylprotein)',\n",
       "  [('GCCam', 'Glycine cleavage complex  lipoylprotein   mitochondrial')]),\n",
       " ('y000508',\n",
       "  'glycine-cleavage complex (lipoylprotein)',\n",
       "  [('GCCcm', 'Glycine cleavage complex  lipoylprotein   mitochondrial')]),\n",
       " ('GLCP', 'glycogen phosphorylase', [('GLCP', 'Glycogen phosphorylase')]),\n",
       " ('GLYTLm', 'glycyl-tRNA synthetase', [('GLYTRS', 'Glycyl-tRNA synthetase')]),\n",
       " ('y000514', 'GMP synthase', [('GMPS2', 'GMP synthase')]),\n",
       " ('y000524', 'GTP cyclohydrolase I', [('GTPCI', 'GTP cyclohydrolase I')]),\n",
       " ('GPAR',\n",
       "  'guanine phosphoribosyltransferase',\n",
       "  [('GUAPRT', 'Guanine phosphoribosyltransferase')]),\n",
       " ('GK1', 'guanylate kinase', [('GK1', 'Guanylate kinase (GMP:ATP)')]),\n",
       " ('GK2',\n",
       "  'guanylate kinase (GMP:dATP)',\n",
       "  [('GK2', 'Guanylate kinase  GMPdATP ')]),\n",
       " ('y000530',\n",
       "  'heme O monooxygenase',\n",
       "  [('HEMEOMOm', 'Heme O monooxygenase  mitochondrial')]),\n",
       " ('y000531',\n",
       "  'Heme O synthase',\n",
       "  [('HEMEOSm', 'Heme O synthase  mitochondrial')]),\n",
       " ('y000533',\n",
       "  'hexokinase (D-fructose:ATP)',\n",
       "  [('HEX7', 'Hexokinase (D-fructose:ATP)')]),\n",
       " ('HEX1',\n",
       "  'hexokinase (D-glucose:ATP)',\n",
       "  [('HEX1', 'Hexokinase (D-glucose:ATP)')]),\n",
       " ('y000535',\n",
       "  'hexokinase (D-mannose:ATP)',\n",
       "  [('HEX4', 'Hexokinase (D-mannose:ATP)')]),\n",
       " ('HDH', 'histidinol dehydrogenase', [('HISTD', 'Histidinol dehydrogenase')]),\n",
       " ('HISTP', 'histidinol-phosphatase', [('HISTP', 'Histidinol-phosphatase')]),\n",
       " ('AOOA',\n",
       "  'histidinol-phosphate transaminase',\n",
       "  [('HSTPT', 'Histidinol-phosphate transaminase')]),\n",
       " ('HISTRS',\n",
       "  'histidyl-tRNA synthetase',\n",
       "  [('HISTRS', 'Histidyl-tRNA synthetase')]),\n",
       " ('y000540',\n",
       "  'histidyl-tRNA synthetase',\n",
       "  [('HISTRSm', 'Histidyl tRNA synthetase  mitochondrial')]),\n",
       " ('ARMT',\n",
       "  'hnRNP arginine N-methyltransferase',\n",
       "  [('ARMT', 'HnRNP arginine N methyltransferase')]),\n",
       " ('y000542',\n",
       "  'homoacontinate hydratase',\n",
       "  [('HACNHm', 'Homoacontinate hydratase  mitochondrial')]),\n",
       " ('y000544',\n",
       "  'homocysteine S-methyltransferase',\n",
       "  [('HCYSMT', 'Homocysteine S-methyltransferase')]),\n",
       " ('HSDH',\n",
       "  'homoserine dehydrogenase (NADH)',\n",
       "  [('HSDxi', 'Homoserine dehydrogenase  NADH   irreversible')]),\n",
       " ('HSK', 'homoserine kinase', [('HSK', 'Homoserine kinase')]),\n",
       " ('HSERTA',\n",
       "  'homoserine O-trans-acetylase',\n",
       "  [('HSERTA', 'Homoserine O trans acetylase')]),\n",
       " ('GLYOX',\n",
       "  'hydroxyacylglutathione hydrolase',\n",
       "  [('GLYOX', 'Hydroxyacylglutathione hydrolase')]),\n",
       " ('y000554',\n",
       "  'hydroxyacylglutathione hydrolase',\n",
       "  [('GLYOXm', 'Hydroxyacylglutathione hydrolase  mitochondrial')]),\n",
       " ('y000555',\n",
       "  'hydroxybenzoate octaprenyltransferase',\n",
       "  [('HBZOPT6m', 'Hydroxybenzoate octaprenyltransferase  mitochondrial')]),\n",
       " ('HETZK',\n",
       "  'hydroxyethylthiazole kinase',\n",
       "  [('HETZK', 'Hydroxyethylthiazole kinase')]),\n",
       " ('HMPK1',\n",
       "  'hydroxymethylpyrimidine kinase (ATP)',\n",
       "  [('HMPK1', 'Hydroxymethylpyrimidine kinase (ATP)')]),\n",
       " ('HXPRT',\n",
       "  'hypoxanthine phosphoribosyltransferase (Hypoxanthine)',\n",
       "  [('HXPRT', 'Hypoxanthine phosphoribosyltransferase (Hypoxanthine)')]),\n",
       " ('IG3PS',\n",
       "  'Imidazole-glycerol-3-phosphate synthase',\n",
       "  [('IG3PS', 'Imidazole-glycerol-3-phosphate synthase')]),\n",
       " ('IGPDH',\n",
       "  'imidazoleglycerol-phosphate dehydratase',\n",
       "  [('IGPDH', 'Imidazoleglycerol-phosphate dehydratase')]),\n",
       " ('y000565', 'IMP dehydrogenase', [('IMPD', 'IMP dehydrogenase')]),\n",
       " ('IGPS',\n",
       "  'indole-3-glycerol-phosphate synthase',\n",
       "  [('IGPS', 'Indole-3-glycerol-phosphate synthase')]),\n",
       " ('INDPYRD',\n",
       "  'indole-3-pyruvate decarboxylase',\n",
       "  [('INDPYRD', 'Indole 3 pyruvate decarboxylase')]),\n",
       " ('IDPh', 'inorganic diphosphatase', [('PPA', 'Inorganic diphosphatase')]),\n",
       " ('y000569', 'inorganic diphosphatase', [('PPAm', 'Inorganic diphosphatase')]),\n",
       " ('ACHLE1',\n",
       "  'isoamyl acetate-hydrolyzing esterase',\n",
       "  [('ACHLE1', 'Isoamyl acetate hydrolyzing esterase')]),\n",
       " ('ACHLE2',\n",
       "  'isobutyl acetate-hydrolyzing esterase',\n",
       "  [('ACHLE2', 'Isobutyl acetate hydrolyzing esterase')]),\n",
       " ('y000658',\n",
       "  'isocitrate dehydrogenase (NAD+)',\n",
       "  [('ICDHxm', 'Isocitrate dehydrogenase  NAD ')]),\n",
       " ('ICDHhr',\n",
       "  'isocitrate dehydrogenase (NADP)',\n",
       "  [('ICDHyr', 'Isocitrate dehydrogenase (NADP)')]),\n",
       " ('ICL', 'isocitrate lyase', [('ICL', 'Isocitrate lyase')]),\n",
       " ('BCTA', 'isoleucine transaminase', [('ILETA', 'Isoleucine transaminase')]),\n",
       " ('y000664',\n",
       "  'isoleucine transaminase',\n",
       "  [('ILETAm', 'Isoleucine transaminase  mitochondrial')]),\n",
       " ('ILETRS',\n",
       "  'isoleucyl-tRNA synthetase',\n",
       "  [('ILETRS', 'Isoleucyl-tRNA synthetase')]),\n",
       " ('y000666',\n",
       "  'isoleucyl-tRNA synthetase',\n",
       "  [('ILETRSm', 'Isoleucyl tRNA synthetase  mitochondrial')]),\n",
       " ('IDIh',\n",
       "  'isopentenyl-diphosphate D-isomerase',\n",
       "  [('IPDDI', 'Isopentenyl-diphosphate D-isomerase')]),\n",
       " ('y000668',\n",
       "  'itaconate-CoA ligase (ADP-forming)',\n",
       "  [('ITCOALm', 'Itaconate  CoA ligase  ADP forming   mitochondrial')]),\n",
       " ('y000669',\n",
       "  'ketol-acid reductoisomerase (2-aceto-2-hydroxybutanoate)',\n",
       "  [('KARA2im',\n",
       "    'Ketol acid reductoisomerase  2 Aceto 2 hydroxybutanoate   mitochondrial')]),\n",
       " ('KYN', 'kynureninase', [('KYN', 'Kynureninase')]),\n",
       " ('KYN3OX',\n",
       "  'kynurenine 3-monooxygenase',\n",
       "  [('KYN3OX', 'Kynurenine 3 monooxygenase')]),\n",
       " ('y000672',\n",
       "  'L-1-pyrroline-3-hydroxy-5-carboxylate dehydrogenase',\n",
       "  [('PHCDm', 'L 1 pyrroline 3 hydroxy 5 carboxylate dehydrogenase')]),\n",
       " ('y000673',\n",
       "  'L-4-hydroxyglutamate semialdehyde dehydrogenase',\n",
       "  [('4HGLSDm',\n",
       "    'L 4 hydroxyglutamate semialdehyde dehydrogenase  mitochondrial')]),\n",
       " ('y000674',\n",
       "  'L-alanine transaminase',\n",
       "  [('ALATA_Lm', 'L alanine transaminase  mitochondrial')]),\n",
       " ('THRA2i',\n",
       "  'L-allo-threonine aldolase',\n",
       "  [('THRA2', 'L-allo-Threonine Aldolase')]),\n",
       " ('ATHRDHr',\n",
       "  'L-allo-threonine dehydrogenase',\n",
       "  [('ATHRDHr', 'L-allo-threonine dehydrogenase')]),\n",
       " ('AASAD1',\n",
       "  'L-aminoadipate-semialdehyde dehydrogenase (NADPH)',\n",
       "  [('AASAD1', 'L aminoadipate semialdehyde dehydrogenase  NADPH ')]),\n",
       " ('EHGLAT',\n",
       "  'L-erythro-4-hydroxyglutamate:2-oxoglutarate aminotransferase',\n",
       "  [('EHGLAT', 'L erythro 4 Hydroxyglutamate2 oxoglutarate aminotransferase')]),\n",
       " ('y000682',\n",
       "  'L-erythro-4-hydroxyglutamate:2-oxoglutarate aminotransferase',\n",
       "  [('EHGLATm',\n",
       "    'L erythro 4 Hydroxyglutamate2 oxoglutarate aminotransferase  mitochondrial')]),\n",
       " ('LALDO3',\n",
       "  'L-lactaldehyde:NADP+ 1-oxidoreductase',\n",
       "  [('LALDO3', 'L-Lactaldehyde:NADP+ 1-oxidoreductase')]),\n",
       " ('LSERDHr',\n",
       "  'L-serine dehydrogenase',\n",
       "  [('LSERDHr', 'L-serine dehydrogenase')]),\n",
       " ('y000691',\n",
       "  'L-sorbitol dehydrogenase (L-sorbose-producing)',\n",
       "  [('SBTD_L', 'L sorbitol dehydrogenase  L sorbose producing ')]),\n",
       " ('TRPO2',\n",
       "  'L-tryptophan:oxygen 2,3-oxidoreductase (decyclizing)',\n",
       "  [('TRPO2', 'L Tryptophanoxygen 2 3 oxidoreductase  decyclizing ')]),\n",
       " ('GLYOX_1',\n",
       "  'lactoylglutathione lyase',\n",
       "  [('LGTHL', 'Lactoylglutathione lyase')]),\n",
       " ('LNSTLS', 'lanosterol synthase', [('LNSTLS', 'Lanosterol synthase')]),\n",
       " ('BCTA_glu_h', 'leucine transaminase', [('LEUTA', 'Leucine transaminase')]),\n",
       " ('y000700',\n",
       "  'leucine transaminase',\n",
       "  [('LEUTAm', 'Leucine transaminase  mitochondrial')]),\n",
       " ('LEUTRS', 'leucyl-tRNA synthetase', [('LEUTRS', 'Leucyl-tRNA synthetase')]),\n",
       " ('y000702',\n",
       "  'leucyl-tRNA synthetase',\n",
       "  [('LEUTRSm', 'Leucyl tRNA synthetase  mitochondrial')]),\n",
       " ('LYSTRS', 'lysyl-tRNA synthetase', [('LYSTRS', 'Lysyl-tRNA synthetase')]),\n",
       " ('y000712',\n",
       "  'lysyl-tRNA synthetase',\n",
       "  [('LYSTRSm', 'Lysyl tRNA synthetase  mitochondrial')]),\n",
       " ('y000713',\n",
       "  'malate dehydrogenase',\n",
       "  [('MDHm', 'Malate dehydrogenase  mitochondrial')]),\n",
       " ('MDH',\n",
       "  'malate dehydrogenase, cytoplasmic',\n",
       "  [('MDH', 'Malate dehydrogenase')]),\n",
       " ('MALS', 'malate synthase', [('MALS', 'Malate synthase')]),\n",
       " ('y000718',\n",
       "  'malic enzyme (NAD)',\n",
       "  [('ME1m', 'Malic enzyme  NAD   mitochondrial')]),\n",
       " ('y000719',\n",
       "  'malic enzyme (NADP)',\n",
       "  [('ME2m', 'Malic enzyme  NADP   mitochondrial')]),\n",
       " ('y000721',\n",
       "  'malonyl-CoA-ACP transacylase',\n",
       "  [('MCOATAm', 'Malonyl CoA ACP transacylase  mitochondrial')]),\n",
       " ('y000722',\n",
       "  'mannose-1-phosphate guanylyltransferase',\n",
       "  [('MAN1PT', 'Mannose 1 phosphate guanylyltransferase')]),\n",
       " ('y000723',\n",
       "  'mannose-6-phosphate isomerase',\n",
       "  [('MAN6PI', 'Mannose-6-phosphate isomerase')]),\n",
       " ('y000724',\n",
       "  'methenyltetrahydrifikate cyclohydrolase',\n",
       "  [('MTHFCm', 'Methenyltetrahydrifikate cyclohydrolase  mitochondrial')]),\n",
       " ('MTHFC',\n",
       "  'methenyltetrahydrofolate cyclohydrolase',\n",
       "  [('MTHFC', 'Methenyltetrahydrofolate cyclohydrolase')]),\n",
       " ('MATm',\n",
       "  'methionine adenosyltransferase',\n",
       "  [('METAT', 'Methionine adenosyltransferase')]),\n",
       " ('y000727', 'methionine synthase', [('METS', 'Methionine synthase')]),\n",
       " ('y000728',\n",
       "  'methionyl-tRNA formyltransferase',\n",
       "  [('FMETTRSm', 'Methionyl tRNA formyltransferase  mitochondrial')]),\n",
       " ('METTRS',\n",
       "  'methionyl-tRNA synthetase',\n",
       "  [('METTRS', 'Methionyl-tRNA synthetase')]),\n",
       " ('y000730',\n",
       "  'methionyl-tRNA synthetase',\n",
       "  [('METTRSm', 'Methionyl tRNA synthetase  mitochondrial')]),\n",
       " ('MTHFD2',\n",
       "  'methylenetetrahydrofolate dehydrogenase (NAD)',\n",
       "  [('MTHFD2i', 'Methylenetetrahydrofolate dehydrogenase  NAD ')]),\n",
       " ('MTHFD',\n",
       "  'methylenetetrahydrofolate dehydrogenase (NADP)',\n",
       "  [('MTHFD', 'Methylenetetrahydrofolate dehydrogenase (NADP)')]),\n",
       " ('y000733',\n",
       "  'methylenetetrahydrofolate dehydrogenase (NADP)',\n",
       "  [('MTHFDm',\n",
       "    'Methylenetetrahydrofolate dehydrogenase  NADP   mitochondrial')]),\n",
       " ('MEVK1', 'mevalonate kinase (atp)', [('MEVK1', 'Mevalonate kinase  atp ')]),\n",
       " ('MEVK2', 'mevalonate kinase (ctp)', [('MEVK2', 'Mevalonate kinase  ctp ')]),\n",
       " ('MEVK3', 'mevalonate kinase (gtp)', [('MEVK3', 'Mevalonate kinase  gtp ')]),\n",
       " ('MEVK4', 'mevalonate kinase (UTP)', [('MEVK4', 'Mevalonate kinase  utp ')]),\n",
       " ('DPMVD',\n",
       "  'mevalonate pyrophoshate decarboxylase',\n",
       "  [('DPMVD', 'Diphosphomevalonate decarboxylase')]),\n",
       " ('MI1PP',\n",
       "  'myo-inositol 1-phosphatase',\n",
       "  [('MI1PP', 'Myo-inositol 1-phosphatase')]),\n",
       " ('MI1PS',\n",
       "  'myo-inositol-1-phosphate synthase',\n",
       "  [('MI1PS', 'Myo Inositol 1 phosphate synthase')]),\n",
       " ('y000759',\n",
       "  'N-acetyl-g-glutamyl-phosphate reductase',\n",
       "  [('AGPRim',\n",
       "    'N acetyl g glutamyl phosphate reductase  irreversible  mitochondrial')]),\n",
       " ('ACGAM6PS',\n",
       "  'N-acetylglucosamine-6-phosphate synthase',\n",
       "  [('ACGAM6PS', 'N acetylglucosamine 6 phosphate synthase')]),\n",
       " ('y000761',\n",
       "  'N-acteylglutamate synthase',\n",
       "  [('ACGSm', 'N acteylglutamate synthase  mitochondrial')]),\n",
       " ('FKYNH',\n",
       "  'N-formyl-L-kynurenine amidohydrolase',\n",
       "  [('FKYNH', 'N Formyl L kynurenine amidohydrolase')]),\n",
       " ('NADK', 'NAD kinase', [('NADK', 'NAD kinase')]),\n",
       " ('y000766', 'NAD kinase', [('NADKm', 'NAD kinase  mitochondrial')]),\n",
       " ('y000770',\n",
       "  'NADH dehydrogenase, cytosolic/mitochondrial',\n",
       "  [('NADH2_u6cm', 'NADH dehydrogenase  cytosolicmitochondrial')]),\n",
       " ('y000773',\n",
       "  'NADH:ubiquinone oxidoreductase',\n",
       "  [('NADH2_u6m', 'NADH dehydrogenase  mitochondrial')]),\n",
       " ('NAMNPP', 'NAPRtase', [('NAPRT', 'NAPRTase (rev)')]),\n",
       " ('y000775', 'NAPRtase', [('NAPRTm', 'NAPRTase  mitochondrial')]),\n",
       " ('NNMT',\n",
       "  'nicotinamide N-methyltransferase',\n",
       "  [('NNMT', 'Nicotinamide N methyltransferase')]),\n",
       " ('ANNAT',\n",
       "  'nicotinamide-nucleotide adenylyltransferase',\n",
       "  [('NMNAT', 'Nicotinamide-nucleotide adenylyltransferase')]),\n",
       " ('NNATm',\n",
       "  'nicotinate-nucleotide adenylyltransferase',\n",
       "  [('NNATr', 'Nicotinate-nucleotide adenylyltransferase')]),\n",
       " ('NNDPR',\n",
       "  'nicotinate-nucleotide diphosphorylase (carboxylating)',\n",
       "  [('NNDPR', 'Nicotinate-nucleotide diphosphorylase (carboxylating)')]),\n",
       " ('y000787',\n",
       "  'nicotinate-nucleotide diphosphorylase (carboxylating)',\n",
       "  [('NNDPRm',\n",
       "    'Nicotinate nucleotide diphosphorylase  carboxylating   mitochondrial')]),\n",
       " ('ATPH2e',\n",
       "  'nucleoside diphosphatase',\n",
       "  [('NDP1', 'Nucleoside diphosphatase  ADP ')]),\n",
       " ('NDP3',\n",
       "  'nucleoside diphosphatase',\n",
       "  [('NDP3', 'Nucleoside diphosphatase  GDP ')]),\n",
       " ('NDP7',\n",
       "  'nucleoside diphosphatase',\n",
       "  [('NDP7', 'Nucleoside diphosphatase  UDP ')]),\n",
       " ('NDPK3',\n",
       "  'nucleoside diphosphate kinase',\n",
       "  [('NDPK3', 'Nucleoside-diphosphate kinase (ATP:CDP)')]),\n",
       " ('NDPK8',\n",
       "  'nucleoside diphosphate kinase',\n",
       "  [('NDPK8', 'Nucleoside-diphosphate kinase (ATP:dADP)')]),\n",
       " ('NDPK7',\n",
       "  'nucleoside diphosphate kinase',\n",
       "  [('NDPK7', 'Nucleoside-diphosphate kinase (ATP:dCDP)')]),\n",
       " ('ATDGDm',\n",
       "  'nucleoside diphosphate kinase',\n",
       "  [('NDPK5', 'Nucleoside-diphosphate kinase (ATP:dGDP)')]),\n",
       " ('NDPK4',\n",
       "  'nucleoside diphosphate kinase',\n",
       "  [('NDPK4', 'Nucleoside-diphosphate kinase (ATP:dTDP)')]),\n",
       " ('ATGDm',\n",
       "  'nucleoside diphosphate kinase',\n",
       "  [('NDPK1', 'Nucleoside-diphosphate kinase (ATP:GDP)')]),\n",
       " ('NDPK9',\n",
       "  'nucleoside diphosphate kinase',\n",
       "  [('NDPK9', 'Nucleoside diphosphate kinase  ATPIDP ')]),\n",
       " ('NDPK6',\n",
       "  'nucleoside diphosphate kinase',\n",
       "  [('NDPK6', 'Nucleoside-diphosphate kinase (ATP:dUDP)')]),\n",
       " ('NTP3',\n",
       "  'nucleoside triphosphatase',\n",
       "  [('NTP3', 'Nucleoside-triphosphatase (GTP)')]),\n",
       " ('y000810',\n",
       "  'nucleoside-diphosphatase (GDP), Golgi',\n",
       "  [('NDP3g', 'Nucleoside diphosphatase  GDP   Golgi')]),\n",
       " ('NDPK2',\n",
       "  'nucleoside-diphosphate kinase (ATP:UDP)',\n",
       "  [('NDPK2', 'Nucleoside-diphosphate kinase (ATP:UDP)')]),\n",
       " ('AHSERL',\n",
       "  'O-acetylhomoserine (thiol)-lyase',\n",
       "  [('AHSERL', 'O acetylhomoserine  thiol  lyase')]),\n",
       " ('y000813',\n",
       "  'O-acetylhomoserine (thiol)-lyase',\n",
       "  [('AHSERL2', 'O acetylhomoserine  thiol  lyase')]),\n",
       " ('SHSL1',\n",
       "  'O-succinylhomoserine lyase (L-cysteine)',\n",
       "  [('SHSL1', 'O-succinylhomoserine lyase (L-cysteine)')]),\n",
       " ('OCBT',\n",
       "  'ornithine carbamoyltransferase',\n",
       "  [('OCBT', 'Ornithine carbamoyltransferase')]),\n",
       " ('ORDCh', 'ornithine decarboxylase', [('ORNDC', 'Ornithine Decarboxylase')]),\n",
       " ('y000818',\n",
       "  'ornithine transacetylase',\n",
       "  [('ORNTACim', 'Ornithine transacetylase  irreversible  mitochondrial')]),\n",
       " ('ORNTA', 'ornithine transaminase', [('ORNTA', 'Ornithine transaminase')]),\n",
       " ('ORPT',\n",
       "  'orotate phosphoribosyltransferase',\n",
       "  [('ORPT', 'Orotate phosphoribosyltransferase')]),\n",
       " ('OMPDC',\n",
       "  \"orotidine-5'-phosphate decarboxylase\",\n",
       "  [('OMPDC', \"Orotidine-5'-phosphate decarboxylase\")]),\n",
       " ('y000841',\n",
       "  'pantetheine-phosphate adenylyltransferase',\n",
       "  [('PTPATi', 'Pantetheine-phosphate adenylyltransferase')]),\n",
       " ('PNTK', 'pantothenate kinase', [('PNTK', 'Pantothenate kinase')]),\n",
       " ('PANTS', 'pantothenate synthase', [('PANTS', 'Pantothenate synthase')]),\n",
       " ('y000851',\n",
       "  'phenylalanine transaminase',\n",
       "  [('PHETA1', 'Phenylalanine transaminase')]),\n",
       " ('PHETRS',\n",
       "  'phenylalanyl-tRNA synthetase',\n",
       "  [('PHETRS', 'Phenylalanyl-tRNA synthetase')]),\n",
       " ('y000853',\n",
       "  'phenylalanyl-tRNA synthetase',\n",
       "  [('PHETRSm', 'Phenylalanyl tRNA synthetase  mitochondrial')]),\n",
       " ('y000854',\n",
       "  'phenylpyruvate decarboxylase',\n",
       "  [('PPYRDC', 'Phenylpyruvate decarboxylase')]),\n",
       " ('y000882',\n",
       "  'phosphoacetylglucosamine mutase',\n",
       "  [('ACGAMPM', 'Phosphoacetylglucosamine mutase')]),\n",
       " ('PPCK',\n",
       "  'phosphoenolpyruvate carboxykinase',\n",
       "  [('PPCK', 'Phosphoenolpyruvate carboxykinase')]),\n",
       " ('PETHCT',\n",
       "  'phosphoethanolamine cytidyltransferase',\n",
       "  [('PETHCT', 'Phosphoethanolamine cytidyltransferase')]),\n",
       " ('y000886', 'phosphofructokinase', [('PFK', 'Phosphofructokinase')]),\n",
       " ('PFK_3',\n",
       "  'phosphofructokinase (s7p)',\n",
       "  [('PFK_3', 'Phosphofructokinase (s7p)')]),\n",
       " ('GND',\n",
       "  'phosphogluconate dehydrogenase',\n",
       "  [('GND', 'Phosphogluconate dehydrogenase')]),\n",
       " ('PGAMT',\n",
       "  'phosphoglucosamine mutase',\n",
       "  [('PGAMT', 'Phosphoglucosamine mutase')]),\n",
       " ('PGCD',\n",
       "  'phosphoglycerate dehydrogenase',\n",
       "  [('PGCD', 'Phosphoglycerate dehydrogenase')]),\n",
       " ('y000902', 'phosphomannomutase', [('PMANM', 'Phosphomannomutase')]),\n",
       " ('PMPK',\n",
       "  'phosphomethylpyrimidine kinase',\n",
       "  [('PMPK', 'Phosphomethylpyrimidine kinase')]),\n",
       " ('PMEVK',\n",
       "  'phosphomevalonate kinase',\n",
       "  [('PMEVK', 'Phosphomevalonate kinase')]),\n",
       " ('PPNCL2',\n",
       "  'phosphopantothenate-cysteine ligase',\n",
       "  [('PPNCL2', 'Phosphopantothenate-cysteine ligase')]),\n",
       " ('y000906',\n",
       "  'phosphopantothenoylcysteine decarboxylase',\n",
       "  [('PPCDC', 'Phosphopantothenoylcysteine decarboxylase')]),\n",
       " ('PPM', 'phosphopentomutase', [('PPM', 'Phosphopentomutase')]),\n",
       " ('PRACHh',\n",
       "  'phosphoribosyl-AMP cyclohydrolase',\n",
       "  [('PRAMPC', 'Phosphoribosyl-AMP cyclohydrolase')]),\n",
       " ('PRADPh',\n",
       "  'phosphoribosyl-ATP pyrophosphatase',\n",
       "  [('PRATPP', 'Phosphoribosyl-ATP pyrophosphatase')]),\n",
       " ('AICART',\n",
       "  'phosphoribosylaminoimidazolecarboxamide formyltransferase',\n",
       "  [('AICART', 'Phosphoribosylaminoimidazolecarboxamide formyltransferase')]),\n",
       " ('PRAI',\n",
       "  'phosphoribosylanthranilate isomerase',\n",
       "  [('PRAIi', 'Phosphoribosylanthranilate isomerase (irreversible)')]),\n",
       " ('PPRGL',\n",
       "  'phosphoribosylglycinamidine synthetase',\n",
       "  [('PRAGSr', 'Phosphoribosylglycinamide synthase')]),\n",
       " ('GLUPRT',\n",
       "  'phosphoribosylpyrophosphate amidotransferase',\n",
       "  [('GLUPRT', 'Glutamine phosphoribosyldiphosphate amidotransferase')]),\n",
       " ('PRPPS',\n",
       "  'phosphoribosylpyrophosphate synthetase',\n",
       "  [('PRPPS', 'Phosphoribosylpyrophosphate synthetase')]),\n",
       " ('PSP',\n",
       "  'phosphoserine phosphatase (L-serine)',\n",
       "  [('PSP_L', 'Phosphoserine phosphatase (L-serine)')]),\n",
       " ('PSAT',\n",
       "  'phosphoserine transaminase',\n",
       "  [('PSERT', 'Phosphoserine transaminase')]),\n",
       " ('PPBNGS',\n",
       "  'porphobilinogen synthase',\n",
       "  [('PPBNGS', 'Porphobilinogen synthase')]),\n",
       " ('POLYAO3', 'poylamine oxidase', [('POLYAO3', 'Poylamine oxidase')]),\n",
       " ('y000938', 'prephenate dehydratase', [('PPNDH', 'Prephenate dehydratase')]),\n",
       " ('PPND2',\n",
       "  'prephenate dehydrogenase (NADP)',\n",
       "  [('PPND2', 'Prephenate dehydrogenase  NADP ')]),\n",
       " ('y000942',\n",
       "  'protoporphyrinogen oxidase',\n",
       "  [('PPPGOm', 'Protoporphyrinogen oxidase  mitochondrial')]),\n",
       " ('PNP',\n",
       "  'purine-nucleoside phosphorylase',\n",
       "  [('PNP', 'Purine nucleoside phosphorylase')]),\n",
       " ('PUNP3',\n",
       "  'guanosine phosphorylase',\n",
       "  [('PUNP3', 'Purine-nucleoside phosphorylase (Guanosine)')]),\n",
       " ('y000950',\n",
       "  'guanosine phosphorylase',\n",
       "  [('PUNP3m', 'Purine nucleoside phosphorylase  Guanosine   mitochondrial')]),\n",
       " ('PUNP5',\n",
       "  'inosine phosphorylase',\n",
       "  [('PUNP5', 'Purine-nucleoside phosphorylase (Inosine)')]),\n",
       " ('PDX5POi',\n",
       "  \"pyridoxine 5'-phosphate oxidase\",\n",
       "  [('PDX5POi', \"Pyridoxine 5'-phosphate oxidase\")]),\n",
       " ('PYDXNO', 'pyridoxine oxidase', [('PYDXNO', 'Pyridoxine oxidase')]),\n",
       " ('P5CR',\n",
       "  'pyrroline-5-carboxylate reductase',\n",
       "  [('P5CR', 'Pyrroline-5-carboxylate reductase')]),\n",
       " ('PC', 'pyruvate carboxylase', [('PC', 'Pyruvate carboxylase')]),\n",
       " ('PYRDC', 'pyruvate decarboxylase', [('PYRDC', 'Pyruvate decarboxylase')]),\n",
       " ('PYRDC2',\n",
       "  'pyruvate decarboxylase (acetoin-forming)',\n",
       "  [('PYRDC2', 'Pyruvate decarboxylase  acetoin forming ')]),\n",
       " ('y000961', 'pyruvate dehydrogenase', [('PDHm', 'Pyruvate dehydrogenase')]),\n",
       " ('PYK', 'pyruvate kinase', [('PYK', 'Pyruvate kinase')]),\n",
       " ('RBFK', 'riboflavin kinase', [('RBFK', 'Riboflavin kinase')]),\n",
       " ('y000966',\n",
       "  'riboflavin kinase',\n",
       "  [('RBFKm', 'Riboflavin kinase  mitochondrial')]),\n",
       " ('DLDLBT', 'riboflavin synthase', [('RBFSa', 'Riboflavin synthase')]),\n",
       " ('RBFSb', 'riboflavin synthase', [('RBFSb', 'Riboflavin synthase')]),\n",
       " ('RBK', 'ribokinase', [('RBK', 'Ribokinase')]),\n",
       " ('RNMK',\n",
       "  'ribosylnicotinamide kinase',\n",
       "  [('RNMK', 'Ribosylnicotinamide kinase')]),\n",
       " ('RPE',\n",
       "  'ribulose 5-phosphate 3-epimerase',\n",
       "  [('RPE', 'Ribulose 5-phosphate 3-epimerase')]),\n",
       " ('y000985',\n",
       "  'S-adenosyl-L-methionine:3-hexaprenyl-4,5-dihydroxylate O-methyltransferase',\n",
       "  [('3DH5HPBMTm',\n",
       "    'S adenosyl L methionine3 hexaprenyl 4 5 dihydroxylate O methyltransferase  mitochondrial')]),\n",
       " ('SAM24MT',\n",
       "  'S-adenosyl-methionine delta-24-sterol-c-methyltransferase',\n",
       "  [('SAM24MT', 'S adenosyl methionine delta 24 sterol c methyltransferase')]),\n",
       " ('SFGTHi',\n",
       "  'S-formylglutathione hydralase',\n",
       "  [('SFGTHi', 'S-Formylglutathione hydralase')]),\n",
       " ('SACCD2',\n",
       "  'saccharopine dehydrogenase (NAD, L-lysine forming)',\n",
       "  [('SACCD2', 'Saccharopine dehydrogenase  NAD  L lysine forming ')]),\n",
       " ('SACCD1',\n",
       "  'saccharopine dehydrogenase (NADP, L-glutamate forming)',\n",
       "  [('SACCD1', 'Saccharopine dehydrogenase  NADP  L glutamate forming ')]),\n",
       " ('FBA3',\n",
       "  'sedoheptulose 1,7-bisphosphate D-glyceraldehyde-3-phosphate-lyase',\n",
       "  [('FBA3',\n",
       "    'Sedoheptulose 1,7-bisphosphate D-glyceraldehyde-3-phosphate-lyase')]),\n",
       " ('SERTRS', 'seryl-tRNA synthetase', [('SERTRS', 'Seryl-tRNA synthetase')]),\n",
       " ('SHK3Dr',\n",
       "  'shikimate dehydrogenase',\n",
       "  [('SHK3Dr', 'Shikimate dehydrogenase')]),\n",
       " ('SHKK', 'shikimate kinase', [('SHKK', 'Shikimate kinase')]),\n",
       " ('SHCHF',\n",
       "  'sirohydrochlorin ferrochetalase',\n",
       "  [('SHCHF', 'Sirohydrochlorin ferrochelatase')]),\n",
       " ('APAPTm', 'spermidine synthase', [('SPMS', 'Spermidine synthase')]),\n",
       " ('ASAPT', 'spermine synthase', [('SPRMS', 'Spermine synthase')]),\n",
       " ('SQLS', 'squalene synthase', [('SQLS', 'Squalene synthase')]),\n",
       " ('y001021',\n",
       "  'succinate dehydrogenase (ubiquinone-6)',\n",
       "  [('SUCD2_u6m', 'Succinate dehydrogenase  ubiquinone 6   mitochondrial')]),\n",
       " ('SSALy',\n",
       "  'succinate-semialdehyde dehydrogenase (NADP)',\n",
       "  [('SSALy', 'Succinate-semialdehyde dehydrogenase (NADP)')]),\n",
       " ('y001024',\n",
       "  'sucrose hydrolyzing enxyme',\n",
       "  [('SUCRe', 'Sucrose hydrolyzing enxyme  extracellular')]),\n",
       " ('SADT',\n",
       "  'sulfate adenylyltransferase',\n",
       "  [('SADT', 'Sulfate adenylyltransferase')]),\n",
       " ('SULR',\n",
       "  'sulfite reductase (NADPH2)',\n",
       "  [('SULR', 'Sulfite reductase (NADPH2)')]),\n",
       " ('TAUDO', 'taurine dioxygenase', [('TAUDO', 'Taurine dioxygenase')]),\n",
       " ('y001030',\n",
       "  'tetrahydrofolate aminomethyltransferase',\n",
       "  [('THFATm', 'Tetrahydrofolate aminomethyltransferase  mitochondrial')]),\n",
       " ('y001032',\n",
       "  'thiamin diphosphatase',\n",
       "  [('THMDPe', 'Thiamin diphosphatase  extracellular')]),\n",
       " ('y001033',\n",
       "  'thiamin phosphatase',\n",
       "  [('THMPe', 'Thiamin phosphatase  extracellular')]),\n",
       " ('y001034',\n",
       "  'thiamine diphosphokinase',\n",
       "  [('TMDPK', 'Thiamine diphosphokinase')]),\n",
       " ('TMDPPK',\n",
       "  'thiamine-diphosphate kinase',\n",
       "  [('TMDPPK', 'Thiamine diphosphate kinase')]),\n",
       " ('TMPPP',\n",
       "  'thiamine-phosphate diphosphorylase',\n",
       "  [('TMPPP', 'Thiamine-phosphate diphosphorylase')]),\n",
       " ('THRA', 'threonine aldolase', [('THRA', 'Threonine aldolase')]),\n",
       " ('THRS', 'threonine synthase', [('THRS', 'Threonine synthase')]),\n",
       " ('THRTRS',\n",
       "  'threonyl-tRNA synthetase',\n",
       "  [('THRTRS', 'Threonyl-tRNA synthetase')]),\n",
       " ('y001043',\n",
       "  'threonyl-tRNA synthetase',\n",
       "  [('THRTRSm', 'Threonyl tRNA synthetase  mitochondrial')]),\n",
       " ('TMDS', 'thymidylate synthase', [('TMDS', 'Thymidylate synthase')]),\n",
       " ('y001047',\n",
       "  'trans-pentaprenyltranstransferase',\n",
       "  [('PPTTm', 'Trans pentaprenyltranstransferase  mitochondrial')]),\n",
       " ('y001048', 'transaldolase', [('TALA', 'Transaldolase')]),\n",
       " ('TKT1', 'transketolase 1', [('TKT1', 'Transketolase')]),\n",
       " ('y001050', 'transketolase 2', [('TKT2', 'Transketolase')]),\n",
       " ('y001051', 'trehalose-phosphatase', [('TRE6PP', 'Trehalose-phosphatase')]),\n",
       " ('TPI',\n",
       "  'triose-phosphate isomerase',\n",
       "  [('TPI', 'Triose-phosphate isomerase')]),\n",
       " ('y001055',\n",
       "  'tryptophan synthase (indoleglycerol phosphate)',\n",
       "  [('TRPS1', 'Tryptophan synthase (indoleglycerol phosphate)')]),\n",
       " ('TRPTA', 'tryptophan transaminase', [('TRPTA', 'Tryptophan transaminase')]),\n",
       " ('TRPTRS',\n",
       "  'tryptophanyl-tRNA synthetase',\n",
       "  [('TRPTRS', 'Tryptophanyl-tRNA synthetase')]),\n",
       " ('y001058',\n",
       "  'tryptophanyl-tRNA synthetase',\n",
       "  [('TRPTRSm', 'Tryptophanyl tRNA synthetase  mitochondrial')]),\n",
       " ('TYRTA',\n",
       "  'tyrosine transaminase',\n",
       "  [('TYRTAi', 'Tyrosine transaminase  irreversible')]),\n",
       " ('TYRTRS',\n",
       "  'tyrosyl-tRNA synthetase',\n",
       "  [('TYRTRS', 'Tyrosyl-tRNA synthetase')]),\n",
       " ('y001067',\n",
       "  'tyrosyl-tRNA synthetase',\n",
       "  [('TYRTRSm', 'Tyrosyl tRNA synthetase  mitochondrial')]),\n",
       " ('y001068',\n",
       "  'UDP-glucose:ergosterol glucosyltransferase',\n",
       "  [('ERGSTGLCT', 'UDP glucoseergosterol glucosyltransferase')]),\n",
       " ('y001070', 'UDPglucose 4-epimerase', [('UDPG4E', 'UDPglucose 4-epimerase')]),\n",
       " ('y001071',\n",
       "  'UDPglucose--hexose-1-phosphate uridylyltransferase',\n",
       "  [('UGLT', 'UDPglucose--hexose-1-phosphate uridylyltransferase')]),\n",
       " ('UMPK', 'UMP kinase', [('UMPK', 'UMP kinase')]),\n",
       " ('y001073', 'UMP kinase', [('UMPKn', 'UMP kinase  nuclear')]),\n",
       " ('UPPRT',\n",
       "  'uracil phosphoribosyltransferase',\n",
       "  [('UPPRT', 'Uracil phosphoribosyltransferase')]),\n",
       " ('URCB', 'urea carboxylase', [('UREASE', 'Urea carboxylase')]),\n",
       " ('URIK1',\n",
       "  'uridine kinase (ATP:uridine)',\n",
       "  [('URIK1', 'Uridine kinase  ATPUridine ')]),\n",
       " ('URIK2',\n",
       "  'uridine kinase (GTP:uridine)',\n",
       "  [('URIK2', 'Uridine kinase (GTP:Uridine)')]),\n",
       " ('URIDK2m',\n",
       "  'uridylate kinase (dUMP)',\n",
       "  [('URIDK2r', 'Uridylate kinase (dUMP)')]),\n",
       " ('y001080',\n",
       "  'uridylate kinase (dUMP)',\n",
       "  [('URIDK2rn', 'Uridylate kinase  dUMP   nuclear')]),\n",
       " ('UPPDC1',\n",
       "  'uroporphyrinogen decarboxylase (uroporphyrinogen III)',\n",
       "  [('UPPDC1', 'Uroporphyrinogen decarboxylase (uroporphyrinogen III)')]),\n",
       " ('UPP3MT',\n",
       "  'uroporphyrinogen methyltransferase',\n",
       "  [('UPP3MT', 'Uroporphyrinogen methyltransferase')]),\n",
       " ('UPP3S',\n",
       "  'uroporphyrinogen-III synthase',\n",
       "  [('UPP3S', 'Uroporphyrinogen-III synthase')]),\n",
       " ('GALUi',\n",
       "  'UTP-glucose-1-phosphate uridylyltransferase',\n",
       "  [('GALUi', 'UTP-glucose-1-phosphate uridylyltransferase (irreversible)')]),\n",
       " ('BCTA_val_h', 'valine transaminase', [('VALTA', 'Valine transaminase')]),\n",
       " ('y001088',\n",
       "  'valine transaminase, mitochondiral',\n",
       "  [('VALTAim', 'Valine transaminase  mitochondiral')]),\n",
       " ('VALTLh', 'valyl-tRNA synthetase', [('VALTRS', 'Valyl-tRNA synthetase')]),\n",
       " ('y001090',\n",
       "  'valyl-tRNA synthetase',\n",
       "  [('VALTRSm', 'Valyl tRNA synthetase  mitochondrial')]),\n",
       " ('y001091',\n",
       "  'xanthine phosphoribosyltransferase',\n",
       "  [('XPPT', 'Xanthine phosphoribosyltransferase')]),\n",
       " ('XYLTD_D',\n",
       "  'xylitol dehydrogenase (D-xyulose-forming)',\n",
       "  [('XYLTD_D', 'Xylitol dehydrogenase  D xyulose forming ')]),\n",
       " ('y001093', 'xylose reductase', [('XYLR', 'Xylose reductase')]),\n",
       " ('XYLK', 'xylulokinase', [('XYLK', 'Xylulokinase')]),\n",
       " ('y001100',\n",
       "  '3-hexaprenyl-4,5-dihydroxybenzoate transport',\n",
       "  [('3DH5HPBtm',\n",
       "    '3 Hexaprenyl 4 5 dihydroxybenzoate transport  mitochondrial')]),\n",
       " ('y001101',\n",
       "  '4-aminobutyrate transport',\n",
       "  [('ABUTt2r', '4 aminobutyrate reversible transport in via proton symport')]),\n",
       " ('y001102',\n",
       "  '5-aminolevulinate transport',\n",
       "  [('5AOPt2', '5 Aminolevulinate transport in via proton symport')]),\n",
       " ('y001108',\n",
       "  'adenine transport',\n",
       "  [('ADEt2', 'Adenine transport in via proton symport')]),\n",
       " ('y001109',\n",
       "  'adenosine transport',\n",
       "  [('ADNt2', 'Adenosine transport in via proton symport')]),\n",
       " ('y001113',\n",
       "  'allantoate uniport',\n",
       "  [('ALLTTti', 'Allantoate irreversible uniport')]),\n",
       " ('y001114',\n",
       "  'allantoin uniport',\n",
       "  [('ALLTNti', 'Allantoin irreversible uniport')]),\n",
       " ('y001119', 'biotin uptake', [('BTNt2i', 'Biotin uptake')]),\n",
       " ('y001120',\n",
       "  'carnithine-acetylcarnithine carrier',\n",
       "  [('CRNCARtm', 'Carnithine acetylcarnithine carrier  mitochondrial')]),\n",
       " ('y001125',\n",
       "  'choline transport',\n",
       "  [('CHLt2', 'Choline transport via proton symport')]),\n",
       " ('y001126',\n",
       "  'citrate transport',\n",
       "  [('CITtam', 'Citrate transport  mitochondrial')]),\n",
       " ('y001127',\n",
       "  'citrate transport',\n",
       "  [('CITtbm', 'Citrate transport  mitochondrial')]),\n",
       " ('y001128',\n",
       "  'citrate transport',\n",
       "  [('CITtcm', 'Citrate transport  mitochondrial')]),\n",
       " ('y001129',\n",
       "  'coenzyme A transport',\n",
       "  [('COAtim', 'CoA transporter  mitochondrial   irreversible')]),\n",
       " ('y001130', 'CTP transport', [('CTPtm', 'CTPCMP antiport')]),\n",
       " ('y001131', 'CTP/CMP antiport', [('CTPtm', 'CTPCMP antiport')]),\n",
       " ('y001132',\n",
       "  'cytidine transport',\n",
       "  [('CYTDt2', 'Cytidine transport in via proton symport')]),\n",
       " ('y001133',\n",
       "  'cytosine transport',\n",
       "  [('CSNt2', 'Cytosine transport in via proton symport')]),\n",
       " ('y001134',\n",
       "  'D-fructose transport',\n",
       "  [('FRUt2', 'D fructose transport in via proton symport')]),\n",
       " ('y001135',\n",
       "  'D-galactose transport',\n",
       "  [('GALt2', 'D galactose transport in via proton symport')]),\n",
       " ('y001136',\n",
       "  'D-lactate transport',\n",
       "  [('D_LACt2', 'D lactate transport via proton symport')]),\n",
       " ('y001137',\n",
       "  'D-lactate transport',\n",
       "  [('D_LACtm', 'D lactate transport  mitochondrial')]),\n",
       " ('y001139',\n",
       "  'D-mannose transport',\n",
       "  [('MANt2', 'D mannose transport in via proton symport')]),\n",
       " ('y001146',\n",
       "  'episterol transport',\n",
       "  [('EPISTt', 'Episterol reversible transport')]),\n",
       " ('y001147',\n",
       "  'ergosterol transport',\n",
       "  [('ERGSTt', 'Ergosterol reversible transport')]),\n",
       " ('y001149',\n",
       "  'ethanolamine transport',\n",
       "  [('ETHAt', 'Ethanolamine transport via diffusion  extracellular ')]),\n",
       " ('y001161',\n",
       "  'fecosterol transport',\n",
       "  [('FECOSTt', 'Fecosterol reversible transport')]),\n",
       " ('y001165', 'GDP-mannose antiport', [('GDPMANNtg', 'GDP mannose antiport')]),\n",
       " ('y001166', 'glucose transport', [('GLCt1', 'Glucose transport  uniport ')]),\n",
       " ('y001167', 'glutathione transport', [('GTHRDt2', 'Glutathione transport')]),\n",
       " ('y001169',\n",
       "  'glycero-3-phospho-1-inositol transport',\n",
       "  [('G3PIt',\n",
       "    'Glycero 3 phospho 1 inositol transport  extracellular to cytosol ')]),\n",
       " ('y001170',\n",
       "  'glycero-3-phosphocholine transport',\n",
       "  [('G3PCt',\n",
       "    'Glycero 3 phosphocholine transport  extracellular to cytosol ')]),\n",
       " ('y001171',\n",
       "  'glycerol transport',\n",
       "  [('GLYCt2', 'Glycerol transport via symport')]),\n",
       " ('y001172',\n",
       "  'glycerol transport via channel',\n",
       "  [('GLYCt', 'Glycerol transport via channel')]),\n",
       " ('y001173',\n",
       "  'glycine transport',\n",
       "  [('GLYt2r', 'Glycine reversible transport via proton symport')]),\n",
       " ('y001174',\n",
       "  \"glycogen vacuolar 'transport' via autophagy\",\n",
       "  [('GLCNtv', 'Glycogen vacuolar  transport  via autophagy')]),\n",
       " ('y001175',\n",
       "  'GTP/GDP translocase',\n",
       "  [('GTPt2m', 'GTPGDP translocase  mitochondrial  electroneutral ')]),\n",
       " ('y001176',\n",
       "  'guanine transport',\n",
       "  [('GUAt2r', 'Guanine reversible transport via proton symport')]),\n",
       " ('y001177',\n",
       "  'inositol transport',\n",
       "  [('INSTt2', 'Inositol transport in via proton symport')]),\n",
       " ('y001179',\n",
       "  'iron (II) transport',\n",
       "  [('FE2utm', 'Iron  II  uptake  mitochondrial ')]),\n",
       " ('y001180',\n",
       "  'isoamyl acetate transport',\n",
       "  [('IAMACt', 'Isoamyl acetate transport  extracellular ')]),\n",
       " ('y001181',\n",
       "  'isobutyl acetate transport',\n",
       "  [('IBUTACt', 'Isobutyl acetate transport  extracellular ')]),\n",
       " ('y001182',\n",
       "  'isopentenyl diphosphate transport',\n",
       "  [('IPDPtm', 'Isopentenyl diphosphate transport  mitochondrial')]),\n",
       " ('y001183',\n",
       "  'L-alanine transport',\n",
       "  [('ALAt2r', 'L alanine reversible transport via proton symport')]),\n",
       " ('y001184',\n",
       "  'L-arganine transport',\n",
       "  [('ARGt2r', 'L arganine reversible transport via proton symport')]),\n",
       " ('y001186',\n",
       "  'L-asparagine transport',\n",
       "  [('ASNt2r', 'L asparagine reversible transport via proton symport')]),\n",
       " ('y001187',\n",
       "  'L-asparagine transport',\n",
       "  [('ASNt6', 'L asparagine transport in via proton antiport  vacuolar ')]),\n",
       " ('y001188',\n",
       "  'L-aspartate transport',\n",
       "  [('ASNt7', 'L asparagine transport out via proton symport  vacuolar')]),\n",
       " ('y001191',\n",
       "  'L-carnitine transport',\n",
       "  [('CRNt', 'L carnitine reversible transport')]),\n",
       " ('y001192',\n",
       "  'L-cystine transport',\n",
       "  [('CYSt2r', 'L cysteine reversible transport via proton symport')]),\n",
       " ('y001194',\n",
       "  'L-glutamate transport',\n",
       "  [('GLUt7m', 'Glutamate transport  uniporter   mitochondrial')]),\n",
       " ('y001195',\n",
       "  'L-glutamate transport',\n",
       "  [('GLUt7', 'L glutamate transport out via proton symport  vacuolar')]),\n",
       " ('y001196',\n",
       "  'L-glutamate transport',\n",
       "  [('GLUt2r', 'L glutamate transport via proton symport  reversible')]),\n",
       " ('y001197',\n",
       "  'L-glutamine transport',\n",
       "  [('GLNt6', 'L glutamine transport in via proton antiport  vacuolar ')]),\n",
       " ('y001198',\n",
       "  'L-glutamine transport',\n",
       "  [('GLNt7', 'L glutamine transport out via proton symport  vacuolar')]),\n",
       " ('y001199',\n",
       "  'L-glutamine transport',\n",
       "  [('GLNt2r', 'L glutamine reversible transport via proton symport')]),\n",
       " ('y001201',\n",
       "  'L-histidine transport',\n",
       "  [('HISt2r', 'L histidine reversible transport via proton symport')]),\n",
       " ('y001203',\n",
       "  'L-isoleucine transport',\n",
       "  [('ILEt6', 'L isoleucine transport in via proton antiport  vacuolar ')]),\n",
       " ('y001204',\n",
       "  'L-isoleucine transport',\n",
       "  [('ILEt7', 'L isoleucine transport out via proton symport  vacuolar')]),\n",
       " ('y001205',\n",
       "  'L-isoleucine transport',\n",
       "  [('ILEt2r', 'L isoleucine reversible transport via proton symport')]),\n",
       " ('y001207',\n",
       "  'L-lactate transport',\n",
       "  [('L_LACt2r', 'L lactate reversible transport via proton symport')]),\n",
       " ('y001209',\n",
       "  'L-leucine transport, vacuoluar',\n",
       "  [('LEUt6', 'L leucine transport in via proton antiport  vacuolar ')]),\n",
       " ('y001210',\n",
       "  'L-leucine transport, vacuoluar',\n",
       "  [('LEUt7', 'L leucine transport out via proton symport  vacuolar')]),\n",
       " ('y001211',\n",
       "  'L-leucine transport',\n",
       "  [('LEUt2r', 'L leucine reversible transport via proton symport')]),\n",
       " ('y001213',\n",
       "  'L-lysine transport',\n",
       "  [('LYSt2r', 'L lysine reversible transport via proton symport')]),\n",
       " ('y001214',\n",
       "  'L-methionine transport',\n",
       "  [('METt2r', 'L methionine reversible transport via proton symport')]),\n",
       " ('y001215',\n",
       "  'L-phenylalanine transport',\n",
       "  [('PHEt2r', 'L phenylalanine reversible transport via proton symport')]),\n",
       " ('y001216',\n",
       "  'L-proline transport',\n",
       "  [('PROt2r', 'L proline reversible transport via proton symport')]),\n",
       " ('y001217',\n",
       "  'L-serine transport',\n",
       "  [('SERt2r', 'L serine reversible transport via proton symport')]),\n",
       " ('y001218',\n",
       "  'L-threonine transport',\n",
       "  [('THRt2r', 'L threonine reversible transport via proton symport')]),\n",
       " ('y001219',\n",
       "  'L-tryptophan transport',\n",
       "  [('TRPt2r', 'L tryptophan reversible transport via proton symport')]),\n",
       " ('y001221',\n",
       "  'L-tyrosine transport',\n",
       "  [('TYRt6', 'L tyrosine transport in via proton antiport  vacuolar ')]),\n",
       " ('y001222',\n",
       "  'L-tyrosine transport',\n",
       "  [('TYRt7', 'L tyrosine transport out via proton symport  vacuolar')]),\n",
       " ('y001223',\n",
       "  'L-tyrosine transport',\n",
       "  [('TYRt2r', 'L tyrosine reversible transport via proton symport')]),\n",
       " ('y001224',\n",
       "  'L-valine transport',\n",
       "  [('VALt2r', 'L valine reversible transport via proton symport')]),\n",
       " ('y001225',\n",
       "  'lanosterol transport',\n",
       "  [('LANOSTt', 'Lanosterol reversible transport')]),\n",
       " ('y001226',\n",
       "  'malate transport',\n",
       "  [('MALtm', 'Malate transport  mitochondrial')]),\n",
       " ('y001227',\n",
       "  'maltose transport',\n",
       "  [('MALTt2', 'Maltose transport in via proton symport')]),\n",
       " ('y001235', 'nicotinate transport', [('NACt', 'Nicotinic acid transport')]),\n",
       " ('y001237',\n",
       "  'ornithine transport',\n",
       "  [('ORNt3m', 'Ornithine mitochondrial transport via proton antiport')]),\n",
       " ('y001238',\n",
       "  'orntithine transport',\n",
       "  [('ORNt2r', 'Orntithine reversible transport in via proton symport')]),\n",
       " ('y001239',\n",
       "  'oxaloacetate transport',\n",
       "  [('OAAt2m', 'Oxaloacetate transport  mitochondrial')]),\n",
       " ('y001241',\n",
       "  'pantothenate transport',\n",
       "  [('PNTOt2', 'Pantothenate reversible transport via proton symport')]),\n",
       " ('y001242',\n",
       "  'pentaprenyl diphosphate transport',\n",
       "  [('PENDPtm', 'All trans Pentaprenyl diphosphate transport  mitochondrial')]),\n",
       " ('y001244',\n",
       "  'phosphate transport',\n",
       "  [('PIt2r', 'Phosphate reversible transport via symport')]),\n",
       " ('y001245',\n",
       "  'phosphate transport',\n",
       "  [('PIt2m', 'Phosphate transporter  mitochondrial')]),\n",
       " ('y001249',\n",
       "  'potassium transport',\n",
       "  [('Kt2r', 'Potassium reversible transport  via proton symport')]),\n",
       " ('y001251',\n",
       "  'putrescine transport',\n",
       "  [('PTRCt3i', 'Putrescine transport in via proton antiport  irreversible')]),\n",
       " ('y001254',\n",
       "  'pyruvate transport',\n",
       "  [('PYRt2', 'Pyruvate transport in via proton symport')]),\n",
       " ('y001255',\n",
       "  'S-adenosyl-L-methionine transport',\n",
       "  [('AMETt2', 'S adenosyl L methionine transport in via proton symport')]),\n",
       " ('y001256',\n",
       "  'S-adenosyl-L-methionine transport',\n",
       "  [('AMETtm', 'S Adenosyl L methionine reversible transport  mitochondrial')]),\n",
       " ('y001257',\n",
       "  'S-methylmethionine permease',\n",
       "  [('MMETt2', 'S methylmethionine permease')]),\n",
       " ('y001258',\n",
       "  'sodium proton antiporter',\n",
       "  [('NAt3_1', 'Sodium proton antiporter  HNA is 11 ')]),\n",
       " ('y001260',\n",
       "  'spermidine transport',\n",
       "  [('SPMDt3i', 'Spermidine transport in via proton antiport')]),\n",
       " ('y001262',\n",
       "  'spermine transport',\n",
       "  [('SPRMt2i', 'Spermine transport via proton antiport irreversible')]),\n",
       " ('y001264',\n",
       "  'succinate transport',\n",
       "  [('SUCCtm', 'Succinate transport  mitochondrial')]),\n",
       " ('y001265',\n",
       "  'succinate-fumarate transport',\n",
       "  [('SUCFUMtm', 'Succinate fumarate transport  mitochondrial')]),\n",
       " ('y001266', 'sulfate uniport', [('SO4ti', 'Sulfate irreversible uniport')]),\n",
       " ('y001267',\n",
       "  'sulfite transport',\n",
       "  [('SO3ti', 'Sulfite transport  efflux  cytosol to extracellular ')]),\n",
       " ('y001268', 'taurine transport', [('TAURt', 'Taurine transport')]),\n",
       " ('y001269',\n",
       "  'thiamine diphosphate transport',\n",
       "  [('THMPPt2m', 'Thiamine diphosphate transport  mitochondria')]),\n",
       " ('y001270',\n",
       "  'thiamine transport',\n",
       "  [('THMt2', 'Thiamine transport in via proton symport')]),\n",
       " ('y001271',\n",
       "  'UDPgalactose transport',\n",
       "  [('UDPGALt2g', 'UDPgalactose transport  Golgi apparatus ')]),\n",
       " ('y001272',\n",
       "  'uracil transport',\n",
       "  [('URAt2', 'Uracil transport in via proton symport')]),\n",
       " ('y001273',\n",
       "  'urea transport',\n",
       "  [('UREA2t2', 'Urea reversible transport via proton symport  2 H ')]),\n",
       " ('y001274',\n",
       "  'uridine transport',\n",
       "  [('URIt2', 'Uridine transport in via proton symport')]),\n",
       " ('y001276', 'UTP/UMP antiport', [('UTPtm', 'UTPUMP antiport')]),\n",
       " ('y001277', 'water diffusion', [('H2Ot', 'H2O transport via diffusion')]),\n",
       " ('y001542',\n",
       "  '(1-3)-beta-D-glucan exchange',\n",
       "  [('EX_13BDglcn_e', '1 3 beta D Glucan exchange')]),\n",
       " ('y001545', '(R)-carnitine exchange', [('EX_crn_e', 'L-Carnitine exchange')]),\n",
       " ('y001546', '(R)-lactate exchange', [('EX_lac__D_e', 'D-lactate exchange')]),\n",
       " ('y001548',\n",
       "  '(R)-pantothenate exchange',\n",
       "  [('EX_pnto__R_e', '(R)-Pantothenate exchange')]),\n",
       " ('y001550',\n",
       "  '(S)-3-methyl-2-oxopentanoate exchange',\n",
       "  [('EX_3mop_e', '3mop exchange')]),\n",
       " ('y001551', '(S)-lactate exchange', [('EX_lac__L_e', 'L-Lactate exchange')]),\n",
       " ('y001552', '(S)-malate exchange', [('EX_mal__L_e', 'L-Malate exchange')]),\n",
       " ('y001553',\n",
       "  '1-(sn-glycero-3-phospho)-1D-myo-inositol exchange',\n",
       "  [('EX_g3pi_e', 'Sn-Glycero-3-phospho-1-inositol exchange')]),\n",
       " ('y001566',\n",
       "  \"2'-deoxyuridine exchange\",\n",
       "  [('EX_duri_e', 'Deoxyuridine exchange')]),\n",
       " ('y001567',\n",
       "  '2-dehydro-3-deoxy-D-arabino-heptonate7-phohsphate transport',\n",
       "  [('2DDA7Ptm',\n",
       "    '2 Dehydro 3 deoxy D arabino heptonate7 phohsphate mitochondrial transport via diffusion')]),\n",
       " ('y001568',\n",
       "  '2-dehydropantoate transport',\n",
       "  [('2DHPtm', '2 Dehydropantoate mitochondrial transport')]),\n",
       " ('y001575',\n",
       "  '2-methyl-1-butanol transport',\n",
       "  [('2MBTOHt', '2 methyl 1 butanol transport  extracellular ')]),\n",
       " ('y001576',\n",
       "  '2-methyl-1-butanol transport',\n",
       "  [('2MBTOHtm', '2 methyl 1 butanol transport  mitochondrial ')]),\n",
       " ('y001577',\n",
       "  '2-methylbutanal exchange',\n",
       "  [('EX_2mbald_e', '2 methylbutyraldehyde exchange')]),\n",
       " ('y001578',\n",
       "  '2-methylbutanal transport',\n",
       "  [('2MBALDt', '2 Methylbutanal transport  extracellular ')]),\n",
       " ('y001579',\n",
       "  '2-methylbutanal transport',\n",
       "  [('2MBALDtm', '2 Methylbutanal transport  mitochondrial ')]),\n",
       " ('y001580',\n",
       "  '2-methylbutanol exchange',\n",
       "  [('EX_2mbtoh_e', '2 methyl 1 butanol exchange')]),\n",
       " ('y001582',\n",
       "  '2-methylpropanal transport',\n",
       "  [('2MPPALt', '2 methylpropanal transport  extracellular ')]),\n",
       " ('y001583',\n",
       "  '2-methylpropanal transport',\n",
       "  [('2MPPALtm', '2 methylpropanal transport  mitochondrial ')]),\n",
       " ('y001585',\n",
       "  '2-oxobutanoate transporter',\n",
       "  [('2OBUTtm', '2obut transporter  mitochondrial ')]),\n",
       " ('y001586',\n",
       "  '2-oxoglutarate exchange',\n",
       "  [('EX_akg_e', '2-Oxoglutarate exchange')]),\n",
       " ('y001589',\n",
       "  '2-phenylethanol exchange',\n",
       "  [('EX_2phetoh_e', '2 phenylethanol exchange')]),\n",
       " ('y001590',\n",
       "  '2-phenylethanol transport',\n",
       "  [('2PHETOHt', '2 phenylethanol reversible transport')]),\n",
       " ('y001591',\n",
       "  '2-phenylethanol transport',\n",
       "  [('2PHETOHtm', '2 phenylethanol reversible transport  mitochondrial')]),\n",
       " ('y001595',\n",
       "  '3-carboxy-4-methyl-2-oxopentanoate transport',\n",
       "  [('3C4MOPtm',\n",
       "    '3 Carboxy 4 methyl 2 oxopentanoate transport  diffusion  mitochondrial')]),\n",
       " ('y001596',\n",
       "  '3-methyl-2-oxopentanoate transport',\n",
       "  [('3MOPtm',\n",
       "    '3 Methyl 2 oxopentanoate transport  diffusion  mitochondrial')]),\n",
       " ('y001598',\n",
       "  '3-methylbutanal exchange',\n",
       "  [('EX_3mbald_e', '3 Methylbutanal exchange')]),\n",
       " ('y001599',\n",
       "  '3-methylbutanal transport',\n",
       "  [('3MBALDt', '3 methylbutanal transport  extracellular ')]),\n",
       " ('y001600',\n",
       "  '3-methylbutanal transport',\n",
       "  [('3MBALDtm', '3 methylbutanal transport  mitochondrial ')]),\n",
       " ('y001601',\n",
       "  '3-octaprenyl-4-hydroxybenzoate transport',\n",
       "  [('3OPHB_5tm', '3 Octaprenyl 4 hydroxybenzoate mitochondrial transport')]),\n",
       " ('y001604',\n",
       "  '4-aminobenzoate exchange',\n",
       "  [('EX_4abz_e', '4 Aminobenzoate exchange')]),\n",
       " ('y001605',\n",
       "  '4-aminobenzoate transport',\n",
       "  [('4ABZt', '4 Aminobenzoate mitochondrial transport via diffusion')]),\n",
       " ('y001606',\n",
       "  '4-aminobenzoate transport',\n",
       "  [('4ABZtm', '4 Aminobenzoate mitochondrial transport via diffusion')]),\n",
       " ('y001607',\n",
       "  '4-aminobutanal transport',\n",
       "  [('4ABUTNtm', '4 aminobutanal mitochondrial transport via diffusion')]),\n",
       " ('y001608',\n",
       "  '4-aminobutyrate transport',\n",
       "  [('4ABUTtm', '4 aminobutanoate mitochondrial transport via diffusion')]),\n",
       " ('y001609',\n",
       "  '4-hydroxy-2-oxoglutarate transport',\n",
       "  [('4H2OGLTtm',\n",
       "    '4 hydroxy 2 oxoglutarate mitochondrial transport via diffusion')]),\n",
       " ('y001611',\n",
       "  '4-hydroxybenzoate transport',\n",
       "  [('4HBZtm', '4 Hydroxybenzoate mitochondrial transport')]),\n",
       " ('GMP5N', \"5'-nucleotidase (GMP)\", [('NTD9', \"5'-nucleotidase (GMP)\")]),\n",
       " ('y001621',\n",
       "  '5-aminolevulinate exchange',\n",
       "  [('EX_5aop_e', '5 Amino 4 oxopentanoate exchange')]),\n",
       " ('y001622',\n",
       "  '5-aminolevulinate transport',\n",
       "  [('5AOPtm', '5 Aminolevulinate mitochondrial transport')]),\n",
       " ('y001627',\n",
       "  '7,8-diaminononanoate exchange',\n",
       "  [('EX_dann_e', '7 8 Diaminononanoate exchange')]),\n",
       " ('y001629',\n",
       "  '8-amino-7-oxononanoate exchange',\n",
       "  [('EX_8aonn_e', '8 Amino 7 oxononanoate exchange')]),\n",
       " ('y001630', '9H-xanthine exchange', [('EX_xan_e', 'Xanthine exchange')]),\n",
       " ('y001631',\n",
       "  'acetaldehyde exchange',\n",
       "  [('EX_acald_e', 'Acetaldehyde exchange')]),\n",
       " ('y001632',\n",
       "  'acetaldehyde transport',\n",
       "  [('ACALDtm', 'Acetaldehyde mitochondrial diffusion')]),\n",
       " ('y001633',\n",
       "  'acetaldehyde transport',\n",
       "  [('ACALDt', 'Acetaldehyde reversible transport')]),\n",
       " ('y001634', 'acetate exchange', [('EX_ac_e', 'Acetate exchange')]),\n",
       " ('y001637',\n",
       "  'acetyl-CoA transport',\n",
       "  [('ACCOAtn', 'Acetyl CoA transport  nuclear')]),\n",
       " ('y001639', 'adenine exchange', [('EX_ade_e', 'Adenine exchange')]),\n",
       " ('y001640',\n",
       "  'adenine transport',\n",
       "  [('ADEtm', 'Adenine reversible transport  mitochondria')]),\n",
       " ('y001641',\n",
       "  \"adenosine 3',5'-bismonophosphate exchange\",\n",
       "  [('EX_pap_e', 'Adenosine 3  5  bisphosphate exchange')]),\n",
       " ('y001643', 'adenosine exchange', [('EX_adn_e', 'Adenosine exchange')]),\n",
       " ('y001648', 'allantoate exchange', [('EX_alltt_e', 'Allantoate exchange')]),\n",
       " ('y001649', 'allantoin exchange', [('EX_alltn_e', 'Allantoin exchange')]),\n",
       " ('y001650',\n",
       "  'alpha,alpha-trehalose exchange',\n",
       "  [('EX_tre_e', 'Trehalose exchange')]),\n",
       " ('y001651',\n",
       "  'alpha-D-glucosamine 6-phosphate exchange',\n",
       "  [('EX_gam6p_e', 'D-Glucosamine 6-phosphate exchange')]),\n",
       " ('y001652',\n",
       "  'alpha-ketoglutarate/malate transporter',\n",
       "  [('AKGMAL', 'Alpha ketoglutaratemalate transporter')]),\n",
       " ('y001656',\n",
       "  'AMP transport',\n",
       "  [('AMPtn', 'AMP transport via diffusion  cytosol to nucleus ')]),\n",
       " ('y001657',\n",
       "  'arginine transport',\n",
       "  [('ARGt2m', 'Arginine mitochondrial transport via proton symport')]),\n",
       " ('y001664',\n",
       "  'bicarbonate formation',\n",
       "  [('HCO3Em', 'HCO3 equilibration reaction')]),\n",
       " ('y001665',\n",
       "  'bicarbonate formation',\n",
       "  [('HCO3En', 'HCO3 equilibrium reaction  nuclear')]),\n",
       " ('HCO3E',\n",
       "  'bicarbonate formation',\n",
       "  [('HCO3E', 'HCO3 equilibration reaction')]),\n",
       " ('y001669',\n",
       "  'bicarbonate transport',\n",
       "  [('HCO3tn', 'Bicarbonate nuclear transport via diffusion')]),\n",
       " ('y001671', 'biotin exchange', [('EX_btn_e', 'Biotin exchange')]),\n",
       " ('y001672', 'carbon dioxide exchange', [('EX_co2_e', 'CO2 exchange')]),\n",
       " ('y001675', 'CDP transport', [('CDPtn', 'CDP nuclear transport')]),\n",
       " ('y001683', 'choline exchange', [('EX_chol_e', 'Choline exchange')]),\n",
       " ('y001687', 'citrate(3-) exchange', [('EX_cit_e', 'Citrate exchange')]),\n",
       " ('y001694',\n",
       "  'CO2 transport',\n",
       "  [('CO2tn', 'CO2 nuclear transport via diffusion')]),\n",
       " ('y001696',\n",
       "  'CO2 transport',\n",
       "  [('CO2tm', 'CO2 transport  diffusion   mitochondrial')]),\n",
       " ('y001699',\n",
       "  'coenzyme A transport',\n",
       "  [('COAtn', 'Coenzyme A transport  nuclear')]),\n",
       " ('y001702', 'cytidine exchange', [('EX_cytd_e', 'Cytidine exchange')]),\n",
       " ('CYTK1', 'cytidylate kinase (CMP)', [('CYTK1', 'Cytidylate kinase (CMP)')]),\n",
       " ('CYTK2',\n",
       "  'cytidylate kinase (dCMP)',\n",
       "  [('CYTK2', 'Cytidylate kinase (dCMP)')]),\n",
       " ('y001705', 'cytosine exchange', [('EX_csn_e', 'Cytosine exchange')]),\n",
       " ('y001706',\n",
       "  'D-arabinose exchange',\n",
       "  [('EX_arab__D_e', 'D Arabinose exchange')]),\n",
       " ('y001707',\n",
       "  'D-arabinose transport',\n",
       "  [('ARAB_Dt', 'D arabinose reversible transport')]),\n",
       " ('y001708',\n",
       "  'D-erythrose 4-phosphate transport',\n",
       "  [('E4Ptm',\n",
       "    'D erythrose 4 phosphate mtiochondrial transport via diffusion')]),\n",
       " ('y001709', 'D-fructose exchange', [('EX_fru_e', 'D-Fructose exchange')]),\n",
       " ('y001710', 'D-galactose exchange', [('EX_gal_e', 'D-Galactose exchange')]),\n",
       " ('y001712', 'D-glucitol exchange', [('EX_sbt__D_e', 'D-Sorbitol exchange')]),\n",
       " ('y001714', 'D-glucose exchange', [('EX_glc__D_e', 'D-Glucose exchange')]),\n",
       " ('y001715', 'D-mannose exchange', [('EX_man_e', 'D-Mannose exchange')]),\n",
       " ('y001716', 'D-ribose exchange', [('EX_rib__D_e', 'D-Ribose exchange')]),\n",
       " ('y001717',\n",
       "  'D-sorbitol transport',\n",
       "  [('SBT_Dt', 'D sorbitol transport via passive diffusion')]),\n",
       " ('y001718', 'D-xylose exchange', [('EX_xyl__D_e', 'D-Xylose exchange')]),\n",
       " ('y001719',\n",
       "  'D-xylose transport',\n",
       "  [('XYLt', 'D xylose reversible transport')]),\n",
       " ('y001720', 'dADP transport', [('DADPtn', 'DADP nuclear transport')]),\n",
       " ('y001721', 'dCDP transport', [('DCDPtn', 'DCDP nuclear transport')]),\n",
       " ('y001727',\n",
       "  'decanoate exchange',\n",
       "  [('EX_dca_e', 'Decanoate (n-C10:0) exchange')]),\n",
       " ('ATDAMh', 'deoxyadenylate kinase', [('DADK', 'Deoxyadenylate kinase')]),\n",
       " ('y001730',\n",
       "  'deoxycytidine exchange',\n",
       "  [('EX_dcyt_e', 'Deoxycytidine exchange')]),\n",
       " ('y001737', 'dGDP transport', [('DGDPtn', 'DGDP nuclear transport')]),\n",
       " ('y001743',\n",
       "  'dihydrofolate transport',\n",
       "  [('DHFtm', 'Dihydrofolate reversible mitochondrial transport')]),\n",
       " ('y001745',\n",
       "  'dihydropteroate transport',\n",
       "  [('DHPTtm', 'Dihydropteroate mitochondrial transport via diffusion')]),\n",
       " ('y001746',\n",
       "  'dihydroxyacetone phosphate transport',\n",
       "  [('DHAPtm', 'Dihydroxyacetone phosphate transport  mitochondrial')]),\n",
       " ('y001749', 'dTTP exchange', [('EX_dttp_e', 'DTTP exchange')]),\n",
       " ('y001752', 'dUMP transport', [('DUMPtn', 'DUMP nuclear transport')]),\n",
       " ('y001753', 'episterol exchange', [('EX_epist_e', 'Episterol exchange')]),\n",
       " ('y001757', 'ergosterol exchange', [('EX_ergst_e', 'Ergosterol exchange')]),\n",
       " ('y001761', 'ethanol exchange', [('EX_etoh_e', 'Ethanol exchange')]),\n",
       " ('y001763',\n",
       "  'ethanol transport, mitochondrial',\n",
       "  [('ETOHtm', 'Ethanol transport to mitochondria  diffusion ')]),\n",
       " ('y001764',\n",
       "  'ethanolamine exchange',\n",
       "  [('EX_etha_e', 'Ethanolamine exchange')]),\n",
       " ('y001766',\n",
       "  'farnesyl diphosphate transport',\n",
       "  [('FRDPtm', 'Farnesyl diphosphate transport  mitochondrial ')]),\n",
       " ('y001788', 'fecosterol exchange', [('EX_fecost_e', 'Fecosterol exchange')]),\n",
       " ('y001791', 'FMN exchange', [('EX_fmn_e', 'FMN exchange')]),\n",
       " ('y001793', 'formate exchange', [('EX_for_e', 'Formate exchange')]),\n",
       " ('y001794',\n",
       "  'formate transport',\n",
       "  [('FORtm', 'Formate mitochondrial transport')]),\n",
       " ('y001795',\n",
       "  'formate transport',\n",
       "  [('FORt', 'Formate transport via diffusion')]),\n",
       " ('y001798', 'fumarate(2-) exchange', [('EX_fum_e', 'Fumarate exchange')]),\n",
       " ('y001800',\n",
       "  'gamma-aminobutyrate exchange',\n",
       "  [('EX_4abut_e', '4-Aminobutanoate exchange')]),\n",
       " ('y001802', 'GDP transport', [('GDPtn', 'GDP nuclear transport')]),\n",
       " ('y001805',\n",
       "  'glucose transport, vacuolar',\n",
       "  [('GLCtv', 'Glucose transport  vacuolar')]),\n",
       " ('y001806',\n",
       "  'glutathione disulfide exchange',\n",
       "  [('EX_gthox_e', 'Oxidized glutathione exchange')]),\n",
       " ('y001807',\n",
       "  'glutathione exchange',\n",
       "  [('EX_gthrd_e', 'Reduced glutathione exchange')]),\n",
       " ('y001808', 'glycerol exchange', [('EX_glyc_e', 'Glycerol exchange')]),\n",
       " ('y001809',\n",
       "  'glycerol-3-phosphate shuttle',\n",
       "  [('GLYC3Ptm', 'Glycerol 3 phosphate shuttle')]),\n",
       " ('y001810', 'glycine exchange', [('EX_gly_e', 'Glycine exchange')]),\n",
       " ('y001812',\n",
       "  'glycoaldehyde transport',\n",
       "  [('GCALDtm', 'Glycoaldehyde mitochondrial transport')]),\n",
       " ('y001813',\n",
       "  'glycoaldehyde transport',\n",
       "  [('GCALDt', 'Glycoaldehydye reversible transport')]),\n",
       " ('y001814',\n",
       "  'glycolaldehyde exchange',\n",
       "  [('EX_gcald_e', 'Glycolaldehyde exchange')]),\n",
       " ('y001815', 'glyoxylate exchange', [('EX_glx_e', 'Glyoxylate exchange')]),\n",
       " ('y001816', 'glyoxylate transport', [('GLXt', 'Glyoxylate transport')]),\n",
       " ('y001818', 'guanine exchange', [('EX_gua_e', 'Guanine exchange')]),\n",
       " ('y001819',\n",
       "  'guanine transport',\n",
       "  [('GUAtm', 'Guanine mitochondrial transport via diffusion')]),\n",
       " ('y001820', 'guanosine exchange', [('EX_gsn_e', 'Guanosine exchange')]),\n",
       " ('y001832', 'H+ exchange', [('EX_h_e', 'H+ exchange')]),\n",
       " ('y001835',\n",
       "  'hexadecanoate (n-C16:0) transport',\n",
       "  [('HDCAt', 'Hexadecanoate  n C160  transport in via uniport')]),\n",
       " ('y001839',\n",
       "  'hydrogen peroxide transport',\n",
       "  [('H2O2tn', 'Hydrogen peroxide nuclear transport')]),\n",
       " ('y001840',\n",
       "  'hydroxymethylglutaryl-CoA transport',\n",
       "  [('HMGCOAtm',\n",
       "    'Hydroxymethylglutaryl CoA reversible mitochondrial transport')]),\n",
       " ('y001841',\n",
       "  'hypoxanthine exchange',\n",
       "  [('EX_hxan_e', 'Hypoxanthine exchange')]),\n",
       " ('y001843',\n",
       "  'indol-3-ylacetaldehyde exchange',\n",
       "  [('EX_id3acald_e', 'Indole 3 acetaldehyde exchange')]),\n",
       " ('y001844',\n",
       "  'indole-3-acetaldehyde transport',\n",
       "  [('ID3ACALDtm',\n",
       "    'Indole 3 acetaldehyde mitochondrial transport via diffusion')]),\n",
       " ('y001845',\n",
       "  'indole-3-acetaldehyde transport',\n",
       "  [('ID3ACALDt', 'Indoleacetaldehyde transport  extracellular ')]),\n",
       " ('y001846',\n",
       "  'indole-3-acetate transport',\n",
       "  [('IND3ACtm', 'Indole 3 acetate mitochondrial transport via diffusion')]),\n",
       " ('y001847', 'inosine exchange', [('EX_ins_e', 'Inosine exchange')]),\n",
       " ('y001861', 'iron(2+) exchange', [('EX_fe2_e', 'Fe2+ exchange')]),\n",
       " ('y001862',\n",
       "  'isoamyl acetate exchange',\n",
       "  [('EX_iamac_e', 'Isoamyl acetate exchange')]),\n",
       " ('y001863',\n",
       "  'isoamyl alcohol transport',\n",
       "  [('IAMOHt', 'Isoamyl alcohol transport  extracellular ')]),\n",
       " ('y001864',\n",
       "  'isoamyl alcohol transport',\n",
       "  [('IAMOHtm', 'Isoamyl alcohol transport  mitochondrial ')]),\n",
       " ('y001865',\n",
       "  'isoamylol exchange',\n",
       "  [('EX_iamoh_e', 'Isoamyl alcohol exchange')]),\n",
       " ('y001866',\n",
       "  'isobutanol exchange',\n",
       "  [('EX_ibutoh_e', 'Isobutyl alcohol exchange')]),\n",
       " ('y001867',\n",
       "  'isobutyl acetate exchange',\n",
       "  [('EX_ibutac_e', 'Isobutyl acetate exchange')]),\n",
       " ('y001868',\n",
       "  'isobutyl alcohol transport',\n",
       "  [('IBUTOHt', 'Isobutyl alcohol transport  extracellular ')]),\n",
       " ('y001869',\n",
       "  'isobutyl alcohol transport',\n",
       "  [('IBUTOHtm', 'Isobutyl alcohol transport  mitochondrial ')]),\n",
       " ('y001870',\n",
       "  'isobutyraldehyde exchange',\n",
       "  [('EX_2mppal_e', '2 methylpropanal exchange')]),\n",
       " ('y001873', 'L-alanine exchange', [('EX_ala__L_e', 'L-Alanine exchange')]),\n",
       " ('y001874',\n",
       "  'L-alanine transport',\n",
       "  [('ALAtmi', 'Alanine transport from mitochondia to cytoplasm')]),\n",
       " ('y001875', 'L-arabinitol exchange', [('EX_abt_e', 'L Arabinitol exchange')]),\n",
       " ('y001876',\n",
       "  'L-arabinitol transport',\n",
       "  [('ABTt', 'L arabinitol transport via passive diffusion')]),\n",
       " ('y001877',\n",
       "  'L-arabinoase transport',\n",
       "  [('ARAB_Lt', 'L arabinoase extracellular transport')]),\n",
       " ('y001878',\n",
       "  'L-arabinose exchange',\n",
       "  [('EX_arab__L_e', 'L-Arabinose exchange')]),\n",
       " ('y001879', 'L-arginine exchange', [('EX_arg__L_e', 'L-Arginine exchange')]),\n",
       " ('y001880',\n",
       "  'L-asparagine exchange',\n",
       "  [('EX_asn__L_e', 'L-Asparagine exchange')]),\n",
       " ('y001882',\n",
       "  'L-carnitine transport',\n",
       "  [('CRNtim', 'L carnitine transport out of mitochondria via diffusion')]),\n",
       " ('y001883', 'L-cysteine exchange', [('EX_cys__L_e', 'L-Cysteine exchange')]),\n",
       " ('y001884',\n",
       "  'L-erythro-4-hydroxyglutamate transport',\n",
       "  [('E4HGLUtm',\n",
       "    'L erythro 4 hydroxyglutamate mitochondrial transport via diffusion')]),\n",
       " ('y001886', 'L-glucitol exchange', [('EX_sbt__L_e', 'L Sorbitol exchange')]),\n",
       " ('G5SADrm',\n",
       "  'L-glutamate 5-semialdehyde dehydratase',\n",
       "  [('G5SADs', 'L-glutamate 5-semialdehyde dehydratase (spontaneous)')]),\n",
       " ('y001889',\n",
       "  'L-glutamate exchange',\n",
       "  [('EX_glu__L_e', 'L-Glutamate exchange')]),\n",
       " ('y001891',\n",
       "  'L-glutamine exchange',\n",
       "  [('EX_gln__L_e', 'L-Glutamine exchange')]),\n",
       " ('y001893',\n",
       "  'L-histidine exchange',\n",
       "  [('EX_his__L_e', 'L-Histidine exchange')]),\n",
       " ('y001897',\n",
       "  'L-isoleucine exchange',\n",
       "  [('EX_ile__L_e', 'L-Isoleucine exchange')]),\n",
       " ('y001898',\n",
       "  'L-isoleucine transport',\n",
       "  [('ILEtmi', 'Isoleucine transport from mitochondria to cytosol')]),\n",
       " ('y001899', 'L-leucine exchange', [('EX_leu__L_e', 'L-Leucine exchange')]),\n",
       " ('y001900', 'L-lysine exchange', [('EX_lys__L_e', 'L-Lysine exchange')]),\n",
       " ('y001902',\n",
       "  'L-methionine exchange',\n",
       "  [('EX_met__L_e', 'L-Methionine exchange')]),\n",
       " ('y001903',\n",
       "  'L-phenylalanine exchange',\n",
       "  [('EX_phe__L_e', 'L-Phenylalanine exchange')]),\n",
       " ('y001904', 'L-proline exchange', [('EX_pro__L_e', 'L-Proline exchange')]),\n",
       " ('y001905',\n",
       "  'L-proline transport',\n",
       "  [('PROtm', 'L proline transport  mitochondrial')]),\n",
       " ('y001906', 'L-serine exchange', [('EX_ser__L_e', 'L-Serine exchange')]),\n",
       " ('y001908',\n",
       "  'L-sorbitol transport',\n",
       "  [('SBT_Lt', 'L sorbitol transport via passive diffusion')]),\n",
       " ('y001909', 'L-sorbose exchange', [('EX_srb__L_e', 'L Sorbose exchange')]),\n",
       " ('y001910',\n",
       "  'L-sorbose transport',\n",
       "  [('SRB_Lt', 'L sorbose reversible transport')]),\n",
       " ('y001911',\n",
       "  'L-threonine exchange',\n",
       "  [('EX_thr__L_e', 'L-Threonine exchange')]),\n",
       " ('y001912',\n",
       "  'L-tryptophan exchange',\n",
       "  [('EX_trp__L_e', 'L-Tryptophan exchange')]),\n",
       " ('y001913', 'L-tyrosine exchange', [('EX_tyr__L_e', 'L-Tyrosine exchange')]),\n",
       " ('y001914', 'L-valine exchange', [('EX_val__L_e', 'L-Valine exchange')]),\n",
       " ('y001915', 'lanosterol exchange', [('EX_lanost_e', 'Lanosterol exchange')]),\n",
       " ('y001916',\n",
       "  'laurate exchange',\n",
       "  [('EX_ddca_e', 'Dodecanoate (n-C12:0) exchange')]),\n",
       " ('y001931', 'maltose exchange', [('EX_malt_e', 'Maltose exchange')]),\n",
       " ('y001947',\n",
       "  'myo-inositol exchange',\n",
       "  [('EX_inost_e', 'Myo-Inositol exchange')]),\n",
       " ('y001967', 'nicotinate exchange', [('EX_nac_e', 'Nicotinate exchange')]),\n",
       " ('y001968', 'NMN exchange', [('EX_nmn_e', 'NMN exchange')]),\n",
       " ('y001976',\n",
       "  'O-acetylcarnintine transport into mitochondria',\n",
       "  [('ACRNtm',\n",
       "    'O acetylcarnintine transport into mitochondria via diffusion')]),\n",
       " ('y001978', 'O2 transport', [('O2tm', 'O2 transport  diffusion ')]),\n",
       " ('y001979', 'O2 transport', [('O2t', 'O2 transport  diffusion ')]),\n",
       " ('y001981',\n",
       "  'octadecanoate (n-C18:0) transport',\n",
       "  [('OCDCAt', 'Octadecanoate  n C180  transport in via uniport')]),\n",
       " ('y001987', 'ornithine exchange', [('EX_orn_e', 'Ornithine exchange')]),\n",
       " ('y001988', 'oxaloacetate transport', [('OAAt', 'Oxaloacetate transport')]),\n",
       " ('y001989',\n",
       "  'oxaloacetate(2-) exchange',\n",
       "  [('EX_oaa_e', 'Oxaloacetate exchange')]),\n",
       " ('y001992', 'oxygen exchange', [('EX_o2_e', 'O2 exchange')]),\n",
       " ('y001993',\n",
       "  'palmitate exchange',\n",
       "  [('EX_hdca_e', 'Hexadecanoate (n-C16:0) exchange')]),\n",
       " ('y001996',\n",
       "  \"panthetheine 4'-phosphate transport\",\n",
       "  [('PAN4Ptm',\n",
       "    'Panthetheine 4  phosphate reversible mitochondrial transport')]),\n",
       " ('y002001',\n",
       "  'phenylacetaldehyde exchange',\n",
       "  [('EX_pacald_e', 'Phenylacetaldehyde exchange')]),\n",
       " ('y002002',\n",
       "  'phenylacetaldehyde transport',\n",
       "  [('PACALDt', 'Phenylacetaldehyde transport  extracellular ')]),\n",
       " ('y002003',\n",
       "  'phenylacetaldehyde transport',\n",
       "  [('PACALDtm', 'Phenylacetaldehyde transport  mitochondrial ')]),\n",
       " ('y002005', 'phosphate exchange', [('EX_pi_e', 'Phosphate exchange')]),\n",
       " ('y002020', 'potassium exchange', [('EX_k_e', 'K+ exchange')]),\n",
       " ('y002022',\n",
       "  'protoporphyrinogen IX transport',\n",
       "  [('PPPG9tm', 'Protoporphyrinogen IX mitochondrial transport')]),\n",
       " ('y002023',\n",
       "  'PRPP transport',\n",
       "  [('PRPPtm', 'PRPP reversible transport  mitochondrial')]),\n",
       " ('y002024', 'putrescine exchange', [('EX_ptrc_e', 'Putrescine exchange')]),\n",
       " ('PYDXNK', 'pyridoxine kinase', [('PYDXNK', 'Pyridoxine kinase')]),\n",
       " ('y002033', 'pyruvate exchange', [('EX_pyr_e', 'Pyruvate exchange')]),\n",
       " ('y002034',\n",
       "  'pyruvate transport',\n",
       "  [('PYRt2m', 'Pyruvate mitochondrial transport via proton symport')]),\n",
       " ('y002036',\n",
       "  'quinolinate transport',\n",
       "  [('QULNtm', 'Quinolinate reversible mitochondrial transport')]),\n",
       " ('y002038', 'riboflavin exchange', [('EX_ribflv_e', 'Riboflavin exchange')]),\n",
       " ('y002039',\n",
       "  'riboflavin transport',\n",
       "  [('RIBFLVtm', 'Riboflavin reversible mitochondrial transport')]),\n",
       " ('y002042',\n",
       "  'S-adenosyl-L-homocysteine transport',\n",
       "  [('AHCYStm',\n",
       "    'S adenosyl L homocysteine reversible transport  mitochondrial')]),\n",
       " ('y002043',\n",
       "  'S-adenosyl-L-methionine exchange',\n",
       "  [('EX_amet_e', 'S Adenosyl L methionine exchange')]),\n",
       " ('y002044',\n",
       "  'S-methyl-L-methionine exchange',\n",
       "  [('EX_mmet_e', 'S-Methyl-L-methionine exchange')]),\n",
       " ('y002046',\n",
       "  'sn-glycero-3-phosphocholine exchange',\n",
       "  [('EX_g3pc_e', 'Sn-Glycero-3-phosphocholine exchange')]),\n",
       " ('y002049', 'sodium exchange', [('EX_na1_e', 'Sodium exchange')]),\n",
       " ('y002051', 'spermidine exchange', [('EX_spmd_e', 'Spermidine exchange')]),\n",
       " ('y002052', 'spermine exchange', [('EX_sprm_e', 'Spermine exchange')]),\n",
       " ('y002055',\n",
       "  'stearate exchange',\n",
       "  [('EX_ocdca_e', 'Octadecanoate (n-C18:0) exchange')]),\n",
       " ('y002056', 'succinate exchange', [('EX_succ_e', 'Succinate exchange')]),\n",
       " ('y002058', 'sucrose exchange', [('EX_sucr_e', 'Sucrose exchange')]),\n",
       " ('y002060', 'sulphate exchange', [('EX_so4_e', 'Sulfate exchange')]),\n",
       " ('y002061', 'sulphite exchange', [('EX_so3_e', 'Sulfite exchange')]),\n",
       " ('y002062', 'taurine exchange', [('EX_taur_e', 'Taurine exchange')]),\n",
       " ('y002066',\n",
       "  'thiamine(1+) diphosphate(1-) exchange',\n",
       "  [('EX_thmpp_e', 'Thiamine diphosphate exchange')]),\n",
       " ('y002067', 'thiamine(1+) exchange', [('EX_thm_e', 'Thiamin exchange')]),\n",
       " ('y002068',\n",
       "  'thiamine(1+) monophosphate exchange',\n",
       "  [('EX_thmmp_e', 'Thiamin monophosphate exchange')]),\n",
       " ('y002073', 'thymidine exchange', [('EX_thymd_e', 'Thymidine exchange')]),\n",
       " ('y002083',\n",
       "  'tryptophol exchange',\n",
       "  [('EX_ind3eth_e', 'Indole 3 ethanol exchange')]),\n",
       " ('y002084',\n",
       "  'tryptophol transport',\n",
       "  [('IND3ETHt', 'Tryptophol transport  extracellular')]),\n",
       " ('y002085',\n",
       "  'tryptophol transport',\n",
       "  [('IND3ETHtm', 'Tryptophol transport  mitochondrial ')]),\n",
       " ('y002089', 'UMP transport', [('UMPtn', 'UMP nuclear transport')]),\n",
       " ('y002090', 'uracil exchange', [('EX_ura_e', 'Uracil exchange')]),\n",
       " ('y002091', 'urea exchange', [('EX_urea_e', 'Urea exchange')]),\n",
       " ('y002092', 'uridine exchange', [('EX_uri_e', 'Uridine exchange')]),\n",
       " ('y002096', 'water diffusion', [('H2Otm', 'H2O transport  mitochondrial')]),\n",
       " ('y002099', 'water diffusion', [('H2Otv', 'H2O transport  vacuolar')]),\n",
       " ('y002100', 'water exchange', [('EX_h2o_e', 'H2O exchange')]),\n",
       " ('y002101',\n",
       "  'xanthine transport',\n",
       "  [('XANt', 'Xanthine reversible transport')]),\n",
       " ('y002102', 'xanthosine exchange', [('EX_xtsn_e', 'Xanthosine exchange')]),\n",
       " ('y002104', 'xylitol exchange', [('EX_xylt_e', 'Xylitol exchange')]),\n",
       " ('y002105',\n",
       "  'xylitol transport',\n",
       "  [('XYLTt', 'Xylitol transport via passive diffusion')]),\n",
       " ('y002106', 'zymosterol exchange', [('EX_zymst_e', 'Zymosterol exchange')]),\n",
       " ('y002115',\n",
       "  'alcohol dehydrogenase, (acetaldehyde to ethanol)',\n",
       "  [('ALCD2ir',\n",
       "    'Alcohol dehydrogenase  reverse rxn  acetaldehyde   ethanol ')]),\n",
       " ('y002131',\n",
       "  'isocitrate dehydrogenase',\n",
       "  [('ICDHym', 'Isocitrate dehydrogenase  NADP ')]),\n",
       " ('y002189',\n",
       "  'oleate exchange',\n",
       "  [('EX_ocdcea_e', 'Octadecenoate (n-C18:1) exchange')]),\n",
       " ('y002192',\n",
       "  'octadecenoate (n-C18:1) transport',\n",
       "  [('OCDCEAt', 'Octadecenoate  n C181  transport in via uniport')])]"
      ]
     },
     "execution_count": 97,
     "metadata": {},
     "output_type": "execute_result"
    }
   ],
   "source": [
    "suggested_rxn_mappings"
   ]
  },
  {
   "cell_type": "code",
   "execution_count": 98,
   "metadata": {},
   "outputs": [],
   "source": [
    "pattern = re.compile('y[0-9]+')"
   ]
  },
  {
   "cell_type": "code",
   "execution_count": 99,
   "metadata": {},
   "outputs": [],
   "source": [
    "ambiguous_mapping = []\n",
    "duplicate_mapping = []\n",
    "for mapping in suggested_rxn_mappings:\n",
    "    if len(mapping[2]) != 1:\n",
    "        ambiguous_mapping.append(mapping)\n",
    "    else:\n",
    "        yali_rxn = yali.reactions.get_by_id(mapping[0])\n",
    "        imm904_rxn = iMM904.reactions.get_by_id(mapping[2][0][0])\n",
    "        yali_rxn.annotation.setdefault('bigg.reaction', imm904_rxn.annotation['bigg.reaction'])\n",
    "        yali_rxn.annotation['bigg.reaction'] = imm904_rxn.annotation['bigg.reaction']\n",
    "        if re.findall(pattern, yali_rxn.id):\n",
    "            yali_rxn.annotation[\"standard.metabolite\"] = yali_rxn.id\n",
    "        try: \n",
    "            yali_rxn.id = yali_rxn.annotation[\"bigg.reaction\"]\n",
    "            yali.repair()\n",
    "        except ValueError:\n",
    "            duplicate_mapping.append(yali_rxn)"
   ]
  },
  {
   "cell_type": "code",
   "execution_count": 100,
   "metadata": {},
   "outputs": [
    {
     "data": {
      "text/plain": [
       "1033"
      ]
     },
     "execution_count": 100,
     "metadata": {},
     "output_type": "execute_result"
    }
   ],
   "source": [
    "pattern = re.compile('y[0-9]+')\n",
    "unmapped_rxns = [rxn for rxn in yali.reactions if re.findall(pattern, rxn.id)]\n",
    "len(unmapped_rxns)"
   ]
  },
  {
   "cell_type": "code",
   "execution_count": 117,
   "metadata": {},
   "outputs": [],
   "source": [
    "from cobra.io import save_yaml_model, write_sbml_model, save_json_model"
   ]
  },
  {
   "cell_type": "code",
   "execution_count": 116,
   "metadata": {},
   "outputs": [],
   "source": [
    "# write_sbml_model(yali, \"../iYali-test.xml\")\n",
    "# save_json_model(yali, \"../iYali-test.json\")"
   ]
  },
  {
   "cell_type": "code",
   "execution_count": 119,
   "metadata": {},
   "outputs": [],
   "source": [
    "write_sbml_model(yali, \"../ModelFiles/xml/iYali.xml\")\n",
    "save_yaml_model(yali, \"../ModelFiles/yml/iYali.yml\", sort=True)"
   ]
  },
  {
   "cell_type": "code",
   "execution_count": null,
   "metadata": {},
   "outputs": [],
   "source": []
  }
 ],
 "metadata": {
  "kernelspec": {
   "display_name": "Cobra Debug",
   "language": "python",
   "name": "cobra-debug"
  },
  "language_info": {
   "codemirror_mode": {
    "name": "ipython",
    "version": 3
   },
   "file_extension": ".py",
   "mimetype": "text/x-python",
   "name": "python",
   "nbconvert_exporter": "python",
   "pygments_lexer": "ipython3",
   "version": "3.6.8"
  }
 },
 "nbformat": 4,
 "nbformat_minor": 2
}
