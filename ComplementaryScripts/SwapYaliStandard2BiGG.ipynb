{
 "cells": [
  {
   "cell_type": "markdown",
   "metadata": {},
   "source": [
    "# Swap namespaces from Yali-Standard to BiGG"
   ]
  },
  {
   "cell_type": "code",
   "execution_count": 1,
   "metadata": {},
   "outputs": [],
   "source": [
    "from cobra.io import read_sbml_model\n",
    "from six import string_types"
   ]
  },
  {
   "cell_type": "code",
   "execution_count": 5,
   "metadata": {},
   "outputs": [],
   "source": [
    "yali = read_sbml_model(\"../ModelFiles/xml/iYali.xml\")"
   ]
  },
  {
   "cell_type": "markdown",
   "metadata": {},
   "source": [
    "## Metabolites"
   ]
  },
  {
   "cell_type": "code",
   "execution_count": 3,
   "metadata": {},
   "outputs": [],
   "source": [
    "ambiguous_mets = []\n",
    "duplicate_mapping = []\n",
    "\n",
    "for met in yali.metabolites:\n",
    "    if \"bigg.metabolite\" in met.annotation and isinstance(met.annotation[\"bigg.metabolite\"], string_types):\n",
    "        met.annotation[\"standard.metabolite\"] = met.id\n",
    "        try: \n",
    "            met.id = met.annotation[\"bigg.metabolite\"] + \"_\" + met.compartment\n",
    "            yali.repair()\n",
    "        except ValueError:\n",
    "            duplicate_mapping.append(met)\n",
    "    elif \"bigg.metabolite\" in met.annotation and not isinstance(met.annotation[\"bigg.metabolite\"], string_types):\n",
    "        ambiguous_mets.append(met)\n",
    "    # We ignore all mets that we can't map to BiGG.\n",
    "    else:\n",
    "        pass"
   ]
  },
  {
   "cell_type": "code",
   "execution_count": 4,
   "metadata": {},
   "outputs": [
    {
     "data": {
      "text/plain": [
       "[]"
      ]
     },
     "execution_count": 4,
     "metadata": {},
     "output_type": "execute_result"
    }
   ],
   "source": [
    "ambiguous_mets"
   ]
  },
  {
   "cell_type": "code",
   "execution_count": 5,
   "metadata": {},
   "outputs": [
    {
     "data": {
      "text/plain": [
       "[<Metabolite s_0710 at 0x117c220f0>]"
      ]
     },
     "execution_count": 5,
     "metadata": {},
     "output_type": "execute_result"
    }
   ],
   "source": [
    "duplicate_mapping"
   ]
  },
  {
   "cell_type": "markdown",
   "metadata": {},
   "source": [
    "## Reactions"
   ]
  },
  {
   "cell_type": "code",
   "execution_count": 6,
   "metadata": {},
   "outputs": [],
   "source": [
    "import re\n",
    "pattern = re.compile(\"[a-z]+$\")"
   ]
  },
  {
   "cell_type": "code",
   "execution_count": 7,
   "metadata": {},
   "outputs": [],
   "source": [
    "duplicate_rxn_mapping = []\n",
    "for rxn in yali.reactions:\n",
    "    if \"bigg.reaction\" in rxn.annotation and isinstance(rxn.annotation[\"bigg.reaction\"], string_types):\n",
    "        rxn.annotation[\"standard.metabolite\"] = rxn.id\n",
    "        try: \n",
    "            first_compartment = list(rxn.compartments)[0]\n",
    "            # Simplified mapping that avoids all the trouble with the lower-case reaction suffixes\n",
    "            if len(rxn.compartments) == 1: \n",
    "                if first_compartment == 'c':\n",
    "                    rxn.id = rxn.annotation[\"bigg.reaction\"]\n",
    "                    yali.repair()\n",
    "                    continue\n",
    "        except ValueError:\n",
    "            duplicate_rxn_mapping.append(rxn)\n",
    "    else:\n",
    "        pass\n",
    "            "
   ]
  },
  {
   "cell_type": "code",
   "execution_count": 8,
   "metadata": {},
   "outputs": [
    {
     "name": "stdout",
     "output_type": "stream",
     "text": [
      "y000082 {'c'} PMI12346PH\n",
      "y000092 {'c'} PMI12346PH\n",
      "y000547 {'c'} HSDH\n",
      "y002112 {'c'} FKYNH\n",
      "y002115 {'c'} ALCD2ir\n",
      "y002116 {'c'} ALDD2y\n",
      "y002118 {'c'} TRPTA\n",
      "y002119 {'c'} TYRTA\n",
      "y200018 {'c'} AATA\n",
      "y200019 {'c'} DPR\n",
      "y200020 {'c'} DDPA\n",
      "y200023 {'c'} IMDHT\n",
      "y200024 {'c'} IPPS\n",
      "y200025 {'c'} IPPS\n",
      "y200029 {'c'} OMCDC\n",
      "y200030 {'c'} OMCDC\n",
      "y200032 {'c'} BPNT\n",
      "y200033 {'c'} APNn\n",
      "y200036 {'c'} GCPN\n",
      "y300007 {'c'} PRICIh\n",
      "y300023 {'c'} IMDHT\n",
      "y300024 {'c'} IPPS\n",
      "y300025 {'c'} IPPS\n",
      "y300026 {'c'} ARAT\n",
      "y300032 {'c'} BPNT\n",
      "y300033 {'c'} APNn\n",
      "y300036 {'c'} GCPN\n",
      "y300038 {'c'} DB4PS\n",
      "y300039 {'c'} DHQTi\n",
      "y300040 {'c'} DHQS\n",
      "y300042 {'c'} DDPA\n",
      "y300058 {'c'} 3HAO\n",
      "y300060 {'c'} IMDHT_3c2hmp\n",
      "y300061 {'c'} IPMD\n",
      "y300062 {'c'} 3MOBDC\n",
      "y300064 {'c'} 3MOPDC\n",
      "y300065 {'c'} PSCIT\n",
      "y300066 {'c'} ADCS\n",
      "y300067 {'c'} ADCL\n",
      "y300068 {'c'} ABTA\n",
      "y300069 {'c'} 4HTHRS\n",
      "y300073 {'c'} PMI12346PH\n",
      "y300075 {'c'} MTAP\n",
      "y300076 {'c'} NTD4\n",
      "y300078 {'c'} NTD2\n"
     ]
    }
   ],
   "source": [
    "for x in duplicate_rxn_mapping:\n",
    "    print(x.id, x.compartments, x.annotation[\"bigg.reaction\"])"
   ]
  },
  {
   "cell_type": "code",
   "execution_count": 12,
   "metadata": {},
   "outputs": [],
   "source": [
    "from cobra.io import save_yaml_model, write_sbml_model"
   ]
  },
  {
   "cell_type": "code",
   "execution_count": 13,
   "metadata": {},
   "outputs": [],
   "source": [
    "write_sbml_model(yali, \"Yarrowia_lipolytica_W29-GEM/ModelFiles/xml/iYali.xml\")\n",
    "save_yaml_model(yali, \"Yarrowia_lipolytica_W29-GEM/ModelFiles/yml/iYali.yml\", sort=True)"
   ]
  },
  {
   "cell_type": "code",
   "execution_count": null,
   "metadata": {},
   "outputs": [],
   "source": []
  }
 ],
 "metadata": {
  "kernelspec": {
   "display_name": "Cobra Debug",
   "language": "python",
   "name": "cobra-debug"
  },
  "language_info": {
   "codemirror_mode": {
    "name": "ipython",
    "version": 3
   },
   "file_extension": ".py",
   "mimetype": "text/x-python",
   "name": "python",
   "nbconvert_exporter": "python",
   "pygments_lexer": "ipython3",
   "version": "3.6.8"
  }
 },
 "nbformat": 4,
 "nbformat_minor": 2
}
